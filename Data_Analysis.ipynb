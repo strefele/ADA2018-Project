{
 "cells": [
  {
   "cell_type": "code",
   "execution_count": 1,
   "metadata": {},
   "outputs": [],
   "source": [
    "import pandas as pd\n",
    "import numpy as np\n",
    "%matplotlib inline\n",
    "import matplotlib.pyplot as plt\n",
    "import re"
   ]
  },
  {
   "cell_type": "code",
   "execution_count": 2,
   "metadata": {},
   "outputs": [],
   "source": [
    "DATA_FOLDER = 'data'"
   ]
  },
  {
   "cell_type": "code",
   "execution_count": 3,
   "metadata": {},
   "outputs": [],
   "source": [
    "dinner_nutrients_df = pd.read_csv('dinner_nutrient.csv')\n",
    "dinner_ingredients_df = pd.read_csv('dinner_ingredient.csv')\n",
    "\n",
    "brunch_nutrients_first = pd.read_csv('brunch_nutrient_1-120.csv')\n",
    "brunch_nutrients_next = pd.read_csv('brunch_nutrient_121-524.csv')\n",
    "brunch_ingredients_first = pd.read_csv('brunch_ingredient_1-120.csv')\n",
    "brunch_ingredients_next = pd.read_csv('brunch_ingredient_121-524.csv')\n",
    "\n",
    "vege_nutrients_df = pd.read_csv('vegetarian_nutrient.csv')\n",
    "vege_ingredients_df = pd.read_csv('vegetarian_ingredient.csv')"
   ]
  },
  {
   "cell_type": "code",
   "execution_count": 148,
   "metadata": {},
   "outputs": [],
   "source": [
    "daily_values = pd.read_csv('data/DailyValues', sep=':', header=None, names=['nutrient', 'unit', 'amount'])"
   ]
  },
  {
   "cell_type": "markdown",
   "metadata": {},
   "source": [
    "## What we need to do\n",
    "\n",
    "**Cleaning:**\n",
    "1. Make quantities of nutrients into integers (while respecting units)\n",
    "\n",
    "**Analysis:**\n",
    "1. Plot histograms of the quantity of a given nutrient thoughout the vegetarian recipes\n",
    "2. Calculate median and mode (= most common value)\n",
    "3. Compare these with the FDA recommendation. NOTE this needs to be per serving\n",
    "4. Calculate median and mode from omnivorous dataset. For large differences with the vegetarian data, also view histogram. Compare together and with FDA.\n",
    "5. For vegetarian histograms with large discrepencies (some recipes with high levels of nutrient, others with low levels), cross-reference ingredients to see what may be responsible for providing the nutrient.\n",
    "\n",
    "**Visualization of results:**\n",
    "1. It would be good to plot the FDA recommendation on the histogram, also median and mode"
   ]
  },
  {
   "cell_type": "markdown",
   "metadata": {},
   "source": [
    "### Lets explore the data and do some cleaning"
   ]
  },
  {
   "cell_type": "code",
   "execution_count": 4,
   "metadata": {
    "scrolled": false
   },
   "outputs": [
    {
     "data": {
      "text/html": [
       "<div>\n",
       "<style scoped>\n",
       "    .dataframe tbody tr th:only-of-type {\n",
       "        vertical-align: middle;\n",
       "    }\n",
       "\n",
       "    .dataframe tbody tr th {\n",
       "        vertical-align: top;\n",
       "    }\n",
       "\n",
       "    .dataframe thead th {\n",
       "        text-align: right;\n",
       "    }\n",
       "</style>\n",
       "<table border=\"1\" class=\"dataframe\">\n",
       "  <thead>\n",
       "    <tr style=\"text-align: right;\">\n",
       "      <th></th>\n",
       "      <th>Unnamed: 0</th>\n",
       "      <th>URL</th>\n",
       "      <th>amount</th>\n",
       "      <th>nutrient</th>\n",
       "      <th>recipe</th>\n",
       "    </tr>\n",
       "  </thead>\n",
       "  <tbody>\n",
       "    <tr>\n",
       "      <th>0</th>\n",
       "      <td>0</td>\n",
       "      <td>https://www.allrecipes.com/recipe/222607/smoth...</td>\n",
       "      <td>20.1g</td>\n",
       "      <td>Total Fat</td>\n",
       "      <td>Smothered Chicken Breasts</td>\n",
       "    </tr>\n",
       "    <tr>\n",
       "      <th>1</th>\n",
       "      <td>1</td>\n",
       "      <td>https://www.allrecipes.com/recipe/222607/smoth...</td>\n",
       "      <td>8.0g</td>\n",
       "      <td>Saturated Fat</td>\n",
       "      <td>Smothered Chicken Breasts</td>\n",
       "    </tr>\n",
       "    <tr>\n",
       "      <th>2</th>\n",
       "      <td>2</td>\n",
       "      <td>https://www.allrecipes.com/recipe/222607/smoth...</td>\n",
       "      <td>124mg</td>\n",
       "      <td>Cholesterol</td>\n",
       "      <td>Smothered Chicken Breasts</td>\n",
       "    </tr>\n",
       "    <tr>\n",
       "      <th>3</th>\n",
       "      <td>3</td>\n",
       "      <td>https://www.allrecipes.com/recipe/222607/smoth...</td>\n",
       "      <td>809mg</td>\n",
       "      <td>Sodium</td>\n",
       "      <td>Smothered Chicken Breasts</td>\n",
       "    </tr>\n",
       "    <tr>\n",
       "      <th>4</th>\n",
       "      <td>4</td>\n",
       "      <td>https://www.allrecipes.com/recipe/222607/smoth...</td>\n",
       "      <td>377mg</td>\n",
       "      <td>Potassium</td>\n",
       "      <td>Smothered Chicken Breasts</td>\n",
       "    </tr>\n",
       "    <tr>\n",
       "      <th>5</th>\n",
       "      <td>5</td>\n",
       "      <td>https://www.allrecipes.com/recipe/222607/smoth...</td>\n",
       "      <td>16.9g</td>\n",
       "      <td>Total Carbohydrates</td>\n",
       "      <td>Smothered Chicken Breasts</td>\n",
       "    </tr>\n",
       "    <tr>\n",
       "      <th>6</th>\n",
       "      <td>6</td>\n",
       "      <td>https://www.allrecipes.com/recipe/222607/smoth...</td>\n",
       "      <td>0.5g</td>\n",
       "      <td>Dietary Fiber</td>\n",
       "      <td>Smothered Chicken Breasts</td>\n",
       "    </tr>\n",
       "    <tr>\n",
       "      <th>7</th>\n",
       "      <td>7</td>\n",
       "      <td>https://www.allrecipes.com/recipe/222607/smoth...</td>\n",
       "      <td>44g</td>\n",
       "      <td>Protein</td>\n",
       "      <td>Smothered Chicken Breasts</td>\n",
       "    </tr>\n",
       "    <tr>\n",
       "      <th>8</th>\n",
       "      <td>8</td>\n",
       "      <td>https://www.allrecipes.com/recipe/222607/smoth...</td>\n",
       "      <td>15g</td>\n",
       "      <td>Sugars</td>\n",
       "      <td>Smothered Chicken Breasts</td>\n",
       "    </tr>\n",
       "    <tr>\n",
       "      <th>9</th>\n",
       "      <td>9</td>\n",
       "      <td>https://www.allrecipes.com/recipe/222607/smoth...</td>\n",
       "      <td>29IU</td>\n",
       "      <td>Vitamin A</td>\n",
       "      <td>Smothered Chicken Breasts</td>\n",
       "    </tr>\n",
       "    <tr>\n",
       "      <th>10</th>\n",
       "      <td>10</td>\n",
       "      <td>https://www.allrecipes.com/recipe/222607/smoth...</td>\n",
       "      <td>2mg</td>\n",
       "      <td>Vitamin C</td>\n",
       "      <td>Smothered Chicken Breasts</td>\n",
       "    </tr>\n",
       "    <tr>\n",
       "      <th>11</th>\n",
       "      <td>11</td>\n",
       "      <td>https://www.allrecipes.com/recipe/222607/smoth...</td>\n",
       "      <td>35mg</td>\n",
       "      <td>Calcium</td>\n",
       "      <td>Smothered Chicken Breasts</td>\n",
       "    </tr>\n",
       "    <tr>\n",
       "      <th>12</th>\n",
       "      <td>12</td>\n",
       "      <td>https://www.allrecipes.com/recipe/222607/smoth...</td>\n",
       "      <td>1mg</td>\n",
       "      <td>Iron</td>\n",
       "      <td>Smothered Chicken Breasts</td>\n",
       "    </tr>\n",
       "    <tr>\n",
       "      <th>13</th>\n",
       "      <td>13</td>\n",
       "      <td>https://www.allrecipes.com/recipe/222607/smoth...</td>\n",
       "      <td>0mg</td>\n",
       "      <td>Thiamin</td>\n",
       "      <td>Smothered Chicken Breasts</td>\n",
       "    </tr>\n",
       "    <tr>\n",
       "      <th>14</th>\n",
       "      <td>14</td>\n",
       "      <td>https://www.allrecipes.com/recipe/222607/smoth...</td>\n",
       "      <td>19mg</td>\n",
       "      <td>Niacin</td>\n",
       "      <td>Smothered Chicken Breasts</td>\n",
       "    </tr>\n",
       "    <tr>\n",
       "      <th>15</th>\n",
       "      <td>15</td>\n",
       "      <td>https://www.allrecipes.com/recipe/222607/smoth...</td>\n",
       "      <td>0mg</td>\n",
       "      <td>Vitamin B6</td>\n",
       "      <td>Smothered Chicken Breasts</td>\n",
       "    </tr>\n",
       "    <tr>\n",
       "      <th>16</th>\n",
       "      <td>16</td>\n",
       "      <td>https://www.allrecipes.com/recipe/222607/smoth...</td>\n",
       "      <td>38mg</td>\n",
       "      <td>Magnesium</td>\n",
       "      <td>Smothered Chicken Breasts</td>\n",
       "    </tr>\n",
       "    <tr>\n",
       "      <th>17</th>\n",
       "      <td>17</td>\n",
       "      <td>https://www.allrecipes.com/recipe/222607/smoth...</td>\n",
       "      <td>9mcg</td>\n",
       "      <td>Folate</td>\n",
       "      <td>Smothered Chicken Breasts</td>\n",
       "    </tr>\n",
       "    <tr>\n",
       "      <th>18</th>\n",
       "      <td>0</td>\n",
       "      <td>https://www.allrecipes.com/recipe/15679/asian-...</td>\n",
       "      <td>10g</td>\n",
       "      <td>Total Fat</td>\n",
       "      <td>Asian Beef with Snow Peas</td>\n",
       "    </tr>\n",
       "    <tr>\n",
       "      <th>19</th>\n",
       "      <td>1</td>\n",
       "      <td>https://www.allrecipes.com/recipe/15679/asian-...</td>\n",
       "      <td>3.0g</td>\n",
       "      <td>Saturated Fat</td>\n",
       "      <td>Asian Beef with Snow Peas</td>\n",
       "    </tr>\n",
       "  </tbody>\n",
       "</table>\n",
       "</div>"
      ],
      "text/plain": [
       "    Unnamed: 0                                                URL amount  \\\n",
       "0            0  https://www.allrecipes.com/recipe/222607/smoth...  20.1g   \n",
       "1            1  https://www.allrecipes.com/recipe/222607/smoth...   8.0g   \n",
       "2            2  https://www.allrecipes.com/recipe/222607/smoth...  124mg   \n",
       "3            3  https://www.allrecipes.com/recipe/222607/smoth...  809mg   \n",
       "4            4  https://www.allrecipes.com/recipe/222607/smoth...  377mg   \n",
       "5            5  https://www.allrecipes.com/recipe/222607/smoth...  16.9g   \n",
       "6            6  https://www.allrecipes.com/recipe/222607/smoth...   0.5g   \n",
       "7            7  https://www.allrecipes.com/recipe/222607/smoth...    44g   \n",
       "8            8  https://www.allrecipes.com/recipe/222607/smoth...    15g   \n",
       "9            9  https://www.allrecipes.com/recipe/222607/smoth...   29IU   \n",
       "10          10  https://www.allrecipes.com/recipe/222607/smoth...    2mg   \n",
       "11          11  https://www.allrecipes.com/recipe/222607/smoth...   35mg   \n",
       "12          12  https://www.allrecipes.com/recipe/222607/smoth...    1mg   \n",
       "13          13  https://www.allrecipes.com/recipe/222607/smoth...    0mg   \n",
       "14          14  https://www.allrecipes.com/recipe/222607/smoth...   19mg   \n",
       "15          15  https://www.allrecipes.com/recipe/222607/smoth...    0mg   \n",
       "16          16  https://www.allrecipes.com/recipe/222607/smoth...   38mg   \n",
       "17          17  https://www.allrecipes.com/recipe/222607/smoth...   9mcg   \n",
       "18           0  https://www.allrecipes.com/recipe/15679/asian-...    10g   \n",
       "19           1  https://www.allrecipes.com/recipe/15679/asian-...   3.0g   \n",
       "\n",
       "               nutrient                     recipe  \n",
       "0             Total Fat  Smothered Chicken Breasts  \n",
       "1         Saturated Fat  Smothered Chicken Breasts  \n",
       "2           Cholesterol  Smothered Chicken Breasts  \n",
       "3                Sodium  Smothered Chicken Breasts  \n",
       "4             Potassium  Smothered Chicken Breasts  \n",
       "5   Total Carbohydrates  Smothered Chicken Breasts  \n",
       "6         Dietary Fiber  Smothered Chicken Breasts  \n",
       "7               Protein  Smothered Chicken Breasts  \n",
       "8                Sugars  Smothered Chicken Breasts  \n",
       "9             Vitamin A  Smothered Chicken Breasts  \n",
       "10            Vitamin C  Smothered Chicken Breasts  \n",
       "11              Calcium  Smothered Chicken Breasts  \n",
       "12                 Iron  Smothered Chicken Breasts  \n",
       "13              Thiamin  Smothered Chicken Breasts  \n",
       "14               Niacin  Smothered Chicken Breasts  \n",
       "15           Vitamin B6  Smothered Chicken Breasts  \n",
       "16            Magnesium  Smothered Chicken Breasts  \n",
       "17               Folate  Smothered Chicken Breasts  \n",
       "18            Total Fat  Asian Beef with Snow Peas  \n",
       "19        Saturated Fat  Asian Beef with Snow Peas  "
      ]
     },
     "execution_count": 4,
     "metadata": {},
     "output_type": "execute_result"
    }
   ],
   "source": [
    "dinner_nutrients_df.head(20)"
   ]
  },
  {
   "cell_type": "markdown",
   "metadata": {},
   "source": [
    "We wonder if the amounts for each nutrient always have the same units. Lets verify with Sodium since this is likely to vary a lot. Below only 'head' is displayed, but we checked throughout the dataset."
   ]
  },
  {
   "cell_type": "code",
   "execution_count": 5,
   "metadata": {},
   "outputs": [],
   "source": [
    "dinner_nutrients_df = dinner_nutrients_df.drop([\"Unnamed: 0\"], axis=1)\n",
    "dinner_ingredients_df = dinner_ingredients_df.drop([\"Unnamed: 0\"], axis=1)"
   ]
  },
  {
   "cell_type": "code",
   "execution_count": 6,
   "metadata": {},
   "outputs": [
    {
     "data": {
      "text/html": [
       "<div>\n",
       "<style scoped>\n",
       "    .dataframe tbody tr th:only-of-type {\n",
       "        vertical-align: middle;\n",
       "    }\n",
       "\n",
       "    .dataframe tbody tr th {\n",
       "        vertical-align: top;\n",
       "    }\n",
       "\n",
       "    .dataframe thead th {\n",
       "        text-align: right;\n",
       "    }\n",
       "</style>\n",
       "<table border=\"1\" class=\"dataframe\">\n",
       "  <thead>\n",
       "    <tr style=\"text-align: right;\">\n",
       "      <th></th>\n",
       "      <th>URL</th>\n",
       "      <th>amount</th>\n",
       "      <th>nutrient</th>\n",
       "      <th>recipe</th>\n",
       "    </tr>\n",
       "  </thead>\n",
       "  <tbody>\n",
       "    <tr>\n",
       "      <th>0</th>\n",
       "      <td>https://www.allrecipes.com/recipe/222607/smoth...</td>\n",
       "      <td>809mg</td>\n",
       "      <td>Sodium</td>\n",
       "      <td>Smothered Chicken Breasts</td>\n",
       "    </tr>\n",
       "    <tr>\n",
       "      <th>1</th>\n",
       "      <td>https://www.allrecipes.com/recipe/15679/asian-...</td>\n",
       "      <td>711mg</td>\n",
       "      <td>Sodium</td>\n",
       "      <td>Asian Beef with Snow Peas</td>\n",
       "    </tr>\n",
       "    <tr>\n",
       "      <th>2</th>\n",
       "      <td>https://www.allrecipes.com/recipe/23847/pasta-...</td>\n",
       "      <td>350mg</td>\n",
       "      <td>Sodium</td>\n",
       "      <td>Pasta Pomodoro</td>\n",
       "    </tr>\n",
       "    <tr>\n",
       "      <th>3</th>\n",
       "      <td>https://www.allrecipes.com/recipe/50435/fry-br...</td>\n",
       "      <td>2255mg</td>\n",
       "      <td>Sodium</td>\n",
       "      <td>Fry Bread Tacos II</td>\n",
       "    </tr>\n",
       "    <tr>\n",
       "      <th>4</th>\n",
       "      <td>https://www.allrecipes.com/recipe/140829/pork-...</td>\n",
       "      <td>356mg</td>\n",
       "      <td>Sodium</td>\n",
       "      <td>Pork Marsala</td>\n",
       "    </tr>\n",
       "  </tbody>\n",
       "</table>\n",
       "</div>"
      ],
      "text/plain": [
       "                                                 URL  amount nutrient  \\\n",
       "0  https://www.allrecipes.com/recipe/222607/smoth...   809mg   Sodium   \n",
       "1  https://www.allrecipes.com/recipe/15679/asian-...   711mg   Sodium   \n",
       "2  https://www.allrecipes.com/recipe/23847/pasta-...   350mg   Sodium   \n",
       "3  https://www.allrecipes.com/recipe/50435/fry-br...  2255mg   Sodium   \n",
       "4  https://www.allrecipes.com/recipe/140829/pork-...   356mg   Sodium   \n",
       "\n",
       "                      recipe  \n",
       "0  Smothered Chicken Breasts  \n",
       "1  Asian Beef with Snow Peas  \n",
       "2             Pasta Pomodoro  \n",
       "3         Fry Bread Tacos II  \n",
       "4               Pork Marsala  "
      ]
     },
     "execution_count": 6,
     "metadata": {},
     "output_type": "execute_result"
    }
   ],
   "source": [
    "sodium = dinner_nutrients_df.where(dinner_nutrients_df['nutrient'] == \"Sodium\")\n",
    "sodium = sodium.dropna()\n",
    "sodium = sodium.reset_index(drop=True)\n",
    "sodium.head()"
   ]
  },
  {
   "cell_type": "markdown",
   "metadata": {},
   "source": [
    "The unit is the same for each value of a given nutrient, therefore we can drop these letters without worry.\n",
    "\n",
    "Vitamin A will be completely ignored since it is given in IU. This unit will no longer be valid from 2021. In addition, it cannot be converted into micrograms since this depends on its origin: retinol (pre-formed vitamin A) or beta-carotene (a precursor)."
   ]
  },
  {
   "cell_type": "code",
   "execution_count": 7,
   "metadata": {},
   "outputs": [],
   "source": [
    "dinner_nutrients_df = dinner_nutrients_df[dinner_nutrients_df.nutrient != \"Vitamin A\"]"
   ]
  },
  {
   "cell_type": "code",
   "execution_count": 8,
   "metadata": {},
   "outputs": [
    {
     "data": {
      "text/html": [
       "<div>\n",
       "<style scoped>\n",
       "    .dataframe tbody tr th:only-of-type {\n",
       "        vertical-align: middle;\n",
       "    }\n",
       "\n",
       "    .dataframe tbody tr th {\n",
       "        vertical-align: top;\n",
       "    }\n",
       "\n",
       "    .dataframe thead th {\n",
       "        text-align: right;\n",
       "    }\n",
       "</style>\n",
       "<table border=\"1\" class=\"dataframe\">\n",
       "  <thead>\n",
       "    <tr style=\"text-align: right;\">\n",
       "      <th></th>\n",
       "      <th>URL</th>\n",
       "      <th>amount</th>\n",
       "      <th>nutrient</th>\n",
       "      <th>recipe</th>\n",
       "    </tr>\n",
       "  </thead>\n",
       "  <tbody>\n",
       "    <tr>\n",
       "      <th>0</th>\n",
       "      <td>https://www.allrecipes.com/recipe/222607/smoth...</td>\n",
       "      <td>20.1g</td>\n",
       "      <td>Total Fat</td>\n",
       "      <td>Smothered Chicken Breasts</td>\n",
       "    </tr>\n",
       "    <tr>\n",
       "      <th>1</th>\n",
       "      <td>https://www.allrecipes.com/recipe/222607/smoth...</td>\n",
       "      <td>8.0g</td>\n",
       "      <td>Saturated Fat</td>\n",
       "      <td>Smothered Chicken Breasts</td>\n",
       "    </tr>\n",
       "    <tr>\n",
       "      <th>2</th>\n",
       "      <td>https://www.allrecipes.com/recipe/222607/smoth...</td>\n",
       "      <td>124mg</td>\n",
       "      <td>Cholesterol</td>\n",
       "      <td>Smothered Chicken Breasts</td>\n",
       "    </tr>\n",
       "    <tr>\n",
       "      <th>3</th>\n",
       "      <td>https://www.allrecipes.com/recipe/222607/smoth...</td>\n",
       "      <td>809mg</td>\n",
       "      <td>Sodium</td>\n",
       "      <td>Smothered Chicken Breasts</td>\n",
       "    </tr>\n",
       "    <tr>\n",
       "      <th>4</th>\n",
       "      <td>https://www.allrecipes.com/recipe/222607/smoth...</td>\n",
       "      <td>377mg</td>\n",
       "      <td>Potassium</td>\n",
       "      <td>Smothered Chicken Breasts</td>\n",
       "    </tr>\n",
       "  </tbody>\n",
       "</table>\n",
       "</div>"
      ],
      "text/plain": [
       "                                                 URL amount       nutrient  \\\n",
       "0  https://www.allrecipes.com/recipe/222607/smoth...  20.1g      Total Fat   \n",
       "1  https://www.allrecipes.com/recipe/222607/smoth...   8.0g  Saturated Fat   \n",
       "2  https://www.allrecipes.com/recipe/222607/smoth...  124mg    Cholesterol   \n",
       "3  https://www.allrecipes.com/recipe/222607/smoth...  809mg         Sodium   \n",
       "4  https://www.allrecipes.com/recipe/222607/smoth...  377mg      Potassium   \n",
       "\n",
       "                      recipe  \n",
       "0  Smothered Chicken Breasts  \n",
       "1  Smothered Chicken Breasts  \n",
       "2  Smothered Chicken Breasts  \n",
       "3  Smothered Chicken Breasts  \n",
       "4  Smothered Chicken Breasts  "
      ]
     },
     "execution_count": 8,
     "metadata": {},
     "output_type": "execute_result"
    }
   ],
   "source": [
    "dinner_nutrients_df.head()"
   ]
  },
  {
   "cell_type": "code",
   "execution_count": 9,
   "metadata": {},
   "outputs": [
    {
     "data": {
      "text/plain": [
       "URL          object\n",
       "amount      float64\n",
       "nutrient     object\n",
       "recipe       object\n",
       "dtype: object"
      ]
     },
     "execution_count": 9,
     "metadata": {},
     "output_type": "execute_result"
    }
   ],
   "source": [
    "#Remove the letters m, c, g, I, U from the string amount and convert it to a float\n",
    "dinner_nutrients_df.amount = dinner_nutrients_df.amount.apply(lambda x: re.sub('[mcgIU]','', x))\n",
    "dinner_nutrients_df.amount = dinner_nutrients_df.amount.replace(to_replace='< 1', value='0')\n",
    "dinner_nutrients_df.amount = dinner_nutrients_df.amount.astype(float)\n",
    "dinner_nutrients_df.dtypes"
   ]
  },
  {
   "cell_type": "markdown",
   "metadata": {},
   "source": [
    "Now lets simplify the datasets"
   ]
  },
  {
   "cell_type": "code",
   "execution_count": 10,
   "metadata": {},
   "outputs": [
    {
     "data": {
      "text/html": [
       "<div>\n",
       "<style scoped>\n",
       "    .dataframe tbody tr th:only-of-type {\n",
       "        vertical-align: middle;\n",
       "    }\n",
       "\n",
       "    .dataframe tbody tr th {\n",
       "        vertical-align: top;\n",
       "    }\n",
       "\n",
       "    .dataframe thead th {\n",
       "        text-align: right;\n",
       "    }\n",
       "</style>\n",
       "<table border=\"1\" class=\"dataframe\">\n",
       "  <thead>\n",
       "    <tr style=\"text-align: right;\">\n",
       "      <th></th>\n",
       "      <th>ingredient</th>\n",
       "      <th>recipe_id</th>\n",
       "    </tr>\n",
       "  </thead>\n",
       "  <tbody>\n",
       "    <tr>\n",
       "      <th>0</th>\n",
       "      <td>4 (6 ounce) skinless, boneless chicken breast ...</td>\n",
       "      <td>222607</td>\n",
       "    </tr>\n",
       "    <tr>\n",
       "      <th>1</th>\n",
       "      <td>1/4 teaspoon salt</td>\n",
       "      <td>222607</td>\n",
       "    </tr>\n",
       "    <tr>\n",
       "      <th>2</th>\n",
       "      <td>1/4 teaspoon lemon pepper seasoning</td>\n",
       "      <td>222607</td>\n",
       "    </tr>\n",
       "    <tr>\n",
       "      <th>3</th>\n",
       "      <td>1 tablespoon vegetable oil</td>\n",
       "      <td>222607</td>\n",
       "    </tr>\n",
       "    <tr>\n",
       "      <th>4</th>\n",
       "      <td>8 strips bacon</td>\n",
       "      <td>222607</td>\n",
       "    </tr>\n",
       "  </tbody>\n",
       "</table>\n",
       "</div>"
      ],
      "text/plain": [
       "                                          ingredient recipe_id\n",
       "0  4 (6 ounce) skinless, boneless chicken breast ...    222607\n",
       "1                                  1/4 teaspoon salt    222607\n",
       "2                1/4 teaspoon lemon pepper seasoning    222607\n",
       "3                         1 tablespoon vegetable oil    222607\n",
       "4                                     8 strips bacon    222607"
      ]
     },
     "execution_count": 10,
     "metadata": {},
     "output_type": "execute_result"
    }
   ],
   "source": [
    "#We can identify recipes by their ID\n",
    "recipe_id = dinner_ingredients_df[\"URL\"].str.extract(r'https://www.allrecipes.com/recipe/(\\d+)/.+')\n",
    "dinner_ingredients_df[\"recipe_id\"] = recipe_id\n",
    "dinner_ingredients_df = dinner_ingredients_df.drop([\"URL\"], axis=1)\n",
    "dinner_ingredients_df.head()"
   ]
  },
  {
   "cell_type": "code",
   "execution_count": 11,
   "metadata": {},
   "outputs": [
    {
     "name": "stdout",
     "output_type": "stream",
     "text": [
      "We have: 1152 recipes in the ingredient dataframe.\n"
     ]
    }
   ],
   "source": [
    "print(\"We have: \" + str(len(dinner_ingredients_df[\"recipe_id\"].unique())) + \" recipes in the ingredient dataframe.\")"
   ]
  },
  {
   "cell_type": "code",
   "execution_count": 12,
   "metadata": {},
   "outputs": [
    {
     "data": {
      "text/html": [
       "<div>\n",
       "<style scoped>\n",
       "    .dataframe tbody tr th:only-of-type {\n",
       "        vertical-align: middle;\n",
       "    }\n",
       "\n",
       "    .dataframe tbody tr th {\n",
       "        vertical-align: top;\n",
       "    }\n",
       "\n",
       "    .dataframe thead th {\n",
       "        text-align: right;\n",
       "    }\n",
       "</style>\n",
       "<table border=\"1\" class=\"dataframe\">\n",
       "  <thead>\n",
       "    <tr style=\"text-align: right;\">\n",
       "      <th></th>\n",
       "      <th>URL</th>\n",
       "      <th>amount</th>\n",
       "      <th>nutrient</th>\n",
       "      <th>recipe</th>\n",
       "      <th>recipe_id</th>\n",
       "    </tr>\n",
       "  </thead>\n",
       "  <tbody>\n",
       "    <tr>\n",
       "      <th>0</th>\n",
       "      <td>https://www.allrecipes.com/recipe/222607/smoth...</td>\n",
       "      <td>20.1</td>\n",
       "      <td>Total Fat</td>\n",
       "      <td>Smothered Chicken Breasts</td>\n",
       "      <td>222607</td>\n",
       "    </tr>\n",
       "    <tr>\n",
       "      <th>1</th>\n",
       "      <td>https://www.allrecipes.com/recipe/222607/smoth...</td>\n",
       "      <td>8.0</td>\n",
       "      <td>Saturated Fat</td>\n",
       "      <td>Smothered Chicken Breasts</td>\n",
       "      <td>222607</td>\n",
       "    </tr>\n",
       "    <tr>\n",
       "      <th>2</th>\n",
       "      <td>https://www.allrecipes.com/recipe/222607/smoth...</td>\n",
       "      <td>124.0</td>\n",
       "      <td>Cholesterol</td>\n",
       "      <td>Smothered Chicken Breasts</td>\n",
       "      <td>222607</td>\n",
       "    </tr>\n",
       "    <tr>\n",
       "      <th>3</th>\n",
       "      <td>https://www.allrecipes.com/recipe/222607/smoth...</td>\n",
       "      <td>809.0</td>\n",
       "      <td>Sodium</td>\n",
       "      <td>Smothered Chicken Breasts</td>\n",
       "      <td>222607</td>\n",
       "    </tr>\n",
       "    <tr>\n",
       "      <th>4</th>\n",
       "      <td>https://www.allrecipes.com/recipe/222607/smoth...</td>\n",
       "      <td>377.0</td>\n",
       "      <td>Potassium</td>\n",
       "      <td>Smothered Chicken Breasts</td>\n",
       "      <td>222607</td>\n",
       "    </tr>\n",
       "  </tbody>\n",
       "</table>\n",
       "</div>"
      ],
      "text/plain": [
       "                                                 URL  amount       nutrient  \\\n",
       "0  https://www.allrecipes.com/recipe/222607/smoth...    20.1      Total Fat   \n",
       "1  https://www.allrecipes.com/recipe/222607/smoth...     8.0  Saturated Fat   \n",
       "2  https://www.allrecipes.com/recipe/222607/smoth...   124.0    Cholesterol   \n",
       "3  https://www.allrecipes.com/recipe/222607/smoth...   809.0         Sodium   \n",
       "4  https://www.allrecipes.com/recipe/222607/smoth...   377.0      Potassium   \n",
       "\n",
       "                      recipe recipe_id  \n",
       "0  Smothered Chicken Breasts    222607  \n",
       "1  Smothered Chicken Breasts    222607  \n",
       "2  Smothered Chicken Breasts    222607  \n",
       "3  Smothered Chicken Breasts    222607  \n",
       "4  Smothered Chicken Breasts    222607  "
      ]
     },
     "execution_count": 12,
     "metadata": {},
     "output_type": "execute_result"
    }
   ],
   "source": [
    "recipe_id = dinner_nutrients_df[\"URL\"].str.extract(r'https://www.allrecipes.com/recipe/(\\d+)/.+')\n",
    "dinner_nutrients_df[\"recipe_id\"] = recipe_id\n",
    "dinner_nutrients_df.head()"
   ]
  },
  {
   "cell_type": "code",
   "execution_count": 13,
   "metadata": {},
   "outputs": [
    {
     "name": "stdout",
     "output_type": "stream",
     "text": [
      "We have in total: 1128 different recipes with nutrition info      for dinner\n"
     ]
    },
    {
     "data": {
      "text/html": [
       "<div>\n",
       "<style scoped>\n",
       "    .dataframe tbody tr th:only-of-type {\n",
       "        vertical-align: middle;\n",
       "    }\n",
       "\n",
       "    .dataframe tbody tr th {\n",
       "        vertical-align: top;\n",
       "    }\n",
       "\n",
       "    .dataframe thead th {\n",
       "        text-align: right;\n",
       "    }\n",
       "</style>\n",
       "<table border=\"1\" class=\"dataframe\">\n",
       "  <thead>\n",
       "    <tr style=\"text-align: right;\">\n",
       "      <th></th>\n",
       "      <th>recipe</th>\n",
       "      <th>URL</th>\n",
       "    </tr>\n",
       "    <tr>\n",
       "      <th>recipe_id</th>\n",
       "      <th></th>\n",
       "      <th></th>\n",
       "    </tr>\n",
       "  </thead>\n",
       "  <tbody>\n",
       "    <tr>\n",
       "      <th>222607</th>\n",
       "      <td>Smothered Chicken Breasts</td>\n",
       "      <td>https://www.allrecipes.com/recipe/222607/smoth...</td>\n",
       "    </tr>\n",
       "    <tr>\n",
       "      <th>15679</th>\n",
       "      <td>Asian Beef with Snow Peas</td>\n",
       "      <td>https://www.allrecipes.com/recipe/15679/asian-...</td>\n",
       "    </tr>\n",
       "    <tr>\n",
       "      <th>23847</th>\n",
       "      <td>Pasta Pomodoro</td>\n",
       "      <td>https://www.allrecipes.com/recipe/23847/pasta-...</td>\n",
       "    </tr>\n",
       "    <tr>\n",
       "      <th>50435</th>\n",
       "      <td>Fry Bread Tacos II</td>\n",
       "      <td>https://www.allrecipes.com/recipe/50435/fry-br...</td>\n",
       "    </tr>\n",
       "    <tr>\n",
       "      <th>140829</th>\n",
       "      <td>Pork Marsala</td>\n",
       "      <td>https://www.allrecipes.com/recipe/140829/pork-...</td>\n",
       "    </tr>\n",
       "  </tbody>\n",
       "</table>\n",
       "</div>"
      ],
      "text/plain": [
       "                              recipe  \\\n",
       "recipe_id                              \n",
       "222607     Smothered Chicken Breasts   \n",
       "15679      Asian Beef with Snow Peas   \n",
       "23847                 Pasta Pomodoro   \n",
       "50435             Fry Bread Tacos II   \n",
       "140829                  Pork Marsala   \n",
       "\n",
       "                                                         URL  \n",
       "recipe_id                                                     \n",
       "222607     https://www.allrecipes.com/recipe/222607/smoth...  \n",
       "15679      https://www.allrecipes.com/recipe/15679/asian-...  \n",
       "23847      https://www.allrecipes.com/recipe/23847/pasta-...  \n",
       "50435      https://www.allrecipes.com/recipe/50435/fry-br...  \n",
       "140829     https://www.allrecipes.com/recipe/140829/pork-...  "
      ]
     },
     "execution_count": 13,
     "metadata": {},
     "output_type": "execute_result"
    }
   ],
   "source": [
    "# let's create a dataframe that contain all the different recipes for dinner with the corresponding name\n",
    "dinner_recipe_df = dinner_nutrients_df[[\"recipe_id\", \"recipe\", \"URL\"]].drop_duplicates()\n",
    "dinner_recipe_df = dinner_recipe_df.set_index(\"recipe_id\")\n",
    "print(\"We have in total: \" + str(dinner_recipe_df[\"recipe\"].count()) + \" different recipes with nutrition info\\\n",
    "      for dinner\")\n",
    "dinner_recipe_df.head()"
   ]
  },
  {
   "cell_type": "code",
   "execution_count": 14,
   "metadata": {},
   "outputs": [
    {
     "data": {
      "text/html": [
       "<div>\n",
       "<style scoped>\n",
       "    .dataframe tbody tr th:only-of-type {\n",
       "        vertical-align: middle;\n",
       "    }\n",
       "\n",
       "    .dataframe tbody tr th {\n",
       "        vertical-align: top;\n",
       "    }\n",
       "\n",
       "    .dataframe thead th {\n",
       "        text-align: right;\n",
       "    }\n",
       "</style>\n",
       "<table border=\"1\" class=\"dataframe\">\n",
       "  <thead>\n",
       "    <tr style=\"text-align: right;\">\n",
       "      <th></th>\n",
       "      <th>amount</th>\n",
       "      <th>nutrient</th>\n",
       "      <th>recipe_id</th>\n",
       "    </tr>\n",
       "  </thead>\n",
       "  <tbody>\n",
       "    <tr>\n",
       "      <th>0</th>\n",
       "      <td>20.1</td>\n",
       "      <td>Total Fat</td>\n",
       "      <td>222607</td>\n",
       "    </tr>\n",
       "    <tr>\n",
       "      <th>1</th>\n",
       "      <td>8.0</td>\n",
       "      <td>Saturated Fat</td>\n",
       "      <td>222607</td>\n",
       "    </tr>\n",
       "    <tr>\n",
       "      <th>2</th>\n",
       "      <td>124.0</td>\n",
       "      <td>Cholesterol</td>\n",
       "      <td>222607</td>\n",
       "    </tr>\n",
       "    <tr>\n",
       "      <th>3</th>\n",
       "      <td>809.0</td>\n",
       "      <td>Sodium</td>\n",
       "      <td>222607</td>\n",
       "    </tr>\n",
       "    <tr>\n",
       "      <th>4</th>\n",
       "      <td>377.0</td>\n",
       "      <td>Potassium</td>\n",
       "      <td>222607</td>\n",
       "    </tr>\n",
       "  </tbody>\n",
       "</table>\n",
       "</div>"
      ],
      "text/plain": [
       "   amount       nutrient recipe_id\n",
       "0    20.1      Total Fat    222607\n",
       "1     8.0  Saturated Fat    222607\n",
       "2   124.0    Cholesterol    222607\n",
       "3   809.0         Sodium    222607\n",
       "4   377.0      Potassium    222607"
      ]
     },
     "execution_count": 14,
     "metadata": {},
     "output_type": "execute_result"
    }
   ],
   "source": [
    "dinner_nutrients_df = dinner_nutrients_df.drop([\"URL\", \"recipe\"], axis=1)\n",
    "dinner_nutrients_df.head()"
   ]
  },
  {
   "cell_type": "markdown",
   "metadata": {},
   "source": [
    "We see that there are recipes that did not give the nutrient values. We ignore these ones by putting exclusively recipe IDs present in the nutrient dataframe into the dataframe linking recipes with URL and name."
   ]
  },
  {
   "cell_type": "markdown",
   "metadata": {},
   "source": [
    "**Now we can clean our other datasets easily **"
   ]
  },
  {
   "cell_type": "code",
   "execution_count": 15,
   "metadata": {},
   "outputs": [],
   "source": [
    "def clean_data(nutrients_df, ingredients_df):\n",
    "    \"\"\"\n",
    "    After exploration, we create a general function to clean all subsequent datasets\n",
    "    IN: nutrient and ingredient information, in dataframes\n",
    "    OUT: cleaned nutrient and ingredient dataframes + a new dataframe linking the URL, ID, and name of recipes\n",
    "    \"\"\"\n",
    "    \n",
    "    nutrients_df = nutrients_df.drop([\"Unnamed: 0\"], axis=1)\n",
    "    ingredients_df = ingredients_df.drop([\"Unnamed: 0\"], axis=1)\n",
    "    \n",
    "    #Drop vitamin A\n",
    "    nutrients_df = nutrients_df[nutrients_df.nutrient != \"Vitamin A\"]\n",
    "    \n",
    "    #Remove the letters m, c, g, I, U from the string amount and convert it to a float\n",
    "    nutrients_df.amount = nutrients_df.amount.apply(lambda x: re.sub('[mcgIU]','', x))\n",
    "    nutrients_df.amount = nutrients_df.amount.replace(to_replace='< 1', value='0')\n",
    "    nutrients_df.amount = nutrients_df.amount.astype(float)\n",
    "    \n",
    "    #Identification with ID\n",
    "    recipe_id = ingredients_df[\"URL\"].str.extract(r'https://www.allrecipes.com/recipe/(\\d+)/.+')\n",
    "    ingredients_df[\"recipe_id\"] = recipe_id\n",
    "    ingredients_df = ingredients_df.drop([\"URL\"], axis=1)\n",
    "    \n",
    "    recipe_id = nutrients_df[\"URL\"].str.extract(r'https://www.allrecipes.com/recipe/(\\d+)/.+')\n",
    "    nutrients_df[\"recipe_id\"] = recipe_id\n",
    "    \n",
    "    #Dataframe linking ID with URL and recipe name\n",
    "    recipe_df = nutrients_df[[\"recipe_id\", \"recipe\", \"URL\"]].drop_duplicates()\n",
    "    recipe_df = recipe_df.set_index(\"recipe_id\")\n",
    "    \n",
    "    nutrients_df = nutrients_df.drop([\"URL\", \"recipe\"], axis=1)\n",
    "    \n",
    "    return nutrients_df, ingredients_df, recipe_df"
   ]
  },
  {
   "cell_type": "code",
   "execution_count": 16,
   "metadata": {},
   "outputs": [],
   "source": [
    "brunch_nutrients_df = brunch_nutrients_first.append(brunch_nutrients_next)\n",
    "brunch_ingredients_df = brunch_ingredients_first.append(brunch_ingredients_next)\n",
    "brunch_recipes = []"
   ]
  },
  {
   "cell_type": "code",
   "execution_count": 17,
   "metadata": {},
   "outputs": [],
   "source": [
    "brunch_nutrients_df, brunch_ingredients_df, brunch_recipes = clean_data(brunch_nutrients_df, brunch_ingredients_df)"
   ]
  },
  {
   "cell_type": "code",
   "execution_count": 18,
   "metadata": {},
   "outputs": [],
   "source": [
    "vege_recipes = []\n",
    "vege_nutrients_df, vege_ingredients_df, vege_recipes = clean_data(vege_nutrients_df, vege_ingredients_df)"
   ]
  },
  {
   "cell_type": "markdown",
   "metadata": {},
   "source": [
    "### Nutrient histograms for vegetarian meals"
   ]
  },
  {
   "cell_type": "code",
   "execution_count": 172,
   "metadata": {},
   "outputs": [],
   "source": [
    "def nutrient_histogram(nutrients_df, name):\n",
    "    \"\"\"\n",
    "    Plot a histogram with the amount for a specified nutrient\n",
    "    IN: nutrient dataframe and name of the nutrient we want to plot\n",
    "    OUT: histogram with 20 bins for 'amount'\n",
    "    \"\"\"\n",
    "    nutrient = nutrients_df.where(nutrients_df['nutrient'] == name)\n",
    "    nutrient = nutrient.dropna()\n",
    "    nutrient = nutrient.reset_index(drop=True)\n",
    "    \n",
    "    recommended = daily_values.where(daily_values['nutrient'] == name)\n",
    "    recommended = recommended.dropna()\n",
    "    recommended = recommended.reset_index(drop=True)\n",
    "\n",
    "    graph = nutrient.hist(column='amount', bins=50);\n",
    "    plt.title(n)\n",
    "    plt.axvline(nutrient.amount.median(), color='k', linestyle='dashed', linewidth=1)\n",
    "    plt.axvline(recommended.at[0, 'amount'], color='r', linestyle='dashed', linewidth=1)\n",
    "    return graph"
   ]
  },
  {
   "cell_type": "code",
   "execution_count": 173,
   "metadata": {},
   "outputs": [
    {
     "data": {
      "image/png": "[encoded data removed]",
      "text/plain": [
       "<Figure size 432x288 with 1 Axes>"
      ]
     },
     "metadata": {},
     "output_type": "display_data"
    },
    {
     "data": {
      "image/png": "[encoded data removed]",
      "text/plain": [
       "<Figure size 432x288 with 1 Axes>"
      ]
     },
     "metadata": {},
     "output_type": "display_data"
    },
    {
     "data": {
      "image/png": "[encoded data removed]",
      "text/plain": [
       "<Figure size 432x288 with 1 Axes>"
      ]
     },
     "metadata": {},
     "output_type": "display_data"
    },
    {
     "data": {
      "image/png": "[encoded data removed]",
      "text/plain": [
       "<Figure size 432x288 with 1 Axes>"
      ]
     },
     "metadata": {},
     "output_type": "display_data"
    },
    {
     "data": {
      "image/png": "[encoded data removed]",
      "text/plain": [
       "<Figure size 432x288 with 1 Axes>"
      ]
     },
     "metadata": {},
     "output_type": "display_data"
    },
    {
     "data": {
      "image/png": "[encoded data removed]",
      "text/plain": [
       "<Figure size 432x288 with 1 Axes>"
      ]
     },
     "metadata": {},
     "output_type": "display_data"
    },
    {
     "data": {
      "image/png": "[encoded data removed]",
      "text/plain": [
       "<Figure size 432x288 with 1 Axes>"
      ]
     },
     "metadata": {},
     "output_type": "display_data"
    },
    {
     "data": {
      "image/png": "[encoded data removed]",
      "text/plain": [
       "<Figure size 432x288 with 1 Axes>"
      ]
     },
     "metadata": {},
     "output_type": "display_data"
    },
    {
     "data": {
      "image/png": "[encoded data removed]",
      "text/plain": [
       "<Figure size 432x288 with 1 Axes>"
      ]
     },
     "metadata": {},
     "output_type": "display_data"
    },
    {
     "data": {
      "image/png": "[encoded data removed]",
      "text/plain": [
       "<Figure size 432x288 with 1 Axes>"
      ]
     },
     "metadata": {},
     "output_type": "display_data"
    },
    {
     "data": {
      "image/png": "[encoded data removed]",
      "text/plain": [
       "<Figure size 432x288 with 1 Axes>"
      ]
     },
     "metadata": {},
     "output_type": "display_data"
    },
    {
     "data": {
      "image/png": "[encoded data removed]",
      "text/plain": [
       "<Figure size 432x288 with 1 Axes>"
      ]
     },
     "metadata": {},
     "output_type": "display_data"
    },
    {
     "data": {
      "image/png": "[encoded data removed]",
      "text/plain": [
       "<Figure size 432x288 with 1 Axes>"
      ]
     },
     "metadata": {},
     "output_type": "display_data"
    },
    {
     "data": {
      "image/png": "[encoded data removed]",
      "text/plain": [
       "<Figure size 432x288 with 1 Axes>"
      ]
     },
     "metadata": {},
     "output_type": "display_data"
    },
    {
     "data": {
      "image/png": "[encoded data removed]",
      "text/plain": [
       "<Figure size 432x288 with 1 Axes>"
      ]
     },
     "metadata": {},
     "output_type": "display_data"
    },
    {
     "data": {
      "image/png": "[encoded data removed]",
      "text/plain": [
       "<Figure size 432x288 with 1 Axes>"
      ]
     },
     "metadata": {},
     "output_type": "display_data"
    },
    {
     "data": {
      "image/png": "[encoded data removed]",
      "text/plain": [
       "<Figure size 432x288 with 1 Axes>"
      ]
     },
     "metadata": {},
     "output_type": "display_data"
    }
   ],
   "source": [
    "nutrient_list = vege_nutrients_df['nutrient'].unique()\n",
    "for n in nutrient_list:\n",
    "    nutrient_histogram(vege_nutrients_df, n);"
   ]
  },
  {
   "cell_type": "code",
   "execution_count": null,
   "metadata": {},
   "outputs": [],
   "source": [
    "#note that \"sugars\" was taken to be the same at 'total carbohydrates' since the FDA doesn't separate the two"
   ]
  },
  {
   "cell_type": "code",
   "execution_count": null,
   "metadata": {},
   "outputs": [],
   "source": []
  }
 ],
 "metadata": {
  "kernelspec": {
   "display_name": "Python 3",
   "language": "python",
   "name": "python3"
  },
  "language_info": {
   "codemirror_mode": {
    "name": "ipython",
    "version": 3
   },
   "file_extension": ".py",
   "mimetype": "text/x-python",
   "name": "python",
   "nbconvert_exporter": "python",
   "pygments_lexer": "ipython3",
   "version": "3.6.5"
  }
 },
 "nbformat": 4,
 "nbformat_minor": 2
}
