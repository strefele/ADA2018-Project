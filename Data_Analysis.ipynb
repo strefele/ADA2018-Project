{
 "cells": [
  {
   "cell_type": "code",
   "execution_count": 1,
   "metadata": {},
   "outputs": [],
   "source": [
    "import pandas as pd\n",
    "import numpy as np\n",
    "%matplotlib inline\n",
    "import matplotlib.pyplot as plt\n",
    "import re"
   ]
  },
  {
   "cell_type": "code",
   "execution_count": 2,
   "metadata": {},
   "outputs": [],
   "source": [
    "DATA_FOLDER = 'data'"
   ]
  },
  {
   "cell_type": "code",
   "execution_count": 3,
   "metadata": {},
   "outputs": [],
   "source": [
    "dinner_nutrients_df = pd.read_csv('dinner_nutrient.csv')\n",
    "dinner_ingredients_df = pd.read_csv('dinner_ingredient.csv')\n",
    "\n",
    "brunch_nutrients_first = pd.read_csv('brunch_nutrient_1-120.csv')\n",
    "brunch_nutrients_next = pd.read_csv('brunch_nutrient_121-524.csv')\n",
    "brunch_ingredients_first = pd.read_csv('brunch_ingredient_1-120.csv')\n",
    "brunch_ingredients_next = pd.read_csv('brunch_ingredient_121-524.csv')\n",
    "\n",
    "vege_nutrients_df = pd.read_csv('vegetarian_nutrient.csv')\n",
    "vege_ingredients_df = pd.read_csv('vegetarian_ingredient.csv')"
   ]
  },
  {
   "cell_type": "code",
   "execution_count": 4,
   "metadata": {},
   "outputs": [],
   "source": [
    "daily_values = pd.read_csv('data/DailyValues', sep=':', header=None, names=['nutrient', 'unit', 'amount'])"
   ]
  },
  {
   "cell_type": "markdown",
   "metadata": {},
   "source": [
    "## What we need to do\n",
    "\n",
    "**Cleaning:**\n",
    "1. Make quantities of nutrients into integers (while respecting units)\n",
    "2. Remove unnecessary columns\n",
    "3. Create dataset with URL, recipe name, and ID for all recipes that have nutrient information\n",
    "\n",
    "**Analysis:**\n",
    "1. Create nutrient datasets for different types of meals: meat, fish, poultry, and vegetarian\n",
    "2. Convert macromolecules (carbohydrates, fat, and protein) from grams to caloric values\n",
    "3. Calculate the caloric percentage of each macromolecule to the total calories of the recipe\n",
    "4. Compare these percentages with the recommended percentages for a healthy person with a 2000 calorie diet\n",
    "5. Visualize histograms with quantities of vitamins and minerals for different recipe types to see if there are clear differences\n",
    "6. We would like to perform a statistical analysis to see how much a difference observed between meal types is due to the different ingredients they contain.\n",
    "\n",
    "**Visualization of results:**\n",
    "1. Graphs showing the recommended percentage of macromolecules (for different caloric levels) and the actual percentages that appeared in the recipes for different types of meals\n",
    "2. Histograms showing differences in nutrient quantities between meal types."
   ]
  },
  {
   "cell_type": "markdown",
   "metadata": {},
   "source": [
    "## Lets explore the data and do some cleaning"
   ]
  },
  {
   "cell_type": "code",
   "execution_count": 5,
   "metadata": {
    "scrolled": false
   },
   "outputs": [
    {
     "data": {
      "text/html": [
       "<div>\n",
       "<style scoped>\n",
       "    .dataframe tbody tr th:only-of-type {\n",
       "        vertical-align: middle;\n",
       "    }\n",
       "\n",
       "    .dataframe tbody tr th {\n",
       "        vertical-align: top;\n",
       "    }\n",
       "\n",
       "    .dataframe thead th {\n",
       "        text-align: right;\n",
       "    }\n",
       "</style>\n",
       "<table border=\"1\" class=\"dataframe\">\n",
       "  <thead>\n",
       "    <tr style=\"text-align: right;\">\n",
       "      <th></th>\n",
       "      <th>Unnamed: 0</th>\n",
       "      <th>URL</th>\n",
       "      <th>amount</th>\n",
       "      <th>nutrient</th>\n",
       "      <th>recipe</th>\n",
       "    </tr>\n",
       "  </thead>\n",
       "  <tbody>\n",
       "    <tr>\n",
       "      <th>0</th>\n",
       "      <td>0</td>\n",
       "      <td>https://www.allrecipes.com/recipe/222607/smoth...</td>\n",
       "      <td>20.1g</td>\n",
       "      <td>Total Fat</td>\n",
       "      <td>Smothered Chicken Breasts</td>\n",
       "    </tr>\n",
       "    <tr>\n",
       "      <th>1</th>\n",
       "      <td>1</td>\n",
       "      <td>https://www.allrecipes.com/recipe/222607/smoth...</td>\n",
       "      <td>8.0g</td>\n",
       "      <td>Saturated Fat</td>\n",
       "      <td>Smothered Chicken Breasts</td>\n",
       "    </tr>\n",
       "    <tr>\n",
       "      <th>2</th>\n",
       "      <td>2</td>\n",
       "      <td>https://www.allrecipes.com/recipe/222607/smoth...</td>\n",
       "      <td>124mg</td>\n",
       "      <td>Cholesterol</td>\n",
       "      <td>Smothered Chicken Breasts</td>\n",
       "    </tr>\n",
       "    <tr>\n",
       "      <th>3</th>\n",
       "      <td>3</td>\n",
       "      <td>https://www.allrecipes.com/recipe/222607/smoth...</td>\n",
       "      <td>809mg</td>\n",
       "      <td>Sodium</td>\n",
       "      <td>Smothered Chicken Breasts</td>\n",
       "    </tr>\n",
       "    <tr>\n",
       "      <th>4</th>\n",
       "      <td>4</td>\n",
       "      <td>https://www.allrecipes.com/recipe/222607/smoth...</td>\n",
       "      <td>377mg</td>\n",
       "      <td>Potassium</td>\n",
       "      <td>Smothered Chicken Breasts</td>\n",
       "    </tr>\n",
       "    <tr>\n",
       "      <th>5</th>\n",
       "      <td>5</td>\n",
       "      <td>https://www.allrecipes.com/recipe/222607/smoth...</td>\n",
       "      <td>16.9g</td>\n",
       "      <td>Total Carbohydrates</td>\n",
       "      <td>Smothered Chicken Breasts</td>\n",
       "    </tr>\n",
       "    <tr>\n",
       "      <th>6</th>\n",
       "      <td>6</td>\n",
       "      <td>https://www.allrecipes.com/recipe/222607/smoth...</td>\n",
       "      <td>0.5g</td>\n",
       "      <td>Dietary Fiber</td>\n",
       "      <td>Smothered Chicken Breasts</td>\n",
       "    </tr>\n",
       "    <tr>\n",
       "      <th>7</th>\n",
       "      <td>7</td>\n",
       "      <td>https://www.allrecipes.com/recipe/222607/smoth...</td>\n",
       "      <td>44g</td>\n",
       "      <td>Protein</td>\n",
       "      <td>Smothered Chicken Breasts</td>\n",
       "    </tr>\n",
       "    <tr>\n",
       "      <th>8</th>\n",
       "      <td>8</td>\n",
       "      <td>https://www.allrecipes.com/recipe/222607/smoth...</td>\n",
       "      <td>15g</td>\n",
       "      <td>Sugars</td>\n",
       "      <td>Smothered Chicken Breasts</td>\n",
       "    </tr>\n",
       "    <tr>\n",
       "      <th>9</th>\n",
       "      <td>9</td>\n",
       "      <td>https://www.allrecipes.com/recipe/222607/smoth...</td>\n",
       "      <td>29IU</td>\n",
       "      <td>Vitamin A</td>\n",
       "      <td>Smothered Chicken Breasts</td>\n",
       "    </tr>\n",
       "    <tr>\n",
       "      <th>10</th>\n",
       "      <td>10</td>\n",
       "      <td>https://www.allrecipes.com/recipe/222607/smoth...</td>\n",
       "      <td>2mg</td>\n",
       "      <td>Vitamin C</td>\n",
       "      <td>Smothered Chicken Breasts</td>\n",
       "    </tr>\n",
       "    <tr>\n",
       "      <th>11</th>\n",
       "      <td>11</td>\n",
       "      <td>https://www.allrecipes.com/recipe/222607/smoth...</td>\n",
       "      <td>35mg</td>\n",
       "      <td>Calcium</td>\n",
       "      <td>Smothered Chicken Breasts</td>\n",
       "    </tr>\n",
       "    <tr>\n",
       "      <th>12</th>\n",
       "      <td>12</td>\n",
       "      <td>https://www.allrecipes.com/recipe/222607/smoth...</td>\n",
       "      <td>1mg</td>\n",
       "      <td>Iron</td>\n",
       "      <td>Smothered Chicken Breasts</td>\n",
       "    </tr>\n",
       "    <tr>\n",
       "      <th>13</th>\n",
       "      <td>13</td>\n",
       "      <td>https://www.allrecipes.com/recipe/222607/smoth...</td>\n",
       "      <td>0mg</td>\n",
       "      <td>Thiamin</td>\n",
       "      <td>Smothered Chicken Breasts</td>\n",
       "    </tr>\n",
       "    <tr>\n",
       "      <th>14</th>\n",
       "      <td>14</td>\n",
       "      <td>https://www.allrecipes.com/recipe/222607/smoth...</td>\n",
       "      <td>19mg</td>\n",
       "      <td>Niacin</td>\n",
       "      <td>Smothered Chicken Breasts</td>\n",
       "    </tr>\n",
       "    <tr>\n",
       "      <th>15</th>\n",
       "      <td>15</td>\n",
       "      <td>https://www.allrecipes.com/recipe/222607/smoth...</td>\n",
       "      <td>0mg</td>\n",
       "      <td>Vitamin B6</td>\n",
       "      <td>Smothered Chicken Breasts</td>\n",
       "    </tr>\n",
       "    <tr>\n",
       "      <th>16</th>\n",
       "      <td>16</td>\n",
       "      <td>https://www.allrecipes.com/recipe/222607/smoth...</td>\n",
       "      <td>38mg</td>\n",
       "      <td>Magnesium</td>\n",
       "      <td>Smothered Chicken Breasts</td>\n",
       "    </tr>\n",
       "    <tr>\n",
       "      <th>17</th>\n",
       "      <td>17</td>\n",
       "      <td>https://www.allrecipes.com/recipe/222607/smoth...</td>\n",
       "      <td>9mcg</td>\n",
       "      <td>Folate</td>\n",
       "      <td>Smothered Chicken Breasts</td>\n",
       "    </tr>\n",
       "    <tr>\n",
       "      <th>18</th>\n",
       "      <td>0</td>\n",
       "      <td>https://www.allrecipes.com/recipe/15679/asian-...</td>\n",
       "      <td>10g</td>\n",
       "      <td>Total Fat</td>\n",
       "      <td>Asian Beef with Snow Peas</td>\n",
       "    </tr>\n",
       "    <tr>\n",
       "      <th>19</th>\n",
       "      <td>1</td>\n",
       "      <td>https://www.allrecipes.com/recipe/15679/asian-...</td>\n",
       "      <td>3.0g</td>\n",
       "      <td>Saturated Fat</td>\n",
       "      <td>Asian Beef with Snow Peas</td>\n",
       "    </tr>\n",
       "  </tbody>\n",
       "</table>\n",
       "</div>"
      ],
      "text/plain": [
       "    Unnamed: 0                                                URL amount  \\\n",
       "0            0  https://www.allrecipes.com/recipe/222607/smoth...  20.1g   \n",
       "1            1  https://www.allrecipes.com/recipe/222607/smoth...   8.0g   \n",
       "2            2  https://www.allrecipes.com/recipe/222607/smoth...  124mg   \n",
       "3            3  https://www.allrecipes.com/recipe/222607/smoth...  809mg   \n",
       "4            4  https://www.allrecipes.com/recipe/222607/smoth...  377mg   \n",
       "5            5  https://www.allrecipes.com/recipe/222607/smoth...  16.9g   \n",
       "6            6  https://www.allrecipes.com/recipe/222607/smoth...   0.5g   \n",
       "7            7  https://www.allrecipes.com/recipe/222607/smoth...    44g   \n",
       "8            8  https://www.allrecipes.com/recipe/222607/smoth...    15g   \n",
       "9            9  https://www.allrecipes.com/recipe/222607/smoth...   29IU   \n",
       "10          10  https://www.allrecipes.com/recipe/222607/smoth...    2mg   \n",
       "11          11  https://www.allrecipes.com/recipe/222607/smoth...   35mg   \n",
       "12          12  https://www.allrecipes.com/recipe/222607/smoth...    1mg   \n",
       "13          13  https://www.allrecipes.com/recipe/222607/smoth...    0mg   \n",
       "14          14  https://www.allrecipes.com/recipe/222607/smoth...   19mg   \n",
       "15          15  https://www.allrecipes.com/recipe/222607/smoth...    0mg   \n",
       "16          16  https://www.allrecipes.com/recipe/222607/smoth...   38mg   \n",
       "17          17  https://www.allrecipes.com/recipe/222607/smoth...   9mcg   \n",
       "18           0  https://www.allrecipes.com/recipe/15679/asian-...    10g   \n",
       "19           1  https://www.allrecipes.com/recipe/15679/asian-...   3.0g   \n",
       "\n",
       "               nutrient                     recipe  \n",
       "0             Total Fat  Smothered Chicken Breasts  \n",
       "1         Saturated Fat  Smothered Chicken Breasts  \n",
       "2           Cholesterol  Smothered Chicken Breasts  \n",
       "3                Sodium  Smothered Chicken Breasts  \n",
       "4             Potassium  Smothered Chicken Breasts  \n",
       "5   Total Carbohydrates  Smothered Chicken Breasts  \n",
       "6         Dietary Fiber  Smothered Chicken Breasts  \n",
       "7               Protein  Smothered Chicken Breasts  \n",
       "8                Sugars  Smothered Chicken Breasts  \n",
       "9             Vitamin A  Smothered Chicken Breasts  \n",
       "10            Vitamin C  Smothered Chicken Breasts  \n",
       "11              Calcium  Smothered Chicken Breasts  \n",
       "12                 Iron  Smothered Chicken Breasts  \n",
       "13              Thiamin  Smothered Chicken Breasts  \n",
       "14               Niacin  Smothered Chicken Breasts  \n",
       "15           Vitamin B6  Smothered Chicken Breasts  \n",
       "16            Magnesium  Smothered Chicken Breasts  \n",
       "17               Folate  Smothered Chicken Breasts  \n",
       "18            Total Fat  Asian Beef with Snow Peas  \n",
       "19        Saturated Fat  Asian Beef with Snow Peas  "
      ]
     },
     "execution_count": 5,
     "metadata": {},
     "output_type": "execute_result"
    }
   ],
   "source": [
    "dinner_nutrients_df.head(20)"
   ]
  },
  {
   "cell_type": "markdown",
   "metadata": {},
   "source": [
    "We wonder if the amounts for each nutrient always have the same units. Lets verify with Sodium since this is likely to vary a lot. Below only 'head' is displayed, but we checked throughout the dataset."
   ]
  },
  {
   "cell_type": "code",
   "execution_count": 6,
   "metadata": {},
   "outputs": [],
   "source": [
    "dinner_nutrients_df = dinner_nutrients_df.drop([\"Unnamed: 0\"], axis=1)\n",
    "dinner_ingredients_df = dinner_ingredients_df.drop([\"Unnamed: 0\"], axis=1)"
   ]
  },
  {
   "cell_type": "code",
   "execution_count": 7,
   "metadata": {},
   "outputs": [
    {
     "data": {
      "text/html": [
       "<div>\n",
       "<style scoped>\n",
       "    .dataframe tbody tr th:only-of-type {\n",
       "        vertical-align: middle;\n",
       "    }\n",
       "\n",
       "    .dataframe tbody tr th {\n",
       "        vertical-align: top;\n",
       "    }\n",
       "\n",
       "    .dataframe thead th {\n",
       "        text-align: right;\n",
       "    }\n",
       "</style>\n",
       "<table border=\"1\" class=\"dataframe\">\n",
       "  <thead>\n",
       "    <tr style=\"text-align: right;\">\n",
       "      <th></th>\n",
       "      <th>URL</th>\n",
       "      <th>amount</th>\n",
       "      <th>nutrient</th>\n",
       "      <th>recipe</th>\n",
       "    </tr>\n",
       "  </thead>\n",
       "  <tbody>\n",
       "    <tr>\n",
       "      <th>0</th>\n",
       "      <td>https://www.allrecipes.com/recipe/222607/smoth...</td>\n",
       "      <td>809mg</td>\n",
       "      <td>Sodium</td>\n",
       "      <td>Smothered Chicken Breasts</td>\n",
       "    </tr>\n",
       "    <tr>\n",
       "      <th>1</th>\n",
       "      <td>https://www.allrecipes.com/recipe/15679/asian-...</td>\n",
       "      <td>711mg</td>\n",
       "      <td>Sodium</td>\n",
       "      <td>Asian Beef with Snow Peas</td>\n",
       "    </tr>\n",
       "    <tr>\n",
       "      <th>2</th>\n",
       "      <td>https://www.allrecipes.com/recipe/23847/pasta-...</td>\n",
       "      <td>350mg</td>\n",
       "      <td>Sodium</td>\n",
       "      <td>Pasta Pomodoro</td>\n",
       "    </tr>\n",
       "    <tr>\n",
       "      <th>3</th>\n",
       "      <td>https://www.allrecipes.com/recipe/50435/fry-br...</td>\n",
       "      <td>2255mg</td>\n",
       "      <td>Sodium</td>\n",
       "      <td>Fry Bread Tacos II</td>\n",
       "    </tr>\n",
       "    <tr>\n",
       "      <th>4</th>\n",
       "      <td>https://www.allrecipes.com/recipe/140829/pork-...</td>\n",
       "      <td>356mg</td>\n",
       "      <td>Sodium</td>\n",
       "      <td>Pork Marsala</td>\n",
       "    </tr>\n",
       "  </tbody>\n",
       "</table>\n",
       "</div>"
      ],
      "text/plain": [
       "                                                 URL  amount nutrient  \\\n",
       "0  https://www.allrecipes.com/recipe/222607/smoth...   809mg   Sodium   \n",
       "1  https://www.allrecipes.com/recipe/15679/asian-...   711mg   Sodium   \n",
       "2  https://www.allrecipes.com/recipe/23847/pasta-...   350mg   Sodium   \n",
       "3  https://www.allrecipes.com/recipe/50435/fry-br...  2255mg   Sodium   \n",
       "4  https://www.allrecipes.com/recipe/140829/pork-...   356mg   Sodium   \n",
       "\n",
       "                      recipe  \n",
       "0  Smothered Chicken Breasts  \n",
       "1  Asian Beef with Snow Peas  \n",
       "2             Pasta Pomodoro  \n",
       "3         Fry Bread Tacos II  \n",
       "4               Pork Marsala  "
      ]
     },
     "execution_count": 7,
     "metadata": {},
     "output_type": "execute_result"
    }
   ],
   "source": [
    "sodium = dinner_nutrients_df.where(dinner_nutrients_df['nutrient'] == \"Sodium\")\n",
    "sodium = sodium.dropna()\n",
    "sodium = sodium.reset_index(drop=True)\n",
    "sodium.head()"
   ]
  },
  {
   "cell_type": "markdown",
   "metadata": {},
   "source": [
    "The unit is the same for each value of a given nutrient, therefore we can drop these letters without worry.\n",
    "\n",
    "Vitamin A will be completely ignored since it is given in IU. This unit will no longer be valid from 2021. In addition, it cannot be converted into micrograms since this depends on its origin: retinol (pre-formed vitamin A) or beta-carotene (a precursor)."
   ]
  },
  {
   "cell_type": "code",
   "execution_count": 8,
   "metadata": {},
   "outputs": [],
   "source": [
    "dinner_nutrients_df = dinner_nutrients_df[dinner_nutrients_df.nutrient != \"Vitamin A\"]"
   ]
  },
  {
   "cell_type": "code",
   "execution_count": 9,
   "metadata": {},
   "outputs": [
    {
     "data": {
      "text/html": [
       "<div>\n",
       "<style scoped>\n",
       "    .dataframe tbody tr th:only-of-type {\n",
       "        vertical-align: middle;\n",
       "    }\n",
       "\n",
       "    .dataframe tbody tr th {\n",
       "        vertical-align: top;\n",
       "    }\n",
       "\n",
       "    .dataframe thead th {\n",
       "        text-align: right;\n",
       "    }\n",
       "</style>\n",
       "<table border=\"1\" class=\"dataframe\">\n",
       "  <thead>\n",
       "    <tr style=\"text-align: right;\">\n",
       "      <th></th>\n",
       "      <th>URL</th>\n",
       "      <th>amount</th>\n",
       "      <th>nutrient</th>\n",
       "      <th>recipe</th>\n",
       "    </tr>\n",
       "  </thead>\n",
       "  <tbody>\n",
       "    <tr>\n",
       "      <th>0</th>\n",
       "      <td>https://www.allrecipes.com/recipe/222607/smoth...</td>\n",
       "      <td>20.1g</td>\n",
       "      <td>Total Fat</td>\n",
       "      <td>Smothered Chicken Breasts</td>\n",
       "    </tr>\n",
       "    <tr>\n",
       "      <th>1</th>\n",
       "      <td>https://www.allrecipes.com/recipe/222607/smoth...</td>\n",
       "      <td>8.0g</td>\n",
       "      <td>Saturated Fat</td>\n",
       "      <td>Smothered Chicken Breasts</td>\n",
       "    </tr>\n",
       "    <tr>\n",
       "      <th>2</th>\n",
       "      <td>https://www.allrecipes.com/recipe/222607/smoth...</td>\n",
       "      <td>124mg</td>\n",
       "      <td>Cholesterol</td>\n",
       "      <td>Smothered Chicken Breasts</td>\n",
       "    </tr>\n",
       "    <tr>\n",
       "      <th>3</th>\n",
       "      <td>https://www.allrecipes.com/recipe/222607/smoth...</td>\n",
       "      <td>809mg</td>\n",
       "      <td>Sodium</td>\n",
       "      <td>Smothered Chicken Breasts</td>\n",
       "    </tr>\n",
       "    <tr>\n",
       "      <th>4</th>\n",
       "      <td>https://www.allrecipes.com/recipe/222607/smoth...</td>\n",
       "      <td>377mg</td>\n",
       "      <td>Potassium</td>\n",
       "      <td>Smothered Chicken Breasts</td>\n",
       "    </tr>\n",
       "  </tbody>\n",
       "</table>\n",
       "</div>"
      ],
      "text/plain": [
       "                                                 URL amount       nutrient  \\\n",
       "0  https://www.allrecipes.com/recipe/222607/smoth...  20.1g      Total Fat   \n",
       "1  https://www.allrecipes.com/recipe/222607/smoth...   8.0g  Saturated Fat   \n",
       "2  https://www.allrecipes.com/recipe/222607/smoth...  124mg    Cholesterol   \n",
       "3  https://www.allrecipes.com/recipe/222607/smoth...  809mg         Sodium   \n",
       "4  https://www.allrecipes.com/recipe/222607/smoth...  377mg      Potassium   \n",
       "\n",
       "                      recipe  \n",
       "0  Smothered Chicken Breasts  \n",
       "1  Smothered Chicken Breasts  \n",
       "2  Smothered Chicken Breasts  \n",
       "3  Smothered Chicken Breasts  \n",
       "4  Smothered Chicken Breasts  "
      ]
     },
     "execution_count": 9,
     "metadata": {},
     "output_type": "execute_result"
    }
   ],
   "source": [
    "dinner_nutrients_df.head()"
   ]
  },
  {
   "cell_type": "code",
   "execution_count": 10,
   "metadata": {},
   "outputs": [
    {
     "data": {
      "text/plain": [
       "URL          object\n",
       "amount      float64\n",
       "nutrient     object\n",
       "recipe       object\n",
       "dtype: object"
      ]
     },
     "execution_count": 10,
     "metadata": {},
     "output_type": "execute_result"
    }
   ],
   "source": [
    "#Remove the letters m, c, g, I, U from the string amount and convert it to a float\n",
    "dinner_nutrients_df.amount = dinner_nutrients_df.amount.apply(lambda x: re.sub('[mcgIU]','', x))\n",
    "dinner_nutrients_df.amount = dinner_nutrients_df.amount.replace(to_replace='< 1', value='0')\n",
    "dinner_nutrients_df.amount = dinner_nutrients_df.amount.astype(float)\n",
    "dinner_nutrients_df.dtypes"
   ]
  },
  {
   "cell_type": "markdown",
   "metadata": {},
   "source": [
    "Now lets simplify the datasets"
   ]
  },
  {
   "cell_type": "code",
   "execution_count": 11,
   "metadata": {},
   "outputs": [
    {
     "data": {
      "text/html": [
       "<div>\n",
       "<style scoped>\n",
       "    .dataframe tbody tr th:only-of-type {\n",
       "        vertical-align: middle;\n",
       "    }\n",
       "\n",
       "    .dataframe tbody tr th {\n",
       "        vertical-align: top;\n",
       "    }\n",
       "\n",
       "    .dataframe thead th {\n",
       "        text-align: right;\n",
       "    }\n",
       "</style>\n",
       "<table border=\"1\" class=\"dataframe\">\n",
       "  <thead>\n",
       "    <tr style=\"text-align: right;\">\n",
       "      <th></th>\n",
       "      <th>ingredient</th>\n",
       "      <th>recipe_id</th>\n",
       "    </tr>\n",
       "  </thead>\n",
       "  <tbody>\n",
       "    <tr>\n",
       "      <th>0</th>\n",
       "      <td>4 (6 ounce) skinless, boneless chicken breast ...</td>\n",
       "      <td>222607</td>\n",
       "    </tr>\n",
       "    <tr>\n",
       "      <th>1</th>\n",
       "      <td>1/4 teaspoon salt</td>\n",
       "      <td>222607</td>\n",
       "    </tr>\n",
       "    <tr>\n",
       "      <th>2</th>\n",
       "      <td>1/4 teaspoon lemon pepper seasoning</td>\n",
       "      <td>222607</td>\n",
       "    </tr>\n",
       "    <tr>\n",
       "      <th>3</th>\n",
       "      <td>1 tablespoon vegetable oil</td>\n",
       "      <td>222607</td>\n",
       "    </tr>\n",
       "    <tr>\n",
       "      <th>4</th>\n",
       "      <td>8 strips bacon</td>\n",
       "      <td>222607</td>\n",
       "    </tr>\n",
       "  </tbody>\n",
       "</table>\n",
       "</div>"
      ],
      "text/plain": [
       "                                          ingredient recipe_id\n",
       "0  4 (6 ounce) skinless, boneless chicken breast ...    222607\n",
       "1                                  1/4 teaspoon salt    222607\n",
       "2                1/4 teaspoon lemon pepper seasoning    222607\n",
       "3                         1 tablespoon vegetable oil    222607\n",
       "4                                     8 strips bacon    222607"
      ]
     },
     "execution_count": 11,
     "metadata": {},
     "output_type": "execute_result"
    }
   ],
   "source": [
    "#We can identify recipes by their ID\n",
    "recipe_id = dinner_ingredients_df[\"URL\"].str.extract(r'https://www.allrecipes.com/recipe/(\\d+)/.+')\n",
    "dinner_ingredients_df[\"recipe_id\"] = recipe_id\n",
    "dinner_ingredients_df = dinner_ingredients_df.drop([\"URL\"], axis=1)\n",
    "dinner_ingredients_df.head()"
   ]
  },
  {
   "cell_type": "code",
   "execution_count": 12,
   "metadata": {},
   "outputs": [
    {
     "name": "stdout",
     "output_type": "stream",
     "text": [
      "We have: 1152 recipes in the ingredient dataframe.\n"
     ]
    }
   ],
   "source": [
    "print(\"We have: \" + str(len(dinner_ingredients_df[\"recipe_id\"].unique())) + \" recipes in the ingredient dataframe.\")"
   ]
  },
  {
   "cell_type": "code",
   "execution_count": 13,
   "metadata": {},
   "outputs": [
    {
     "data": {
      "text/html": [
       "<div>\n",
       "<style scoped>\n",
       "    .dataframe tbody tr th:only-of-type {\n",
       "        vertical-align: middle;\n",
       "    }\n",
       "\n",
       "    .dataframe tbody tr th {\n",
       "        vertical-align: top;\n",
       "    }\n",
       "\n",
       "    .dataframe thead th {\n",
       "        text-align: right;\n",
       "    }\n",
       "</style>\n",
       "<table border=\"1\" class=\"dataframe\">\n",
       "  <thead>\n",
       "    <tr style=\"text-align: right;\">\n",
       "      <th></th>\n",
       "      <th>URL</th>\n",
       "      <th>amount</th>\n",
       "      <th>nutrient</th>\n",
       "      <th>recipe</th>\n",
       "      <th>recipe_id</th>\n",
       "    </tr>\n",
       "  </thead>\n",
       "  <tbody>\n",
       "    <tr>\n",
       "      <th>0</th>\n",
       "      <td>https://www.allrecipes.com/recipe/222607/smoth...</td>\n",
       "      <td>20.1</td>\n",
       "      <td>Total Fat</td>\n",
       "      <td>Smothered Chicken Breasts</td>\n",
       "      <td>222607</td>\n",
       "    </tr>\n",
       "    <tr>\n",
       "      <th>1</th>\n",
       "      <td>https://www.allrecipes.com/recipe/222607/smoth...</td>\n",
       "      <td>8.0</td>\n",
       "      <td>Saturated Fat</td>\n",
       "      <td>Smothered Chicken Breasts</td>\n",
       "      <td>222607</td>\n",
       "    </tr>\n",
       "    <tr>\n",
       "      <th>2</th>\n",
       "      <td>https://www.allrecipes.com/recipe/222607/smoth...</td>\n",
       "      <td>124.0</td>\n",
       "      <td>Cholesterol</td>\n",
       "      <td>Smothered Chicken Breasts</td>\n",
       "      <td>222607</td>\n",
       "    </tr>\n",
       "    <tr>\n",
       "      <th>3</th>\n",
       "      <td>https://www.allrecipes.com/recipe/222607/smoth...</td>\n",
       "      <td>809.0</td>\n",
       "      <td>Sodium</td>\n",
       "      <td>Smothered Chicken Breasts</td>\n",
       "      <td>222607</td>\n",
       "    </tr>\n",
       "    <tr>\n",
       "      <th>4</th>\n",
       "      <td>https://www.allrecipes.com/recipe/222607/smoth...</td>\n",
       "      <td>377.0</td>\n",
       "      <td>Potassium</td>\n",
       "      <td>Smothered Chicken Breasts</td>\n",
       "      <td>222607</td>\n",
       "    </tr>\n",
       "  </tbody>\n",
       "</table>\n",
       "</div>"
      ],
      "text/plain": [
       "                                                 URL  amount       nutrient  \\\n",
       "0  https://www.allrecipes.com/recipe/222607/smoth...    20.1      Total Fat   \n",
       "1  https://www.allrecipes.com/recipe/222607/smoth...     8.0  Saturated Fat   \n",
       "2  https://www.allrecipes.com/recipe/222607/smoth...   124.0    Cholesterol   \n",
       "3  https://www.allrecipes.com/recipe/222607/smoth...   809.0         Sodium   \n",
       "4  https://www.allrecipes.com/recipe/222607/smoth...   377.0      Potassium   \n",
       "\n",
       "                      recipe recipe_id  \n",
       "0  Smothered Chicken Breasts    222607  \n",
       "1  Smothered Chicken Breasts    222607  \n",
       "2  Smothered Chicken Breasts    222607  \n",
       "3  Smothered Chicken Breasts    222607  \n",
       "4  Smothered Chicken Breasts    222607  "
      ]
     },
     "execution_count": 13,
     "metadata": {},
     "output_type": "execute_result"
    }
   ],
   "source": [
    "recipe_id = dinner_nutrients_df[\"URL\"].str.extract(r'https://www.allrecipes.com/recipe/(\\d+)/.+')\n",
    "dinner_nutrients_df[\"recipe_id\"] = recipe_id\n",
    "dinner_nutrients_df.head()"
   ]
  },
  {
   "cell_type": "code",
   "execution_count": 14,
   "metadata": {},
   "outputs": [
    {
     "name": "stdout",
     "output_type": "stream",
     "text": [
      "We have in total: 1128 different recipes with nutrition info for dinner\n"
     ]
    },
    {
     "data": {
      "text/html": [
       "<div>\n",
       "<style scoped>\n",
       "    .dataframe tbody tr th:only-of-type {\n",
       "        vertical-align: middle;\n",
       "    }\n",
       "\n",
       "    .dataframe tbody tr th {\n",
       "        vertical-align: top;\n",
       "    }\n",
       "\n",
       "    .dataframe thead th {\n",
       "        text-align: right;\n",
       "    }\n",
       "</style>\n",
       "<table border=\"1\" class=\"dataframe\">\n",
       "  <thead>\n",
       "    <tr style=\"text-align: right;\">\n",
       "      <th></th>\n",
       "      <th>recipe_id</th>\n",
       "      <th>recipe</th>\n",
       "      <th>URL</th>\n",
       "    </tr>\n",
       "  </thead>\n",
       "  <tbody>\n",
       "    <tr>\n",
       "      <th>0</th>\n",
       "      <td>222607</td>\n",
       "      <td>Smothered Chicken Breasts</td>\n",
       "      <td>https://www.allrecipes.com/recipe/222607/smoth...</td>\n",
       "    </tr>\n",
       "    <tr>\n",
       "      <th>18</th>\n",
       "      <td>15679</td>\n",
       "      <td>Asian Beef with Snow Peas</td>\n",
       "      <td>https://www.allrecipes.com/recipe/15679/asian-...</td>\n",
       "    </tr>\n",
       "    <tr>\n",
       "      <th>36</th>\n",
       "      <td>23847</td>\n",
       "      <td>Pasta Pomodoro</td>\n",
       "      <td>https://www.allrecipes.com/recipe/23847/pasta-...</td>\n",
       "    </tr>\n",
       "    <tr>\n",
       "      <th>54</th>\n",
       "      <td>50435</td>\n",
       "      <td>Fry Bread Tacos II</td>\n",
       "      <td>https://www.allrecipes.com/recipe/50435/fry-br...</td>\n",
       "    </tr>\n",
       "    <tr>\n",
       "      <th>72</th>\n",
       "      <td>140829</td>\n",
       "      <td>Pork Marsala</td>\n",
       "      <td>https://www.allrecipes.com/recipe/140829/pork-...</td>\n",
       "    </tr>\n",
       "  </tbody>\n",
       "</table>\n",
       "</div>"
      ],
      "text/plain": [
       "   recipe_id                     recipe  \\\n",
       "0     222607  Smothered Chicken Breasts   \n",
       "18     15679  Asian Beef with Snow Peas   \n",
       "36     23847             Pasta Pomodoro   \n",
       "54     50435         Fry Bread Tacos II   \n",
       "72    140829               Pork Marsala   \n",
       "\n",
       "                                                  URL  \n",
       "0   https://www.allrecipes.com/recipe/222607/smoth...  \n",
       "18  https://www.allrecipes.com/recipe/15679/asian-...  \n",
       "36  https://www.allrecipes.com/recipe/23847/pasta-...  \n",
       "54  https://www.allrecipes.com/recipe/50435/fry-br...  \n",
       "72  https://www.allrecipes.com/recipe/140829/pork-...  "
      ]
     },
     "execution_count": 14,
     "metadata": {},
     "output_type": "execute_result"
    }
   ],
   "source": [
    "# let's create a dataframe that contain all the different recipes for dinner with the corresponding name\n",
    "dinner_recipe_df = dinner_nutrients_df[[\"recipe_id\", \"recipe\", \"URL\"]].drop_duplicates()\n",
    "print(\"We have in total: \" + str(dinner_recipe_df[\"recipe\"].count()) + \" different recipes with nutrition info for dinner\")\n",
    "dinner_recipe_df.head()"
   ]
  },
  {
   "cell_type": "code",
   "execution_count": 15,
   "metadata": {},
   "outputs": [
    {
     "data": {
      "text/html": [
       "<div>\n",
       "<style scoped>\n",
       "    .dataframe tbody tr th:only-of-type {\n",
       "        vertical-align: middle;\n",
       "    }\n",
       "\n",
       "    .dataframe tbody tr th {\n",
       "        vertical-align: top;\n",
       "    }\n",
       "\n",
       "    .dataframe thead th {\n",
       "        text-align: right;\n",
       "    }\n",
       "</style>\n",
       "<table border=\"1\" class=\"dataframe\">\n",
       "  <thead>\n",
       "    <tr style=\"text-align: right;\">\n",
       "      <th></th>\n",
       "      <th>amount</th>\n",
       "      <th>nutrient</th>\n",
       "      <th>recipe_id</th>\n",
       "    </tr>\n",
       "  </thead>\n",
       "  <tbody>\n",
       "    <tr>\n",
       "      <th>0</th>\n",
       "      <td>20.1</td>\n",
       "      <td>Total Fat</td>\n",
       "      <td>222607</td>\n",
       "    </tr>\n",
       "    <tr>\n",
       "      <th>1</th>\n",
       "      <td>8.0</td>\n",
       "      <td>Saturated Fat</td>\n",
       "      <td>222607</td>\n",
       "    </tr>\n",
       "    <tr>\n",
       "      <th>2</th>\n",
       "      <td>124.0</td>\n",
       "      <td>Cholesterol</td>\n",
       "      <td>222607</td>\n",
       "    </tr>\n",
       "    <tr>\n",
       "      <th>3</th>\n",
       "      <td>809.0</td>\n",
       "      <td>Sodium</td>\n",
       "      <td>222607</td>\n",
       "    </tr>\n",
       "    <tr>\n",
       "      <th>4</th>\n",
       "      <td>377.0</td>\n",
       "      <td>Potassium</td>\n",
       "      <td>222607</td>\n",
       "    </tr>\n",
       "  </tbody>\n",
       "</table>\n",
       "</div>"
      ],
      "text/plain": [
       "   amount       nutrient recipe_id\n",
       "0    20.1      Total Fat    222607\n",
       "1     8.0  Saturated Fat    222607\n",
       "2   124.0    Cholesterol    222607\n",
       "3   809.0         Sodium    222607\n",
       "4   377.0      Potassium    222607"
      ]
     },
     "execution_count": 15,
     "metadata": {},
     "output_type": "execute_result"
    }
   ],
   "source": [
    "dinner_nutrients_df = dinner_nutrients_df.drop([\"URL\", \"recipe\"], axis=1)\n",
    "dinner_nutrients_df.head()"
   ]
  },
  {
   "cell_type": "markdown",
   "metadata": {},
   "source": [
    "We see that there are recipes that did not give the nutrient values. We ignore these ones by putting exclusively recipe IDs present in the nutrient dataframe into the dataframe linking recipes with URL and name."
   ]
  },
  {
   "cell_type": "markdown",
   "metadata": {},
   "source": [
    "**Now we can clean our other datasets easily **"
   ]
  },
  {
   "cell_type": "code",
   "execution_count": 16,
   "metadata": {},
   "outputs": [],
   "source": [
    "def clean_data(nutrients_df, ingredients_df):\n",
    "    \"\"\"\n",
    "    After exploration, we create a general function to clean all subsequent datasets\n",
    "    IN: nutrient and ingredient information, in dataframes\n",
    "    OUT: cleaned nutrient and ingredient dataframes + a new dataframe linking the URL, ID, and name of recipes\n",
    "    \"\"\"\n",
    "    \n",
    "    nutrients_df = nutrients_df.drop([\"Unnamed: 0\"], axis=1)\n",
    "    ingredients_df = ingredients_df.drop([\"Unnamed: 0\"], axis=1)\n",
    "    \n",
    "    #Drop vitamin A\n",
    "    nutrients_df = nutrients_df[nutrients_df.nutrient != \"Vitamin A\"]\n",
    "    \n",
    "    #Remove the letters m, c, g, I, U from the string amount and convert it to a float\n",
    "    nutrients_df.amount = nutrients_df.amount.apply(lambda x: re.sub('[mcgIU]','', x))\n",
    "    nutrients_df.amount = nutrients_df.amount.replace(to_replace='< 1', value='0')\n",
    "    nutrients_df.amount = nutrients_df.amount.astype(float)\n",
    "    \n",
    "    #Identification with ID\n",
    "    recipe_id = ingredients_df[\"URL\"].str.extract(r'https://www.allrecipes.com/recipe/(\\d+)/.+')\n",
    "    ingredients_df[\"recipe_id\"] = recipe_id\n",
    "    ingredients_df = ingredients_df.drop([\"URL\"], axis=1)\n",
    "    \n",
    "    recipe_id = nutrients_df[\"URL\"].str.extract(r'https://www.allrecipes.com/recipe/(\\d+)/.+')\n",
    "    nutrients_df[\"recipe_id\"] = recipe_id\n",
    "    \n",
    "    #Dataframe linking ID with URL and recipe name\n",
    "    recipe_df = nutrients_df[[\"recipe_id\", \"recipe\", \"URL\"]].drop_duplicates()\n",
    "    \n",
    "    nutrients_df = nutrients_df.drop([\"URL\", \"recipe\"], axis=1)\n",
    "    \n",
    "    return nutrients_df, ingredients_df, recipe_df"
   ]
  },
  {
   "cell_type": "code",
   "execution_count": 17,
   "metadata": {},
   "outputs": [],
   "source": [
    "brunch_nutrients_df = brunch_nutrients_first.append(brunch_nutrients_next)\n",
    "brunch_ingredients_df = brunch_ingredients_first.append(brunch_ingredients_next)\n",
    "brunch_recipes = []"
   ]
  },
  {
   "cell_type": "code",
   "execution_count": 18,
   "metadata": {},
   "outputs": [],
   "source": [
    "brunch_nutrients_df, brunch_ingredients_df, brunch_recipes = clean_data(brunch_nutrients_df, brunch_ingredients_df)"
   ]
  },
  {
   "cell_type": "code",
   "execution_count": 19,
   "metadata": {},
   "outputs": [],
   "source": [
    "vege_recipes = []\n",
    "vege_nutrients_df, vege_ingredients_df, vege_recipes = clean_data(vege_nutrients_df, vege_ingredients_df)"
   ]
  },
  {
   "cell_type": "markdown",
   "metadata": {},
   "source": [
    "## New insights:\n",
    "\n",
    "***We will merge all reicpe types together. Then, from this general database we will extract vegetarian, carnivorous, pescatarian, and poultry dishes. We will compare the nutrient profiles of these different types of meals. ***"
   ]
  },
  {
   "cell_type": "markdown",
   "metadata": {},
   "source": [
    "We remember that the recommended intake for each nutrient is given per day. We cannot specify how many servings of food composes a daily intake, so we cannot compare directly with daily values. Therefore we change our approach. The National Institute of Health gives the suggested percentage of each macromolecule, out of total caloric intake. We will calculate these percentages in our recipes, and compare them with the recommendation. As for vitamins and minerals, we will simply compare their values in the different meal types. Since deficiencies are much more common than overdoses, we will pay particular attention to these."
   ]
  },
  {
   "cell_type": "markdown",
   "metadata": {},
   "source": [
    "**Testing making \"brunch\" data vegetarian:**\n",
    "\n",
    "If an ingredient contains any word from the document \"meats\", delete all nutrients with the corresponding ID"
   ]
  },
  {
   "cell_type": "code",
   "execution_count": 20,
   "metadata": {},
   "outputs": [],
   "source": [
    "f = open('data/meats', 'r')\n",
    "meat = f.read().splitlines()\n",
    "f.close()"
   ]
  },
  {
   "cell_type": "code",
   "execution_count": 21,
   "metadata": {},
   "outputs": [],
   "source": [
    "brunch_copy = brunch_ingredients_df.copy()\n",
    "brunch_copy = brunch_copy.merge(brunch_recipes, left_on='recipe_id', right_on = 'recipe_id', how='inner', sort=False)"
   ]
  },
  {
   "cell_type": "code",
   "execution_count": 22,
   "metadata": {},
   "outputs": [],
   "source": [
    "id_to_delete = pd.DataFrame(columns=['URL', 'ingredient', 'recipe', 'recipe_id'])\n",
    "\n",
    "for i in range(len(meat)):\n",
    "    id_to_delete = id_to_delete.append(brunch_copy[brunch_copy['ingredient'].str.contains(meat[i])], sort=False)"
   ]
  },
  {
   "cell_type": "code",
   "execution_count": 23,
   "metadata": {},
   "outputs": [
    {
     "data": {
      "text/html": [
       "<div>\n",
       "<style scoped>\n",
       "    .dataframe tbody tr th:only-of-type {\n",
       "        vertical-align: middle;\n",
       "    }\n",
       "\n",
       "    .dataframe tbody tr th {\n",
       "        vertical-align: top;\n",
       "    }\n",
       "\n",
       "    .dataframe thead th {\n",
       "        text-align: right;\n",
       "    }\n",
       "</style>\n",
       "<table border=\"1\" class=\"dataframe\">\n",
       "  <thead>\n",
       "    <tr style=\"text-align: right;\">\n",
       "      <th></th>\n",
       "      <th>URL</th>\n",
       "      <th>ingredient</th>\n",
       "      <th>recipe</th>\n",
       "      <th>recipe_id</th>\n",
       "    </tr>\n",
       "  </thead>\n",
       "  <tbody>\n",
       "    <tr>\n",
       "      <th>303</th>\n",
       "      <td>https://www.allrecipes.com/recipe/22162/uglies/</td>\n",
       "      <td>1 pound ground beef chuck</td>\n",
       "      <td>Uglies</td>\n",
       "      <td>22162</td>\n",
       "    </tr>\n",
       "    <tr>\n",
       "      <th>1708</th>\n",
       "      <td>https://www.allrecipes.com/recipe/33129/corned...</td>\n",
       "      <td>1 (12 ounce) can corned beef, cut into chunks</td>\n",
       "      <td>Corned Beef Hash</td>\n",
       "      <td>33129</td>\n",
       "    </tr>\n",
       "    <tr>\n",
       "      <th>1710</th>\n",
       "      <td>https://www.allrecipes.com/recipe/33129/corned...</td>\n",
       "      <td>1 cup beef broth</td>\n",
       "      <td>Corned Beef Hash</td>\n",
       "      <td>33129</td>\n",
       "    </tr>\n",
       "    <tr>\n",
       "      <th>2493</th>\n",
       "      <td>https://www.allrecipes.com/recipe/216981/delux...</td>\n",
       "      <td>2 pounds cooked corned beef, cubed</td>\n",
       "      <td>Deluxe Corned Beef Hash</td>\n",
       "      <td>216981</td>\n",
       "    </tr>\n",
       "    <tr>\n",
       "      <th>3577</th>\n",
       "      <td>https://www.allrecipes.com/recipe/45652/the-sa...</td>\n",
       "      <td>2 pounds ground beef</td>\n",
       "      <td>The Sarge's Goetta - German Breakfast Treat</td>\n",
       "      <td>45652</td>\n",
       "    </tr>\n",
       "  </tbody>\n",
       "</table>\n",
       "</div>"
      ],
      "text/plain": [
       "                                                    URL  \\\n",
       "303     https://www.allrecipes.com/recipe/22162/uglies/   \n",
       "1708  https://www.allrecipes.com/recipe/33129/corned...   \n",
       "1710  https://www.allrecipes.com/recipe/33129/corned...   \n",
       "2493  https://www.allrecipes.com/recipe/216981/delux...   \n",
       "3577  https://www.allrecipes.com/recipe/45652/the-sa...   \n",
       "\n",
       "                                         ingredient  \\\n",
       "303                       1 pound ground beef chuck   \n",
       "1708  1 (12 ounce) can corned beef, cut into chunks   \n",
       "1710                               1 cup beef broth   \n",
       "2493             2 pounds cooked corned beef, cubed   \n",
       "3577                           2 pounds ground beef   \n",
       "\n",
       "                                           recipe recipe_id  \n",
       "303                                        Uglies     22162  \n",
       "1708                             Corned Beef Hash     33129  \n",
       "1710                             Corned Beef Hash     33129  \n",
       "2493                      Deluxe Corned Beef Hash    216981  \n",
       "3577  The Sarge's Goetta - German Breakfast Treat     45652  "
      ]
     },
     "execution_count": 23,
     "metadata": {},
     "output_type": "execute_result"
    }
   ],
   "source": [
    "id_to_delete.head()"
   ]
  },
  {
   "cell_type": "code",
   "execution_count": 24,
   "metadata": {},
   "outputs": [],
   "source": [
    "brunch_nutrient_copy = brunch_nutrients_df.copy()\n",
    "brunch_nutrient_copy=brunch_nutrient_copy[~brunch_nutrient_copy.isin(id_to_delete['recipe_id'].tolist())]"
   ]
  },
  {
   "cell_type": "code",
   "execution_count": 25,
   "metadata": {},
   "outputs": [],
   "source": [
    "#Test that the above function worked correctly:"
   ]
  },
  {
   "cell_type": "code",
   "execution_count": 26,
   "metadata": {},
   "outputs": [
    {
     "data": {
      "text/html": [
       "<div>\n",
       "<style scoped>\n",
       "    .dataframe tbody tr th:only-of-type {\n",
       "        vertical-align: middle;\n",
       "    }\n",
       "\n",
       "    .dataframe tbody tr th {\n",
       "        vertical-align: top;\n",
       "    }\n",
       "\n",
       "    .dataframe thead th {\n",
       "        text-align: right;\n",
       "    }\n",
       "</style>\n",
       "<table border=\"1\" class=\"dataframe\">\n",
       "  <thead>\n",
       "    <tr style=\"text-align: right;\">\n",
       "      <th></th>\n",
       "      <th>amount</th>\n",
       "      <th>nutrient</th>\n",
       "      <th>recipe_id</th>\n",
       "    </tr>\n",
       "  </thead>\n",
       "  <tbody>\n",
       "  </tbody>\n",
       "</table>\n",
       "</div>"
      ],
      "text/plain": [
       "Empty DataFrame\n",
       "Columns: [amount, nutrient, recipe_id]\n",
       "Index: []"
      ]
     },
     "execution_count": 26,
     "metadata": {},
     "output_type": "execute_result"
    }
   ],
   "source": [
    "test = brunch_nutrient_copy.where(brunch_nutrient_copy['recipe_id'] == '33129')\n",
    "test = test.dropna()\n",
    "test.head(1)"
   ]
  },
  {
   "cell_type": "code",
   "execution_count": 27,
   "metadata": {},
   "outputs": [],
   "source": [
    "nutrient_copy = brunch_nutrients_df.merge(brunch_recipes, how='inner', left_on='recipe_id', right_on='recipe_id')"
   ]
  },
  {
   "cell_type": "code",
   "execution_count": 28,
   "metadata": {},
   "outputs": [
    {
     "data": {
      "text/html": [
       "<div>\n",
       "<style scoped>\n",
       "    .dataframe tbody tr th:only-of-type {\n",
       "        vertical-align: middle;\n",
       "    }\n",
       "\n",
       "    .dataframe tbody tr th {\n",
       "        vertical-align: top;\n",
       "    }\n",
       "\n",
       "    .dataframe thead th {\n",
       "        text-align: right;\n",
       "    }\n",
       "</style>\n",
       "<table border=\"1\" class=\"dataframe\">\n",
       "  <thead>\n",
       "    <tr style=\"text-align: right;\">\n",
       "      <th></th>\n",
       "      <th>amount</th>\n",
       "      <th>nutrient</th>\n",
       "      <th>recipe_id</th>\n",
       "      <th>recipe</th>\n",
       "      <th>URL</th>\n",
       "    </tr>\n",
       "  </thead>\n",
       "  <tbody>\n",
       "    <tr>\n",
       "      <th>3366</th>\n",
       "      <td>8.8</td>\n",
       "      <td>Total Fat</td>\n",
       "      <td>33129</td>\n",
       "      <td>Corned Beef Hash</td>\n",
       "      <td>https://www.allrecipes.com/recipe/33129/corned...</td>\n",
       "    </tr>\n",
       "  </tbody>\n",
       "</table>\n",
       "</div>"
      ],
      "text/plain": [
       "      amount   nutrient recipe_id            recipe  \\\n",
       "3366     8.8  Total Fat     33129  Corned Beef Hash   \n",
       "\n",
       "                                                    URL  \n",
       "3366  https://www.allrecipes.com/recipe/33129/corned...  "
      ]
     },
     "execution_count": 28,
     "metadata": {},
     "output_type": "execute_result"
    }
   ],
   "source": [
    "val = nutrient_copy.where(nutrient_copy['recipe_id'] == '33129')\n",
    "val = val.dropna()\n",
    "val.head(1)"
   ]
  },
  {
   "cell_type": "markdown",
   "metadata": {},
   "source": [
    "**From these insights we will make a generalized function to restrict datasets to different types of meal**"
   ]
  },
  {
   "cell_type": "markdown",
   "metadata": {},
   "source": [
    "*Below: unused code put in markdown in case we need to verify how to do certain things *"
   ]
  },
  {
   "cell_type": "markdown",
   "metadata": {},
   "source": [
    "def nutrient_histogram(nutrients_df, name):\n",
    "    \n",
    "    \"\"\"\n",
    "    Plot a histogram with the amount for a specified nutrient. Show median (black) and FDA recommendation (red).\n",
    "    IN: nutrient dataframe and name of the nutrient we want to plot\n",
    "    OUT: histogram with 20 bins for 'amount', median and recommended amounts for the nutrient\n",
    "    \"\"\"\n",
    "    nutrient = nutrients_df.where(nutrients_df['nutrient'] == name)\n",
    "    nutrient = nutrient.dropna()\n",
    "    nutrient = nutrient.reset_index(drop=True)\n",
    "    \n",
    "    recommended = daily_values.where(daily_values['nutrient'] == name)\n",
    "    recommended = recommended.dropna()\n",
    "    recommended = recommended.reset_index(drop=True)\n",
    "    \n",
    "    median = nutrient.amount.median()\n",
    "    rec_value = recommended.at[0, 'amount']\n",
    "\n",
    "    graph = nutrient.hist(column='amount', bins=50);\n",
    "    plt.title(n)\n",
    "    plt.axvline(median, color='k', linestyle='dashed', linewidth=1)\n",
    "    plt.axvline(rec_value, color='r', linestyle='dashed', linewidth=1)\n",
    "        \n",
    "    return median, rec_value, graph"
   ]
  },
  {
   "cell_type": "markdown",
   "metadata": {},
   "source": [
    "nutrient_list = vege_nutrient_all['nutrient'].unique()\n",
    "compare_values = pd.DataFrame(columns=['nutrient', 'median', 'rec_value'])\n",
    "\n",
    "for n in nutrient_list:\n",
    "    median, rec_value, toto = nutrient_histogram(vege_nutrient_all, n);\n",
    "    compare_values = compare_values.append({'nutrient': n, 'median':median, 'rec_value': rec_value}, \n",
    "                                           ignore_index=True)"
   ]
  },
  {
   "cell_type": "markdown",
   "metadata": {},
   "source": [
    "## Create vegetarian, meat, poultry, and fish recipe datasets\n",
    "\n",
    "Just having recipes is not representative of what people are eating since we cannot say how much they eat or how often. So we will instead compare the nutrient profiles of four meal types: vegetarian, meat dishes, fish dishes, and poultry dishes."
   ]
  },
  {
   "cell_type": "code",
   "execution_count": 29,
   "metadata": {},
   "outputs": [],
   "source": [
    "def restrict_diet(nutrients_df, ingredients_df, recipes_df, filename, vegetarian=True):\n",
    "    \"\"\"\n",
    "    For all words listed in the file, if that word is contained in ingredients_df, we take the recipe ID.\n",
    "    If the desired result shall be vegetarian, all recipes with this ID are removed from the list of nutrients.\n",
    "    If the desired result won't be vegetarian, then only recipes with this ID are kept in the list of nutrients.\n",
    "    IN: ingredients, nutrients, and recipes, also the name of the file, and a boolean signifying if the result \n",
    "    should be vegetarian or not.\n",
    "    OUT: nutrients from the restricted set of recipes.\n",
    "    \"\"\"\n",
    "    \n",
    "    f = open(filename, 'r')\n",
    "    file = f.read().splitlines()\n",
    "    f.close()\n",
    "    \n",
    "    #inner merge ingredients with recipes to associate them with recipe IDs that have nutrients\n",
    "    ingredients_copy = ingredients_df.copy()\n",
    "    ingredients_copy = ingredients_copy.merge(recipes_df, left_on='recipe_id', right_on='recipe_id', \n",
    "                                              how='inner', sort=False)\n",
    "    \n",
    "    #Create a dataframe of IDs, corresponding to recipes that contain words in the given file\n",
    "    ids = pd.DataFrame(columns=['URL', 'ingredient', 'recipe', 'recipe_id'])\n",
    "    for i in range(len(file)):\n",
    "        ids = ids.append(ingredients_copy[ingredients_copy['ingredient'].str\n",
    "                                                            .contains(file[i])], sort=False)\n",
    "    \n",
    "    nutrients_copy = nutrients_df.copy()\n",
    "    \n",
    "    if vegetarian:\n",
    "        #The vegetarian recipes are those not listed in ids; we keep their nutrients\n",
    "        nutrients_copy=nutrients_copy[~nutrients_copy.recipe_id.isin(ids['recipe_id'].tolist())]\n",
    "    else:\n",
    "        nutrients_copy = nutrients_copy[nutrients_copy.recipe_id.isin(ids['recipe_id'].tolist())]\n",
    "    \n",
    "    return nutrients_copy"
   ]
  },
  {
   "cell_type": "code",
   "execution_count": 30,
   "metadata": {},
   "outputs": [],
   "source": [
    "#creation of large dataset containing all recipes we have\n",
    "\n",
    "allrecipes_nutrients = pd.DataFrame(columns=['amount', 'nutrient', 'recipe_id'])\n",
    "allrecipes_nutrients = allrecipes_nutrients.append(dinner_nutrients_df, ignore_index = True, sort = False)\n",
    "allrecipes_nutrients = allrecipes_nutrients.append(brunch_nutrients_df, ignore_index = True, sort = False)\n",
    "allrecipes_nutrients = allrecipes_nutrients.append(vege_nutrients_df, ignore_index = True, sort = False)\n",
    "\n",
    "allrecipes_ingredients = pd.DataFrame(columns=['ingredient', 'recipe_id'])\n",
    "allrecipes_ingredients = allrecipes_ingredients.append(dinner_ingredients_df, ignore_index = True, sort = False)\n",
    "allrecipes_ingredients = allrecipes_ingredients.append(brunch_ingredients_df, ignore_index = True, sort = False)\n",
    "allrecipes_ingredients = allrecipes_ingredients.append(vege_ingredients_df, ignore_index = True, sort = False)\n",
    "\n",
    "allrecipes = pd.DataFrame(columns=['recipe_id', 'recipe', 'URL'])\n",
    "allrecipes = allrecipes.append(dinner_recipe_df, ignore_index = True, sort = False)\n",
    "allrecipes = allrecipes.append(brunch_recipes, ignore_index = True, sort = False)\n",
    "allrecipes = allrecipes.append(vege_recipes, ignore_index = True, sort = False)"
   ]
  },
  {
   "cell_type": "code",
   "execution_count": 31,
   "metadata": {},
   "outputs": [
    {
     "data": {
      "text/plain": [
       "(3110, 3)"
      ]
     },
     "execution_count": 31,
     "metadata": {},
     "output_type": "execute_result"
    }
   ],
   "source": [
    "allrecipes.shape"
   ]
  },
  {
   "cell_type": "code",
   "execution_count": 32,
   "metadata": {},
   "outputs": [],
   "source": [
    "#vegetarian meals\n",
    "#the words from each file must be removed separately\n",
    "temp_vege_nutrients = restrict_diet(allrecipes_nutrients, allrecipes_ingredients, allrecipes, \n",
    "                                          filename = 'data/meats')\n",
    "temp_vege_nutrients = restrict_diet(temp_vege_nutrients, allrecipes_ingredients, allrecipes, \n",
    "                                     filename = 'data/fish')\n",
    "vege_nutrients = restrict_diet(temp_vege_nutrients, allrecipes_ingredients, allrecipes, \n",
    "                                     filename = 'data/poultry')"
   ]
  },
  {
   "cell_type": "code",
   "execution_count": 33,
   "metadata": {},
   "outputs": [],
   "source": [
    "#meat, fish, and poultry meals\n",
    "meat_nutrients = restrict_diet(allrecipes_nutrients, allrecipes_ingredients, allrecipes, \n",
    "                                     filename = 'data/meats', vegetarian = False)\n",
    "fish_nutrients = restrict_diet(allrecipes_nutrients, allrecipes_ingredients, allrecipes, \n",
    "                                     filename = 'data/fish', vegetarian = False)\n",
    "poultry_nutrients = restrict_diet(allrecipes_nutrients, allrecipes_ingredients, allrecipes, \n",
    "                                     filename = 'data/poultry', vegetarian = False)"
   ]
  },
  {
   "cell_type": "markdown",
   "metadata": {},
   "source": [
    "# Convert macromolecules to calories\n",
    "We want to calculate macromolecules as % total calories, as we have recommended percentages as Dietary Reference Intakes, which are acceptable macronutrient distribution ranges from this [page](https://www.ncbi.nlm.nih.gov/books/NBK56068/table/summarytables.t5/?report=objectonly).\n",
    "\n",
    "We can convert total fat grams to kilocalories by the following calculation: (Total Fat Weight in grams * 9)\n",
    "\n",
    "We can convert carbohydrates: (Saturated Fat in grams * 4)\n",
    "\n",
    "We can convert Protein: (Protein in grams * 4)\n",
    "\n",
    "Only these three macromolecules contribute in any significant way to the total calories of a recipe, so the total calories can be calculated by adding them. Knowing the total calories of the recipe, it is easy to calculate what percentage of this total is due to each of the three macromolecules above: 100 * calories of macromolecule / total calories."
   ]
  },
  {
   "cell_type": "code",
   "execution_count": 34,
   "metadata": {},
   "outputs": [],
   "source": [
    "def calories(nutrients_df):\n",
    "    \"\"\"\n",
    "    Convert amounts (in grams) for Total Fat, Carbohydrates, and Protein into kilocalories\n",
    "    IN: dataframe with nutrients and corresponding amounts\n",
    "    OUT: dataframe with the recipe id as index and columns containing the amounts in kilocalories for fat, protein,\n",
    "    carbohydrates, and the total caloric content of the recipe\n",
    "    \"\"\"\n",
    "    calorie_df = pd.DataFrame()\n",
    "    \n",
    "    fat_df = nutrients_df.where(nutrients_df.nutrient == 'Total Fat')\n",
    "    fat_df = fat_df.dropna()\n",
    "    fat_df['amount'] = fat_df['amount'] * 9\n",
    "    fat_df = fat_df.set_index(fat_df['recipe_id'], drop=False)\n",
    "    calorie_df['fat_kcal'] = fat_df['amount']\n",
    "    \n",
    "    carb_df = nutrients_df.where(nutrients_df.nutrient == 'Total Carbohydrates')\n",
    "    carb_df = carb_df.dropna()\n",
    "    carb_df['amount'] = carb_df['amount'] * 4\n",
    "    carb_df = carb_df.set_index(carb_df['recipe_id'], drop=False)\n",
    "    calorie_df['carbohydrates_kcal'] = carb_df['amount']\n",
    "    \n",
    "    prot_df = nutrients_df.where(nutrients_df.nutrient == 'Protein')\n",
    "    prot_df = prot_df.dropna()\n",
    "    prot_df['amount'] = prot_df['amount'] * 4\n",
    "    prot_df = prot_df.set_index(prot_df['recipe_id'], drop=False)\n",
    "    calorie_df['protein_kcal'] = prot_df['amount']\n",
    "    \n",
    "    total_kcal = fat_df['amount'] + prot_df['amount'] + carb_df['amount']\n",
    "    calorie_df['total_kcal'] = total_kcal\n",
    "    \n",
    "    return calorie_df"
   ]
  },
  {
   "cell_type": "code",
   "execution_count": 35,
   "metadata": {},
   "outputs": [
    {
     "data": {
      "text/html": [
       "<div>\n",
       "<style scoped>\n",
       "    .dataframe tbody tr th:only-of-type {\n",
       "        vertical-align: middle;\n",
       "    }\n",
       "\n",
       "    .dataframe tbody tr th {\n",
       "        vertical-align: top;\n",
       "    }\n",
       "\n",
       "    .dataframe thead th {\n",
       "        text-align: right;\n",
       "    }\n",
       "</style>\n",
       "<table border=\"1\" class=\"dataframe\">\n",
       "  <thead>\n",
       "    <tr style=\"text-align: right;\">\n",
       "      <th></th>\n",
       "      <th>fat_kcal</th>\n",
       "      <th>carbohydrates_kcal</th>\n",
       "      <th>protein_kcal</th>\n",
       "      <th>total_kcal</th>\n",
       "    </tr>\n",
       "    <tr>\n",
       "      <th>recipe_id</th>\n",
       "      <th></th>\n",
       "      <th></th>\n",
       "      <th></th>\n",
       "      <th></th>\n",
       "    </tr>\n",
       "  </thead>\n",
       "  <tbody>\n",
       "    <tr>\n",
       "      <th>16066</th>\n",
       "      <td>213.3</td>\n",
       "      <td>19.6</td>\n",
       "      <td>182.4</td>\n",
       "      <td>415.3</td>\n",
       "    </tr>\n",
       "    <tr>\n",
       "      <th>26257</th>\n",
       "      <td>378.9</td>\n",
       "      <td>203.6</td>\n",
       "      <td>80.4</td>\n",
       "      <td>662.9</td>\n",
       "    </tr>\n",
       "    <tr>\n",
       "      <th>16427</th>\n",
       "      <td>142.2</td>\n",
       "      <td>6.4</td>\n",
       "      <td>157.6</td>\n",
       "      <td>306.2</td>\n",
       "    </tr>\n",
       "  </tbody>\n",
       "</table>\n",
       "</div>"
      ],
      "text/plain": [
       "           fat_kcal  carbohydrates_kcal  protein_kcal  total_kcal\n",
       "recipe_id                                                        \n",
       "16066         213.3                19.6         182.4       415.3\n",
       "26257         378.9               203.6          80.4       662.9\n",
       "16427         142.2                 6.4         157.6       306.2"
      ]
     },
     "execution_count": 35,
     "metadata": {},
     "output_type": "execute_result"
    }
   ],
   "source": [
    "vege_kcal_nutrients = calories(vege_nutrients)\n",
    "vege_kcal_nutrients.head(3)"
   ]
  },
  {
   "cell_type": "code",
   "execution_count": 36,
   "metadata": {},
   "outputs": [],
   "source": [
    "meat_kcal_nutrients = calories(meat_nutrients)\n",
    "fish_kcal_nutrients = calories(fish_nutrients)\n",
    "poultry_kcal_nutrients = calories(poultry_nutrients)"
   ]
  },
  {
   "cell_type": "code",
   "execution_count": 50,
   "metadata": {},
   "outputs": [
    {
     "data": {
      "text/plain": [
       "<matplotlib.axes._subplots.AxesSubplot at 0x7ff742a48da0>"
      ]
     },
     "execution_count": 50,
     "metadata": {},
     "output_type": "execute_result"
    },
    {
     "data": {
      "image/png": "[encoded data removed]",
      "text/plain": [
       "<Figure size 432x288 with 1 Axes>"
      ]
     },
     "metadata": {},
     "output_type": "display_data"
    },
    {
     "data": {
      "image/png": "[encoded data removed]",
      "text/plain": [
       "<Figure size 432x288 with 1 Axes>"
      ]
     },
     "metadata": {},
     "output_type": "display_data"
    }
   ],
   "source": [
    "vege_kcal_nutrients.plot('total_kcal', 'fat_kcal', kind='scatter', color='green')\n",
    "meat_kcal_nutrients.plot('total_kcal', 'fat_kcal', kind='scatter', color='red')"
   ]
  },
  {
   "cell_type": "markdown",
   "metadata": {},
   "source": [
    "### Plotting nutrient profile histograms\n",
    "\n",
    "Ideally, we will be able to plot on the same histogram data from all meal types"
   ]
  },
  {
   "cell_type": "code",
   "execution_count": 38,
   "metadata": {},
   "outputs": [],
   "source": [
    "def nutrient_histogram(nutrients_df, name):\n",
    "    \n",
    "    \"\"\"\n",
    "    Plot a histogram with the amount for a specified nutrient. Show median.\n",
    "    IN: nutrient dataframe and name of the nutrient we want to plot\n",
    "    OUT: histogram with 20 bins for 'amount', median and recommended amounts for the nutrient\n",
    "    \"\"\"\n",
    "    nutrient = nutrients_df.where(nutrients_df['nutrient'] == name)\n",
    "    nutrient = nutrient.dropna()\n",
    "    nutrient = nutrient.reset_index(drop=True)\n",
    "    \n",
    "    median = nutrient.amount.median()\n",
    "\n",
    "    graph = nutrient.hist(column='amount', bins=50);\n",
    "    plt.title(n)\n",
    "    plt.axvline(median, color='k', linestyle='dashed', linewidth=1)\n",
    "        \n",
    "    return median, graph"
   ]
  },
  {
   "cell_type": "code",
   "execution_count": null,
   "metadata": {},
   "outputs": [],
   "source": []
  }
 ],
 "metadata": {
  "kernelspec": {
   "display_name": "Python 3",
   "language": "python",
   "name": "python3"
  },
  "language_info": {
   "codemirror_mode": {
    "name": "ipython",
    "version": 3
   },
   "file_extension": ".py",
   "mimetype": "text/x-python",
   "name": "python",
   "nbconvert_exporter": "python",
   "pygments_lexer": "ipython3",
   "version": "3.6.5"
  }
 },
 "nbformat": 4,
 "nbformat_minor": 2
}
