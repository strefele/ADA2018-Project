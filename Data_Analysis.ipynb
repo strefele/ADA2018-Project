{
 "cells": [
  {
   "cell_type": "code",
   "execution_count": 1,
   "metadata": {},
   "outputs": [],
   "source": [
    "import pandas as pd\n",
    "import numpy as np\n",
    "%matplotlib inline\n",
    "import matplotlib.pyplot as plt\n",
    "import re"
   ]
  },
  {
   "cell_type": "code",
   "execution_count": 2,
   "metadata": {},
   "outputs": [],
   "source": [
    "DATA_FOLDER = 'data'"
   ]
  },
  {
   "cell_type": "code",
   "execution_count": 3,
   "metadata": {},
   "outputs": [],
   "source": [
    "dinner_nutrients_df = pd.read_csv('dinner_nutrient.csv')\n",
    "dinner_ingredients_df = pd.read_csv('dinner_ingredient.csv')\n",
    "\n",
    "brunch_nutrients_first = pd.read_csv('brunch_nutrient_1-120.csv')\n",
    "brunch_nutrients_next = pd.read_csv('brunch_nutrient_121-524.csv')\n",
    "brunch_ingredients_first = pd.read_csv('brunch_ingredient_1-120.csv')\n",
    "brunch_ingredients_next = pd.read_csv('brunch_ingredient_121-524.csv')\n",
    "\n",
    "vege_nutrients_df = pd.read_csv('vegetarian_nutrient.csv')\n",
    "vege_ingredients_df = pd.read_csv('vegetarian_ingredient.csv')"
   ]
  },
  {
   "cell_type": "code",
   "execution_count": 4,
   "metadata": {},
   "outputs": [],
   "source": [
    "daily_values = pd.read_csv('data/DailyValues', sep=':', header=None, names=['nutrient', 'unit', 'amount'])"
   ]
  },
  {
   "cell_type": "markdown",
   "metadata": {},
   "source": [
    "## What we need to do\n",
    "\n",
    "**Cleaning:**\n",
    "1. Make quantities of nutrients into integers (while respecting units)\n",
    "\n",
    "**Analysis:**\n",
    "1. Plot histograms of the quantity of a given nutrient thoughout the vegetarian recipes\n",
    "2. Calculate median and mode (= most common value)\n",
    "3. Compare these with the FDA recommendation. NOTE this needs to be per serving\n",
    "4. Calculate median and mode from omnivorous dataset. For large differences with the vegetarian data, also view histogram. Compare together and with FDA.\n",
    "5. For vegetarian histograms with large discrepencies (some recipes with high levels of nutrient, others with low levels), cross-reference ingredients to see what may be responsible for providing the nutrient.\n",
    "\n",
    "**Visualization of results:**\n",
    "1. It would be good to plot the FDA recommendation on the histogram, also median and mode"
   ]
  },
  {
   "cell_type": "markdown",
   "metadata": {},
   "source": [
    "### Lets explore the data and do some cleaning"
   ]
  },
  {
   "cell_type": "code",
   "execution_count": 5,
   "metadata": {
    "scrolled": false
   },
   "outputs": [
    {
     "data": {
      "text/html": [
       "<div>\n",
       "<style scoped>\n",
       "    .dataframe tbody tr th:only-of-type {\n",
       "        vertical-align: middle;\n",
       "    }\n",
       "\n",
       "    .dataframe tbody tr th {\n",
       "        vertical-align: top;\n",
       "    }\n",
       "\n",
       "    .dataframe thead th {\n",
       "        text-align: right;\n",
       "    }\n",
       "</style>\n",
       "<table border=\"1\" class=\"dataframe\">\n",
       "  <thead>\n",
       "    <tr style=\"text-align: right;\">\n",
       "      <th></th>\n",
       "      <th>Unnamed: 0</th>\n",
       "      <th>URL</th>\n",
       "      <th>amount</th>\n",
       "      <th>nutrient</th>\n",
       "      <th>recipe</th>\n",
       "    </tr>\n",
       "  </thead>\n",
       "  <tbody>\n",
       "    <tr>\n",
       "      <th>0</th>\n",
       "      <td>0</td>\n",
       "      <td>https://www.allrecipes.com/recipe/222607/smoth...</td>\n",
       "      <td>20.1g</td>\n",
       "      <td>Total Fat</td>\n",
       "      <td>Smothered Chicken Breasts</td>\n",
       "    </tr>\n",
       "    <tr>\n",
       "      <th>1</th>\n",
       "      <td>1</td>\n",
       "      <td>https://www.allrecipes.com/recipe/222607/smoth...</td>\n",
       "      <td>8.0g</td>\n",
       "      <td>Saturated Fat</td>\n",
       "      <td>Smothered Chicken Breasts</td>\n",
       "    </tr>\n",
       "    <tr>\n",
       "      <th>2</th>\n",
       "      <td>2</td>\n",
       "      <td>https://www.allrecipes.com/recipe/222607/smoth...</td>\n",
       "      <td>124mg</td>\n",
       "      <td>Cholesterol</td>\n",
       "      <td>Smothered Chicken Breasts</td>\n",
       "    </tr>\n",
       "    <tr>\n",
       "      <th>3</th>\n",
       "      <td>3</td>\n",
       "      <td>https://www.allrecipes.com/recipe/222607/smoth...</td>\n",
       "      <td>809mg</td>\n",
       "      <td>Sodium</td>\n",
       "      <td>Smothered Chicken Breasts</td>\n",
       "    </tr>\n",
       "    <tr>\n",
       "      <th>4</th>\n",
       "      <td>4</td>\n",
       "      <td>https://www.allrecipes.com/recipe/222607/smoth...</td>\n",
       "      <td>377mg</td>\n",
       "      <td>Potassium</td>\n",
       "      <td>Smothered Chicken Breasts</td>\n",
       "    </tr>\n",
       "    <tr>\n",
       "      <th>5</th>\n",
       "      <td>5</td>\n",
       "      <td>https://www.allrecipes.com/recipe/222607/smoth...</td>\n",
       "      <td>16.9g</td>\n",
       "      <td>Total Carbohydrates</td>\n",
       "      <td>Smothered Chicken Breasts</td>\n",
       "    </tr>\n",
       "    <tr>\n",
       "      <th>6</th>\n",
       "      <td>6</td>\n",
       "      <td>https://www.allrecipes.com/recipe/222607/smoth...</td>\n",
       "      <td>0.5g</td>\n",
       "      <td>Dietary Fiber</td>\n",
       "      <td>Smothered Chicken Breasts</td>\n",
       "    </tr>\n",
       "    <tr>\n",
       "      <th>7</th>\n",
       "      <td>7</td>\n",
       "      <td>https://www.allrecipes.com/recipe/222607/smoth...</td>\n",
       "      <td>44g</td>\n",
       "      <td>Protein</td>\n",
       "      <td>Smothered Chicken Breasts</td>\n",
       "    </tr>\n",
       "    <tr>\n",
       "      <th>8</th>\n",
       "      <td>8</td>\n",
       "      <td>https://www.allrecipes.com/recipe/222607/smoth...</td>\n",
       "      <td>15g</td>\n",
       "      <td>Sugars</td>\n",
       "      <td>Smothered Chicken Breasts</td>\n",
       "    </tr>\n",
       "    <tr>\n",
       "      <th>9</th>\n",
       "      <td>9</td>\n",
       "      <td>https://www.allrecipes.com/recipe/222607/smoth...</td>\n",
       "      <td>29IU</td>\n",
       "      <td>Vitamin A</td>\n",
       "      <td>Smothered Chicken Breasts</td>\n",
       "    </tr>\n",
       "    <tr>\n",
       "      <th>10</th>\n",
       "      <td>10</td>\n",
       "      <td>https://www.allrecipes.com/recipe/222607/smoth...</td>\n",
       "      <td>2mg</td>\n",
       "      <td>Vitamin C</td>\n",
       "      <td>Smothered Chicken Breasts</td>\n",
       "    </tr>\n",
       "    <tr>\n",
       "      <th>11</th>\n",
       "      <td>11</td>\n",
       "      <td>https://www.allrecipes.com/recipe/222607/smoth...</td>\n",
       "      <td>35mg</td>\n",
       "      <td>Calcium</td>\n",
       "      <td>Smothered Chicken Breasts</td>\n",
       "    </tr>\n",
       "    <tr>\n",
       "      <th>12</th>\n",
       "      <td>12</td>\n",
       "      <td>https://www.allrecipes.com/recipe/222607/smoth...</td>\n",
       "      <td>1mg</td>\n",
       "      <td>Iron</td>\n",
       "      <td>Smothered Chicken Breasts</td>\n",
       "    </tr>\n",
       "    <tr>\n",
       "      <th>13</th>\n",
       "      <td>13</td>\n",
       "      <td>https://www.allrecipes.com/recipe/222607/smoth...</td>\n",
       "      <td>0mg</td>\n",
       "      <td>Thiamin</td>\n",
       "      <td>Smothered Chicken Breasts</td>\n",
       "    </tr>\n",
       "    <tr>\n",
       "      <th>14</th>\n",
       "      <td>14</td>\n",
       "      <td>https://www.allrecipes.com/recipe/222607/smoth...</td>\n",
       "      <td>19mg</td>\n",
       "      <td>Niacin</td>\n",
       "      <td>Smothered Chicken Breasts</td>\n",
       "    </tr>\n",
       "    <tr>\n",
       "      <th>15</th>\n",
       "      <td>15</td>\n",
       "      <td>https://www.allrecipes.com/recipe/222607/smoth...</td>\n",
       "      <td>0mg</td>\n",
       "      <td>Vitamin B6</td>\n",
       "      <td>Smothered Chicken Breasts</td>\n",
       "    </tr>\n",
       "    <tr>\n",
       "      <th>16</th>\n",
       "      <td>16</td>\n",
       "      <td>https://www.allrecipes.com/recipe/222607/smoth...</td>\n",
       "      <td>38mg</td>\n",
       "      <td>Magnesium</td>\n",
       "      <td>Smothered Chicken Breasts</td>\n",
       "    </tr>\n",
       "    <tr>\n",
       "      <th>17</th>\n",
       "      <td>17</td>\n",
       "      <td>https://www.allrecipes.com/recipe/222607/smoth...</td>\n",
       "      <td>9mcg</td>\n",
       "      <td>Folate</td>\n",
       "      <td>Smothered Chicken Breasts</td>\n",
       "    </tr>\n",
       "    <tr>\n",
       "      <th>18</th>\n",
       "      <td>0</td>\n",
       "      <td>https://www.allrecipes.com/recipe/15679/asian-...</td>\n",
       "      <td>10g</td>\n",
       "      <td>Total Fat</td>\n",
       "      <td>Asian Beef with Snow Peas</td>\n",
       "    </tr>\n",
       "    <tr>\n",
       "      <th>19</th>\n",
       "      <td>1</td>\n",
       "      <td>https://www.allrecipes.com/recipe/15679/asian-...</td>\n",
       "      <td>3.0g</td>\n",
       "      <td>Saturated Fat</td>\n",
       "      <td>Asian Beef with Snow Peas</td>\n",
       "    </tr>\n",
       "  </tbody>\n",
       "</table>\n",
       "</div>"
      ],
      "text/plain": [
       "    Unnamed: 0                                                URL amount  \\\n",
       "0            0  https://www.allrecipes.com/recipe/222607/smoth...  20.1g   \n",
       "1            1  https://www.allrecipes.com/recipe/222607/smoth...   8.0g   \n",
       "2            2  https://www.allrecipes.com/recipe/222607/smoth...  124mg   \n",
       "3            3  https://www.allrecipes.com/recipe/222607/smoth...  809mg   \n",
       "4            4  https://www.allrecipes.com/recipe/222607/smoth...  377mg   \n",
       "5            5  https://www.allrecipes.com/recipe/222607/smoth...  16.9g   \n",
       "6            6  https://www.allrecipes.com/recipe/222607/smoth...   0.5g   \n",
       "7            7  https://www.allrecipes.com/recipe/222607/smoth...    44g   \n",
       "8            8  https://www.allrecipes.com/recipe/222607/smoth...    15g   \n",
       "9            9  https://www.allrecipes.com/recipe/222607/smoth...   29IU   \n",
       "10          10  https://www.allrecipes.com/recipe/222607/smoth...    2mg   \n",
       "11          11  https://www.allrecipes.com/recipe/222607/smoth...   35mg   \n",
       "12          12  https://www.allrecipes.com/recipe/222607/smoth...    1mg   \n",
       "13          13  https://www.allrecipes.com/recipe/222607/smoth...    0mg   \n",
       "14          14  https://www.allrecipes.com/recipe/222607/smoth...   19mg   \n",
       "15          15  https://www.allrecipes.com/recipe/222607/smoth...    0mg   \n",
       "16          16  https://www.allrecipes.com/recipe/222607/smoth...   38mg   \n",
       "17          17  https://www.allrecipes.com/recipe/222607/smoth...   9mcg   \n",
       "18           0  https://www.allrecipes.com/recipe/15679/asian-...    10g   \n",
       "19           1  https://www.allrecipes.com/recipe/15679/asian-...   3.0g   \n",
       "\n",
       "               nutrient                     recipe  \n",
       "0             Total Fat  Smothered Chicken Breasts  \n",
       "1         Saturated Fat  Smothered Chicken Breasts  \n",
       "2           Cholesterol  Smothered Chicken Breasts  \n",
       "3                Sodium  Smothered Chicken Breasts  \n",
       "4             Potassium  Smothered Chicken Breasts  \n",
       "5   Total Carbohydrates  Smothered Chicken Breasts  \n",
       "6         Dietary Fiber  Smothered Chicken Breasts  \n",
       "7               Protein  Smothered Chicken Breasts  \n",
       "8                Sugars  Smothered Chicken Breasts  \n",
       "9             Vitamin A  Smothered Chicken Breasts  \n",
       "10            Vitamin C  Smothered Chicken Breasts  \n",
       "11              Calcium  Smothered Chicken Breasts  \n",
       "12                 Iron  Smothered Chicken Breasts  \n",
       "13              Thiamin  Smothered Chicken Breasts  \n",
       "14               Niacin  Smothered Chicken Breasts  \n",
       "15           Vitamin B6  Smothered Chicken Breasts  \n",
       "16            Magnesium  Smothered Chicken Breasts  \n",
       "17               Folate  Smothered Chicken Breasts  \n",
       "18            Total Fat  Asian Beef with Snow Peas  \n",
       "19        Saturated Fat  Asian Beef with Snow Peas  "
      ]
     },
     "execution_count": 5,
     "metadata": {},
     "output_type": "execute_result"
    }
   ],
   "source": [
    "dinner_nutrients_df.head(20)"
   ]
  },
  {
   "cell_type": "markdown",
   "metadata": {},
   "source": [
    "We wonder if the amounts for each nutrient always have the same units. Lets verify with Sodium since this is likely to vary a lot. Below only 'head' is displayed, but we checked throughout the dataset."
   ]
  },
  {
   "cell_type": "code",
   "execution_count": 6,
   "metadata": {},
   "outputs": [],
   "source": [
    "dinner_nutrients_df = dinner_nutrients_df.drop([\"Unnamed: 0\"], axis=1)\n",
    "dinner_ingredients_df = dinner_ingredients_df.drop([\"Unnamed: 0\"], axis=1)"
   ]
  },
  {
   "cell_type": "code",
   "execution_count": 7,
   "metadata": {},
   "outputs": [
    {
     "data": {
      "text/html": [
       "<div>\n",
       "<style scoped>\n",
       "    .dataframe tbody tr th:only-of-type {\n",
       "        vertical-align: middle;\n",
       "    }\n",
       "\n",
       "    .dataframe tbody tr th {\n",
       "        vertical-align: top;\n",
       "    }\n",
       "\n",
       "    .dataframe thead th {\n",
       "        text-align: right;\n",
       "    }\n",
       "</style>\n",
       "<table border=\"1\" class=\"dataframe\">\n",
       "  <thead>\n",
       "    <tr style=\"text-align: right;\">\n",
       "      <th></th>\n",
       "      <th>URL</th>\n",
       "      <th>amount</th>\n",
       "      <th>nutrient</th>\n",
       "      <th>recipe</th>\n",
       "    </tr>\n",
       "  </thead>\n",
       "  <tbody>\n",
       "    <tr>\n",
       "      <th>0</th>\n",
       "      <td>https://www.allrecipes.com/recipe/222607/smoth...</td>\n",
       "      <td>809mg</td>\n",
       "      <td>Sodium</td>\n",
       "      <td>Smothered Chicken Breasts</td>\n",
       "    </tr>\n",
       "    <tr>\n",
       "      <th>1</th>\n",
       "      <td>https://www.allrecipes.com/recipe/15679/asian-...</td>\n",
       "      <td>711mg</td>\n",
       "      <td>Sodium</td>\n",
       "      <td>Asian Beef with Snow Peas</td>\n",
       "    </tr>\n",
       "    <tr>\n",
       "      <th>2</th>\n",
       "      <td>https://www.allrecipes.com/recipe/23847/pasta-...</td>\n",
       "      <td>350mg</td>\n",
       "      <td>Sodium</td>\n",
       "      <td>Pasta Pomodoro</td>\n",
       "    </tr>\n",
       "    <tr>\n",
       "      <th>3</th>\n",
       "      <td>https://www.allrecipes.com/recipe/50435/fry-br...</td>\n",
       "      <td>2255mg</td>\n",
       "      <td>Sodium</td>\n",
       "      <td>Fry Bread Tacos II</td>\n",
       "    </tr>\n",
       "    <tr>\n",
       "      <th>4</th>\n",
       "      <td>https://www.allrecipes.com/recipe/140829/pork-...</td>\n",
       "      <td>356mg</td>\n",
       "      <td>Sodium</td>\n",
       "      <td>Pork Marsala</td>\n",
       "    </tr>\n",
       "  </tbody>\n",
       "</table>\n",
       "</div>"
      ],
      "text/plain": [
       "                                                 URL  amount nutrient  \\\n",
       "0  https://www.allrecipes.com/recipe/222607/smoth...   809mg   Sodium   \n",
       "1  https://www.allrecipes.com/recipe/15679/asian-...   711mg   Sodium   \n",
       "2  https://www.allrecipes.com/recipe/23847/pasta-...   350mg   Sodium   \n",
       "3  https://www.allrecipes.com/recipe/50435/fry-br...  2255mg   Sodium   \n",
       "4  https://www.allrecipes.com/recipe/140829/pork-...   356mg   Sodium   \n",
       "\n",
       "                      recipe  \n",
       "0  Smothered Chicken Breasts  \n",
       "1  Asian Beef with Snow Peas  \n",
       "2             Pasta Pomodoro  \n",
       "3         Fry Bread Tacos II  \n",
       "4               Pork Marsala  "
      ]
     },
     "execution_count": 7,
     "metadata": {},
     "output_type": "execute_result"
    }
   ],
   "source": [
    "sodium = dinner_nutrients_df.where(dinner_nutrients_df['nutrient'] == \"Sodium\")\n",
    "sodium = sodium.dropna()\n",
    "sodium = sodium.reset_index(drop=True)\n",
    "sodium.head()"
   ]
  },
  {
   "cell_type": "markdown",
   "metadata": {},
   "source": [
    "The unit is the same for each value of a given nutrient, therefore we can drop these letters without worry.\n",
    "\n",
    "Vitamin A will be completely ignored since it is given in IU. This unit will no longer be valid from 2021. In addition, it cannot be converted into micrograms since this depends on its origin: retinol (pre-formed vitamin A) or beta-carotene (a precursor)."
   ]
  },
  {
   "cell_type": "code",
   "execution_count": 8,
   "metadata": {},
   "outputs": [],
   "source": [
    "dinner_nutrients_df = dinner_nutrients_df[dinner_nutrients_df.nutrient != \"Vitamin A\"]"
   ]
  },
  {
   "cell_type": "code",
   "execution_count": 9,
   "metadata": {},
   "outputs": [
    {
     "data": {
      "text/html": [
       "<div>\n",
       "<style scoped>\n",
       "    .dataframe tbody tr th:only-of-type {\n",
       "        vertical-align: middle;\n",
       "    }\n",
       "\n",
       "    .dataframe tbody tr th {\n",
       "        vertical-align: top;\n",
       "    }\n",
       "\n",
       "    .dataframe thead th {\n",
       "        text-align: right;\n",
       "    }\n",
       "</style>\n",
       "<table border=\"1\" class=\"dataframe\">\n",
       "  <thead>\n",
       "    <tr style=\"text-align: right;\">\n",
       "      <th></th>\n",
       "      <th>URL</th>\n",
       "      <th>amount</th>\n",
       "      <th>nutrient</th>\n",
       "      <th>recipe</th>\n",
       "    </tr>\n",
       "  </thead>\n",
       "  <tbody>\n",
       "    <tr>\n",
       "      <th>0</th>\n",
       "      <td>https://www.allrecipes.com/recipe/222607/smoth...</td>\n",
       "      <td>20.1g</td>\n",
       "      <td>Total Fat</td>\n",
       "      <td>Smothered Chicken Breasts</td>\n",
       "    </tr>\n",
       "    <tr>\n",
       "      <th>1</th>\n",
       "      <td>https://www.allrecipes.com/recipe/222607/smoth...</td>\n",
       "      <td>8.0g</td>\n",
       "      <td>Saturated Fat</td>\n",
       "      <td>Smothered Chicken Breasts</td>\n",
       "    </tr>\n",
       "    <tr>\n",
       "      <th>2</th>\n",
       "      <td>https://www.allrecipes.com/recipe/222607/smoth...</td>\n",
       "      <td>124mg</td>\n",
       "      <td>Cholesterol</td>\n",
       "      <td>Smothered Chicken Breasts</td>\n",
       "    </tr>\n",
       "    <tr>\n",
       "      <th>3</th>\n",
       "      <td>https://www.allrecipes.com/recipe/222607/smoth...</td>\n",
       "      <td>809mg</td>\n",
       "      <td>Sodium</td>\n",
       "      <td>Smothered Chicken Breasts</td>\n",
       "    </tr>\n",
       "    <tr>\n",
       "      <th>4</th>\n",
       "      <td>https://www.allrecipes.com/recipe/222607/smoth...</td>\n",
       "      <td>377mg</td>\n",
       "      <td>Potassium</td>\n",
       "      <td>Smothered Chicken Breasts</td>\n",
       "    </tr>\n",
       "  </tbody>\n",
       "</table>\n",
       "</div>"
      ],
      "text/plain": [
       "                                                 URL amount       nutrient  \\\n",
       "0  https://www.allrecipes.com/recipe/222607/smoth...  20.1g      Total Fat   \n",
       "1  https://www.allrecipes.com/recipe/222607/smoth...   8.0g  Saturated Fat   \n",
       "2  https://www.allrecipes.com/recipe/222607/smoth...  124mg    Cholesterol   \n",
       "3  https://www.allrecipes.com/recipe/222607/smoth...  809mg         Sodium   \n",
       "4  https://www.allrecipes.com/recipe/222607/smoth...  377mg      Potassium   \n",
       "\n",
       "                      recipe  \n",
       "0  Smothered Chicken Breasts  \n",
       "1  Smothered Chicken Breasts  \n",
       "2  Smothered Chicken Breasts  \n",
       "3  Smothered Chicken Breasts  \n",
       "4  Smothered Chicken Breasts  "
      ]
     },
     "execution_count": 9,
     "metadata": {},
     "output_type": "execute_result"
    }
   ],
   "source": [
    "dinner_nutrients_df.head()"
   ]
  },
  {
   "cell_type": "code",
   "execution_count": 10,
   "metadata": {},
   "outputs": [
    {
     "data": {
      "text/plain": [
       "URL          object\n",
       "amount      float64\n",
       "nutrient     object\n",
       "recipe       object\n",
       "dtype: object"
      ]
     },
     "execution_count": 10,
     "metadata": {},
     "output_type": "execute_result"
    }
   ],
   "source": [
    "#Remove the letters m, c, g, I, U from the string amount and convert it to a float\n",
    "dinner_nutrients_df.amount = dinner_nutrients_df.amount.apply(lambda x: re.sub('[mcgIU]','', x))\n",
    "dinner_nutrients_df.amount = dinner_nutrients_df.amount.replace(to_replace='< 1', value='0')\n",
    "dinner_nutrients_df.amount = dinner_nutrients_df.amount.astype(float)\n",
    "dinner_nutrients_df.dtypes"
   ]
  },
  {
   "cell_type": "markdown",
   "metadata": {},
   "source": [
    "Now lets simplify the datasets"
   ]
  },
  {
   "cell_type": "code",
   "execution_count": 11,
   "metadata": {},
   "outputs": [
    {
     "data": {
      "text/html": [
       "<div>\n",
       "<style scoped>\n",
       "    .dataframe tbody tr th:only-of-type {\n",
       "        vertical-align: middle;\n",
       "    }\n",
       "\n",
       "    .dataframe tbody tr th {\n",
       "        vertical-align: top;\n",
       "    }\n",
       "\n",
       "    .dataframe thead th {\n",
       "        text-align: right;\n",
       "    }\n",
       "</style>\n",
       "<table border=\"1\" class=\"dataframe\">\n",
       "  <thead>\n",
       "    <tr style=\"text-align: right;\">\n",
       "      <th></th>\n",
       "      <th>ingredient</th>\n",
       "      <th>recipe_id</th>\n",
       "    </tr>\n",
       "  </thead>\n",
       "  <tbody>\n",
       "    <tr>\n",
       "      <th>0</th>\n",
       "      <td>4 (6 ounce) skinless, boneless chicken breast ...</td>\n",
       "      <td>222607</td>\n",
       "    </tr>\n",
       "    <tr>\n",
       "      <th>1</th>\n",
       "      <td>1/4 teaspoon salt</td>\n",
       "      <td>222607</td>\n",
       "    </tr>\n",
       "    <tr>\n",
       "      <th>2</th>\n",
       "      <td>1/4 teaspoon lemon pepper seasoning</td>\n",
       "      <td>222607</td>\n",
       "    </tr>\n",
       "    <tr>\n",
       "      <th>3</th>\n",
       "      <td>1 tablespoon vegetable oil</td>\n",
       "      <td>222607</td>\n",
       "    </tr>\n",
       "    <tr>\n",
       "      <th>4</th>\n",
       "      <td>8 strips bacon</td>\n",
       "      <td>222607</td>\n",
       "    </tr>\n",
       "  </tbody>\n",
       "</table>\n",
       "</div>"
      ],
      "text/plain": [
       "                                          ingredient recipe_id\n",
       "0  4 (6 ounce) skinless, boneless chicken breast ...    222607\n",
       "1                                  1/4 teaspoon salt    222607\n",
       "2                1/4 teaspoon lemon pepper seasoning    222607\n",
       "3                         1 tablespoon vegetable oil    222607\n",
       "4                                     8 strips bacon    222607"
      ]
     },
     "execution_count": 11,
     "metadata": {},
     "output_type": "execute_result"
    }
   ],
   "source": [
    "#We can identify recipes by their ID\n",
    "recipe_id = dinner_ingredients_df[\"URL\"].str.extract(r'https://www.allrecipes.com/recipe/(\\d+)/.+')\n",
    "dinner_ingredients_df[\"recipe_id\"] = recipe_id\n",
    "dinner_ingredients_df = dinner_ingredients_df.drop([\"URL\"], axis=1)\n",
    "dinner_ingredients_df.head()"
   ]
  },
  {
   "cell_type": "code",
   "execution_count": 12,
   "metadata": {},
   "outputs": [
    {
     "name": "stdout",
     "output_type": "stream",
     "text": [
      "We have: 1152 recipes in the ingredient dataframe.\n"
     ]
    }
   ],
   "source": [
    "print(\"We have: \" + str(len(dinner_ingredients_df[\"recipe_id\"].unique())) + \" recipes in the ingredient dataframe.\")"
   ]
  },
  {
   "cell_type": "code",
   "execution_count": 13,
   "metadata": {},
   "outputs": [
    {
     "data": {
      "text/html": [
       "<div>\n",
       "<style scoped>\n",
       "    .dataframe tbody tr th:only-of-type {\n",
       "        vertical-align: middle;\n",
       "    }\n",
       "\n",
       "    .dataframe tbody tr th {\n",
       "        vertical-align: top;\n",
       "    }\n",
       "\n",
       "    .dataframe thead th {\n",
       "        text-align: right;\n",
       "    }\n",
       "</style>\n",
       "<table border=\"1\" class=\"dataframe\">\n",
       "  <thead>\n",
       "    <tr style=\"text-align: right;\">\n",
       "      <th></th>\n",
       "      <th>URL</th>\n",
       "      <th>amount</th>\n",
       "      <th>nutrient</th>\n",
       "      <th>recipe</th>\n",
       "      <th>recipe_id</th>\n",
       "    </tr>\n",
       "  </thead>\n",
       "  <tbody>\n",
       "    <tr>\n",
       "      <th>0</th>\n",
       "      <td>https://www.allrecipes.com/recipe/222607/smoth...</td>\n",
       "      <td>20.1</td>\n",
       "      <td>Total Fat</td>\n",
       "      <td>Smothered Chicken Breasts</td>\n",
       "      <td>222607</td>\n",
       "    </tr>\n",
       "    <tr>\n",
       "      <th>1</th>\n",
       "      <td>https://www.allrecipes.com/recipe/222607/smoth...</td>\n",
       "      <td>8.0</td>\n",
       "      <td>Saturated Fat</td>\n",
       "      <td>Smothered Chicken Breasts</td>\n",
       "      <td>222607</td>\n",
       "    </tr>\n",
       "    <tr>\n",
       "      <th>2</th>\n",
       "      <td>https://www.allrecipes.com/recipe/222607/smoth...</td>\n",
       "      <td>124.0</td>\n",
       "      <td>Cholesterol</td>\n",
       "      <td>Smothered Chicken Breasts</td>\n",
       "      <td>222607</td>\n",
       "    </tr>\n",
       "    <tr>\n",
       "      <th>3</th>\n",
       "      <td>https://www.allrecipes.com/recipe/222607/smoth...</td>\n",
       "      <td>809.0</td>\n",
       "      <td>Sodium</td>\n",
       "      <td>Smothered Chicken Breasts</td>\n",
       "      <td>222607</td>\n",
       "    </tr>\n",
       "    <tr>\n",
       "      <th>4</th>\n",
       "      <td>https://www.allrecipes.com/recipe/222607/smoth...</td>\n",
       "      <td>377.0</td>\n",
       "      <td>Potassium</td>\n",
       "      <td>Smothered Chicken Breasts</td>\n",
       "      <td>222607</td>\n",
       "    </tr>\n",
       "  </tbody>\n",
       "</table>\n",
       "</div>"
      ],
      "text/plain": [
       "                                                 URL  amount       nutrient  \\\n",
       "0  https://www.allrecipes.com/recipe/222607/smoth...    20.1      Total Fat   \n",
       "1  https://www.allrecipes.com/recipe/222607/smoth...     8.0  Saturated Fat   \n",
       "2  https://www.allrecipes.com/recipe/222607/smoth...   124.0    Cholesterol   \n",
       "3  https://www.allrecipes.com/recipe/222607/smoth...   809.0         Sodium   \n",
       "4  https://www.allrecipes.com/recipe/222607/smoth...   377.0      Potassium   \n",
       "\n",
       "                      recipe recipe_id  \n",
       "0  Smothered Chicken Breasts    222607  \n",
       "1  Smothered Chicken Breasts    222607  \n",
       "2  Smothered Chicken Breasts    222607  \n",
       "3  Smothered Chicken Breasts    222607  \n",
       "4  Smothered Chicken Breasts    222607  "
      ]
     },
     "execution_count": 13,
     "metadata": {},
     "output_type": "execute_result"
    }
   ],
   "source": [
    "recipe_id = dinner_nutrients_df[\"URL\"].str.extract(r'https://www.allrecipes.com/recipe/(\\d+)/.+')\n",
    "dinner_nutrients_df[\"recipe_id\"] = recipe_id\n",
    "dinner_nutrients_df.head()"
   ]
  },
  {
   "cell_type": "code",
   "execution_count": 14,
   "metadata": {},
   "outputs": [
    {
     "name": "stdout",
     "output_type": "stream",
     "text": [
      "We have in total: 1128 different recipes with nutrition info      for dinner\n"
     ]
    },
    {
     "data": {
      "text/html": [
       "<div>\n",
       "<style scoped>\n",
       "    .dataframe tbody tr th:only-of-type {\n",
       "        vertical-align: middle;\n",
       "    }\n",
       "\n",
       "    .dataframe tbody tr th {\n",
       "        vertical-align: top;\n",
       "    }\n",
       "\n",
       "    .dataframe thead th {\n",
       "        text-align: right;\n",
       "    }\n",
       "</style>\n",
       "<table border=\"1\" class=\"dataframe\">\n",
       "  <thead>\n",
       "    <tr style=\"text-align: right;\">\n",
       "      <th></th>\n",
       "      <th>recipe</th>\n",
       "      <th>URL</th>\n",
       "    </tr>\n",
       "    <tr>\n",
       "      <th>recipe_id</th>\n",
       "      <th></th>\n",
       "      <th></th>\n",
       "    </tr>\n",
       "  </thead>\n",
       "  <tbody>\n",
       "    <tr>\n",
       "      <th>222607</th>\n",
       "      <td>Smothered Chicken Breasts</td>\n",
       "      <td>https://www.allrecipes.com/recipe/222607/smoth...</td>\n",
       "    </tr>\n",
       "    <tr>\n",
       "      <th>15679</th>\n",
       "      <td>Asian Beef with Snow Peas</td>\n",
       "      <td>https://www.allrecipes.com/recipe/15679/asian-...</td>\n",
       "    </tr>\n",
       "    <tr>\n",
       "      <th>23847</th>\n",
       "      <td>Pasta Pomodoro</td>\n",
       "      <td>https://www.allrecipes.com/recipe/23847/pasta-...</td>\n",
       "    </tr>\n",
       "    <tr>\n",
       "      <th>50435</th>\n",
       "      <td>Fry Bread Tacos II</td>\n",
       "      <td>https://www.allrecipes.com/recipe/50435/fry-br...</td>\n",
       "    </tr>\n",
       "    <tr>\n",
       "      <th>140829</th>\n",
       "      <td>Pork Marsala</td>\n",
       "      <td>https://www.allrecipes.com/recipe/140829/pork-...</td>\n",
       "    </tr>\n",
       "  </tbody>\n",
       "</table>\n",
       "</div>"
      ],
      "text/plain": [
       "                              recipe  \\\n",
       "recipe_id                              \n",
       "222607     Smothered Chicken Breasts   \n",
       "15679      Asian Beef with Snow Peas   \n",
       "23847                 Pasta Pomodoro   \n",
       "50435             Fry Bread Tacos II   \n",
       "140829                  Pork Marsala   \n",
       "\n",
       "                                                         URL  \n",
       "recipe_id                                                     \n",
       "222607     https://www.allrecipes.com/recipe/222607/smoth...  \n",
       "15679      https://www.allrecipes.com/recipe/15679/asian-...  \n",
       "23847      https://www.allrecipes.com/recipe/23847/pasta-...  \n",
       "50435      https://www.allrecipes.com/recipe/50435/fry-br...  \n",
       "140829     https://www.allrecipes.com/recipe/140829/pork-...  "
      ]
     },
     "execution_count": 14,
     "metadata": {},
     "output_type": "execute_result"
    }
   ],
   "source": [
    "# let's create a dataframe that contain all the different recipes for dinner with the corresponding name\n",
    "dinner_recipe_df = dinner_nutrients_df[[\"recipe_id\", \"recipe\", \"URL\"]].drop_duplicates()\n",
    "dinner_recipe_df = dinner_recipe_df.set_index(\"recipe_id\")\n",
    "print(\"We have in total: \" + str(dinner_recipe_df[\"recipe\"].count()) + \" different recipes with nutrition info\\\n",
    "      for dinner\")\n",
    "dinner_recipe_df.head()"
   ]
  },
  {
   "cell_type": "code",
   "execution_count": 15,
   "metadata": {},
   "outputs": [
    {
     "data": {
      "text/html": [
       "<div>\n",
       "<style scoped>\n",
       "    .dataframe tbody tr th:only-of-type {\n",
       "        vertical-align: middle;\n",
       "    }\n",
       "\n",
       "    .dataframe tbody tr th {\n",
       "        vertical-align: top;\n",
       "    }\n",
       "\n",
       "    .dataframe thead th {\n",
       "        text-align: right;\n",
       "    }\n",
       "</style>\n",
       "<table border=\"1\" class=\"dataframe\">\n",
       "  <thead>\n",
       "    <tr style=\"text-align: right;\">\n",
       "      <th></th>\n",
       "      <th>amount</th>\n",
       "      <th>nutrient</th>\n",
       "      <th>recipe_id</th>\n",
       "    </tr>\n",
       "  </thead>\n",
       "  <tbody>\n",
       "    <tr>\n",
       "      <th>0</th>\n",
       "      <td>20.1</td>\n",
       "      <td>Total Fat</td>\n",
       "      <td>222607</td>\n",
       "    </tr>\n",
       "    <tr>\n",
       "      <th>1</th>\n",
       "      <td>8.0</td>\n",
       "      <td>Saturated Fat</td>\n",
       "      <td>222607</td>\n",
       "    </tr>\n",
       "    <tr>\n",
       "      <th>2</th>\n",
       "      <td>124.0</td>\n",
       "      <td>Cholesterol</td>\n",
       "      <td>222607</td>\n",
       "    </tr>\n",
       "    <tr>\n",
       "      <th>3</th>\n",
       "      <td>809.0</td>\n",
       "      <td>Sodium</td>\n",
       "      <td>222607</td>\n",
       "    </tr>\n",
       "    <tr>\n",
       "      <th>4</th>\n",
       "      <td>377.0</td>\n",
       "      <td>Potassium</td>\n",
       "      <td>222607</td>\n",
       "    </tr>\n",
       "  </tbody>\n",
       "</table>\n",
       "</div>"
      ],
      "text/plain": [
       "   amount       nutrient recipe_id\n",
       "0    20.1      Total Fat    222607\n",
       "1     8.0  Saturated Fat    222607\n",
       "2   124.0    Cholesterol    222607\n",
       "3   809.0         Sodium    222607\n",
       "4   377.0      Potassium    222607"
      ]
     },
     "execution_count": 15,
     "metadata": {},
     "output_type": "execute_result"
    }
   ],
   "source": [
    "dinner_nutrients_df = dinner_nutrients_df.drop([\"URL\", \"recipe\"], axis=1)\n",
    "dinner_nutrients_df.head()"
   ]
  },
  {
   "cell_type": "markdown",
   "metadata": {},
   "source": [
    "We see that there are recipes that did not give the nutrient values. We ignore these ones by putting exclusively recipe IDs present in the nutrient dataframe into the dataframe linking recipes with URL and name."
   ]
  },
  {
   "cell_type": "markdown",
   "metadata": {},
   "source": [
    "**Now we can clean our other datasets easily **"
   ]
  },
  {
   "cell_type": "code",
   "execution_count": 16,
   "metadata": {},
   "outputs": [],
   "source": [
    "def clean_data(nutrients_df, ingredients_df):\n",
    "    \"\"\"\n",
    "    After exploration, we create a general function to clean all subsequent datasets\n",
    "    IN: nutrient and ingredient information, in dataframes\n",
    "    OUT: cleaned nutrient and ingredient dataframes + a new dataframe linking the URL, ID, and name of recipes\n",
    "    \"\"\"\n",
    "    \n",
    "    nutrients_df = nutrients_df.drop([\"Unnamed: 0\"], axis=1)\n",
    "    ingredients_df = ingredients_df.drop([\"Unnamed: 0\"], axis=1)\n",
    "    \n",
    "    #Drop vitamin A\n",
    "    nutrients_df = nutrients_df[nutrients_df.nutrient != \"Vitamin A\"]\n",
    "    \n",
    "    #Remove the letters m, c, g, I, U from the string amount and convert it to a float\n",
    "    nutrients_df.amount = nutrients_df.amount.apply(lambda x: re.sub('[mcgIU]','', x))\n",
    "    nutrients_df.amount = nutrients_df.amount.replace(to_replace='< 1', value='0')\n",
    "    nutrients_df.amount = nutrients_df.amount.astype(float)\n",
    "    \n",
    "    #Identification with ID\n",
    "    recipe_id = ingredients_df[\"URL\"].str.extract(r'https://www.allrecipes.com/recipe/(\\d+)/.+')\n",
    "    ingredients_df[\"recipe_id\"] = recipe_id\n",
    "    ingredients_df = ingredients_df.drop([\"URL\"], axis=1)\n",
    "    \n",
    "    recipe_id = nutrients_df[\"URL\"].str.extract(r'https://www.allrecipes.com/recipe/(\\d+)/.+')\n",
    "    nutrients_df[\"recipe_id\"] = recipe_id\n",
    "    \n",
    "    #Dataframe linking ID with URL and recipe name\n",
    "    recipe_df = nutrients_df[[\"recipe_id\", \"recipe\", \"URL\"]].drop_duplicates()\n",
    "    recipe_df = recipe_df.set_index(\"recipe_id\")\n",
    "    \n",
    "    nutrients_df = nutrients_df.drop([\"URL\", \"recipe\"], axis=1)\n",
    "    \n",
    "    return nutrients_df, ingredients_df, recipe_df"
   ]
  },
  {
   "cell_type": "code",
   "execution_count": 17,
   "metadata": {},
   "outputs": [],
   "source": [
    "brunch_nutrients_df = brunch_nutrients_first.append(brunch_nutrients_next)\n",
    "brunch_ingredients_df = brunch_ingredients_first.append(brunch_ingredients_next)\n",
    "brunch_recipes = []"
   ]
  },
  {
   "cell_type": "code",
   "execution_count": 18,
   "metadata": {},
   "outputs": [],
   "source": [
    "brunch_nutrients_df, brunch_ingredients_df, brunch_recipes = clean_data(brunch_nutrients_df, brunch_ingredients_df)"
   ]
  },
  {
   "cell_type": "code",
   "execution_count": 19,
   "metadata": {},
   "outputs": [],
   "source": [
    "vege_recipes = []\n",
    "vege_nutrients_df, vege_ingredients_df, vege_recipes = clean_data(vege_nutrients_df, vege_ingredients_df)"
   ]
  },
  {
   "cell_type": "markdown",
   "metadata": {},
   "source": [
    "We remember that the recommended intake for each nutrient is given per day. We suppose a serving of food to correspond to 1/3 of this value. This is deemed acceptable since we are not dealing with small quantitites of food such as snacks, appetizers, or desserts. It is reasonable to assume three major meals through the day."
   ]
  },
  {
   "cell_type": "code",
   "execution_count": 20,
   "metadata": {},
   "outputs": [],
   "source": [
    "daily_values.amount = daily_values.amount / 3"
   ]
  },
  {
   "cell_type": "markdown",
   "metadata": {},
   "source": [
    "### Nutrient histograms for vegetarian meals"
   ]
  },
  {
   "cell_type": "markdown",
   "metadata": {},
   "source": [
    "**Testing making \"brunch\" data vegetarian:**\n",
    "\n",
    "If an ingredient contains any word from the document \"meats\", delete all nutrients with the corresponding ID"
   ]
  },
  {
   "cell_type": "code",
   "execution_count": 21,
   "metadata": {},
   "outputs": [],
   "source": [
    "f = open('data/meats', 'r')\n",
    "meat = f.read().splitlines()\n",
    "f.close()"
   ]
  },
  {
   "cell_type": "code",
   "execution_count": 22,
   "metadata": {},
   "outputs": [],
   "source": [
    "brunch_copy = brunch_ingredients_df.copy()\n",
    "brunch_copy = brunch_copy.merge(brunch_recipes, left_on='recipe_id', right_index=True, how='inner', sort=False)"
   ]
  },
  {
   "cell_type": "code",
   "execution_count": 23,
   "metadata": {},
   "outputs": [],
   "source": [
    "id_to_delete = pd.DataFrame(columns=['URL', 'ingredient', 'recipe', 'recipe_id'])\n",
    "\n",
    "for i in range(len(meat)):\n",
    "    id_to_delete = id_to_delete.append(brunch_copy[brunch_copy['ingredient'].str.contains(meat[i])], sort=False)"
   ]
  },
  {
   "cell_type": "code",
   "execution_count": 24,
   "metadata": {},
   "outputs": [
    {
     "data": {
      "text/html": [
       "<div>\n",
       "<style scoped>\n",
       "    .dataframe tbody tr th:only-of-type {\n",
       "        vertical-align: middle;\n",
       "    }\n",
       "\n",
       "    .dataframe tbody tr th {\n",
       "        vertical-align: top;\n",
       "    }\n",
       "\n",
       "    .dataframe thead th {\n",
       "        text-align: right;\n",
       "    }\n",
       "</style>\n",
       "<table border=\"1\" class=\"dataframe\">\n",
       "  <thead>\n",
       "    <tr style=\"text-align: right;\">\n",
       "      <th></th>\n",
       "      <th>URL</th>\n",
       "      <th>ingredient</th>\n",
       "      <th>recipe</th>\n",
       "      <th>recipe_id</th>\n",
       "    </tr>\n",
       "  </thead>\n",
       "  <tbody>\n",
       "    <tr>\n",
       "      <th>303</th>\n",
       "      <td>https://www.allrecipes.com/recipe/22162/uglies/</td>\n",
       "      <td>1 pound ground beef chuck</td>\n",
       "      <td>Uglies</td>\n",
       "      <td>22162</td>\n",
       "    </tr>\n",
       "    <tr>\n",
       "      <th>755</th>\n",
       "      <td>https://www.allrecipes.com/recipe/33129/corned...</td>\n",
       "      <td>1 (12 ounce) can corned beef, cut into chunks</td>\n",
       "      <td>Corned Beef Hash</td>\n",
       "      <td>33129</td>\n",
       "    </tr>\n",
       "    <tr>\n",
       "      <th>757</th>\n",
       "      <td>https://www.allrecipes.com/recipe/33129/corned...</td>\n",
       "      <td>1 cup beef broth</td>\n",
       "      <td>Corned Beef Hash</td>\n",
       "      <td>33129</td>\n",
       "    </tr>\n",
       "    <tr>\n",
       "      <th>1567</th>\n",
       "      <td>https://www.allrecipes.com/recipe/216981/delux...</td>\n",
       "      <td>2 pounds cooked corned beef, cubed</td>\n",
       "      <td>Deluxe Corned Beef Hash</td>\n",
       "      <td>216981</td>\n",
       "    </tr>\n",
       "    <tr>\n",
       "      <th>2702</th>\n",
       "      <td>https://www.allrecipes.com/recipe/45652/the-sa...</td>\n",
       "      <td>2 pounds ground beef</td>\n",
       "      <td>The Sarge's Goetta - German Breakfast Treat</td>\n",
       "      <td>45652</td>\n",
       "    </tr>\n",
       "  </tbody>\n",
       "</table>\n",
       "</div>"
      ],
      "text/plain": [
       "                                                    URL  \\\n",
       "303     https://www.allrecipes.com/recipe/22162/uglies/   \n",
       "755   https://www.allrecipes.com/recipe/33129/corned...   \n",
       "757   https://www.allrecipes.com/recipe/33129/corned...   \n",
       "1567  https://www.allrecipes.com/recipe/216981/delux...   \n",
       "2702  https://www.allrecipes.com/recipe/45652/the-sa...   \n",
       "\n",
       "                                         ingredient  \\\n",
       "303                       1 pound ground beef chuck   \n",
       "755   1 (12 ounce) can corned beef, cut into chunks   \n",
       "757                                1 cup beef broth   \n",
       "1567             2 pounds cooked corned beef, cubed   \n",
       "2702                           2 pounds ground beef   \n",
       "\n",
       "                                           recipe recipe_id  \n",
       "303                                        Uglies     22162  \n",
       "755                              Corned Beef Hash     33129  \n",
       "757                              Corned Beef Hash     33129  \n",
       "1567                      Deluxe Corned Beef Hash    216981  \n",
       "2702  The Sarge's Goetta - German Breakfast Treat     45652  "
      ]
     },
     "execution_count": 24,
     "metadata": {},
     "output_type": "execute_result"
    }
   ],
   "source": [
    "id_to_delete.head()"
   ]
  },
  {
   "cell_type": "code",
   "execution_count": 25,
   "metadata": {},
   "outputs": [],
   "source": [
    "brunch_nutrient_copy = brunch_nutrients_df.copy()\n",
    "brunch_nutrient_copy=brunch_nutrient_copy[~brunch_nutrient_copy.isin(id_to_delete['recipe_id'].tolist())]"
   ]
  },
  {
   "cell_type": "code",
   "execution_count": 26,
   "metadata": {},
   "outputs": [],
   "source": [
    "#Test that the above function worked correctly:"
   ]
  },
  {
   "cell_type": "code",
   "execution_count": 27,
   "metadata": {},
   "outputs": [
    {
     "data": {
      "text/html": [
       "<div>\n",
       "<style scoped>\n",
       "    .dataframe tbody tr th:only-of-type {\n",
       "        vertical-align: middle;\n",
       "    }\n",
       "\n",
       "    .dataframe tbody tr th {\n",
       "        vertical-align: top;\n",
       "    }\n",
       "\n",
       "    .dataframe thead th {\n",
       "        text-align: right;\n",
       "    }\n",
       "</style>\n",
       "<table border=\"1\" class=\"dataframe\">\n",
       "  <thead>\n",
       "    <tr style=\"text-align: right;\">\n",
       "      <th></th>\n",
       "      <th>amount</th>\n",
       "      <th>nutrient</th>\n",
       "      <th>recipe_id</th>\n",
       "    </tr>\n",
       "  </thead>\n",
       "  <tbody>\n",
       "  </tbody>\n",
       "</table>\n",
       "</div>"
      ],
      "text/plain": [
       "Empty DataFrame\n",
       "Columns: [amount, nutrient, recipe_id]\n",
       "Index: []"
      ]
     },
     "execution_count": 27,
     "metadata": {},
     "output_type": "execute_result"
    }
   ],
   "source": [
    "test = brunch_nutrient_copy.where(brunch_nutrient_copy['recipe_id'] == '33129')\n",
    "test = test.dropna()\n",
    "test.head(1)"
   ]
  },
  {
   "cell_type": "code",
   "execution_count": 28,
   "metadata": {},
   "outputs": [],
   "source": [
    "nutrient_copy = brunch_nutrients_df.merge(brunch_recipes, how='inner', left_on='recipe_id', right_index=True)"
   ]
  },
  {
   "cell_type": "code",
   "execution_count": 29,
   "metadata": {},
   "outputs": [
    {
     "data": {
      "text/html": [
       "<div>\n",
       "<style scoped>\n",
       "    .dataframe tbody tr th:only-of-type {\n",
       "        vertical-align: middle;\n",
       "    }\n",
       "\n",
       "    .dataframe tbody tr th {\n",
       "        vertical-align: top;\n",
       "    }\n",
       "\n",
       "    .dataframe thead th {\n",
       "        text-align: right;\n",
       "    }\n",
       "</style>\n",
       "<table border=\"1\" class=\"dataframe\">\n",
       "  <thead>\n",
       "    <tr style=\"text-align: right;\">\n",
       "      <th></th>\n",
       "      <th>amount</th>\n",
       "      <th>nutrient</th>\n",
       "      <th>recipe_id</th>\n",
       "      <th>recipe</th>\n",
       "      <th>URL</th>\n",
       "    </tr>\n",
       "  </thead>\n",
       "  <tbody>\n",
       "    <tr>\n",
       "      <th>1440</th>\n",
       "      <td>8.8</td>\n",
       "      <td>Total Fat</td>\n",
       "      <td>33129</td>\n",
       "      <td>Corned Beef Hash</td>\n",
       "      <td>https://www.allrecipes.com/recipe/33129/corned...</td>\n",
       "    </tr>\n",
       "  </tbody>\n",
       "</table>\n",
       "</div>"
      ],
      "text/plain": [
       "      amount   nutrient recipe_id            recipe  \\\n",
       "1440     8.8  Total Fat     33129  Corned Beef Hash   \n",
       "\n",
       "                                                    URL  \n",
       "1440  https://www.allrecipes.com/recipe/33129/corned...  "
      ]
     },
     "execution_count": 29,
     "metadata": {},
     "output_type": "execute_result"
    }
   ],
   "source": [
    "val = nutrient_copy.where(nutrient_copy['recipe_id'] == '33129')\n",
    "val = val.dropna()\n",
    "val.head(1)"
   ]
  },
  {
   "cell_type": "markdown",
   "metadata": {},
   "source": [
    "**From these insights we make a generalized function**"
   ]
  },
  {
   "cell_type": "code",
   "execution_count": 30,
   "metadata": {},
   "outputs": [],
   "source": [
    "def vegetarianize(nutrients_df, ingredients_df, recipes_df, filename):\n",
    "    \"\"\"\n",
    "    For all words listed in the file, if that word is contained in ingredients_df,\n",
    "    the corresponding recipe is deleted from nutrients_df\n",
    "    IN: ingredients, nutrients, and recipes, also the name of the file\n",
    "    OUT: nutrients from vegetarian recipes\n",
    "    \"\"\"\n",
    "    \n",
    "    f = open(filename, 'r')\n",
    "    file = f.read().splitlines()\n",
    "    f.close()\n",
    "    \n",
    "    #inner merge ingredients with recipes to associate them with recipe IDs that have nutrients\n",
    "    ingredients_copy = ingredients_df.copy()\n",
    "    ingredients_copy = ingredients_copy.merge(recipes_df, left_on='recipe_id', right_index=True, \n",
    "                                              how='inner', sort=False)\n",
    "    \n",
    "    #Create a dataframe of IDs to delete, corresponding to recipes that contain meat\n",
    "    id_to_delete = pd.DataFrame(columns=['URL', 'ingredient', 'recipe', 'recipe_id'])\n",
    "    for i in range(len(file)):\n",
    "        id_to_delete = id_to_delete.append(ingredients_copy[ingredients_copy['ingredient'].str\n",
    "                                                            .contains(meat[i])], sort=False)\n",
    "    \n",
    "    #The vegetarian recipes are those not listed in id_to_delete; we keep their nutrients\n",
    "    nutrients_copy = nutrients_df.copy()\n",
    "    nutrients_copy=nutrients_copy[~nutrients_copy.isin(id_to_delete['recipe_id'].tolist())]\n",
    "    \n",
    "    return nutrients_copy"
   ]
  },
  {
   "cell_type": "code",
   "execution_count": 40,
   "metadata": {},
   "outputs": [
    {
     "data": {
      "text/html": [
       "<div>\n",
       "<style scoped>\n",
       "    .dataframe tbody tr th:only-of-type {\n",
       "        vertical-align: middle;\n",
       "    }\n",
       "\n",
       "    .dataframe tbody tr th {\n",
       "        vertical-align: top;\n",
       "    }\n",
       "\n",
       "    .dataframe thead th {\n",
       "        text-align: right;\n",
       "    }\n",
       "</style>\n",
       "<table border=\"1\" class=\"dataframe\">\n",
       "  <thead>\n",
       "    <tr style=\"text-align: right;\">\n",
       "      <th></th>\n",
       "      <th>amount</th>\n",
       "      <th>nutrient</th>\n",
       "      <th>recipe_id</th>\n",
       "    </tr>\n",
       "  </thead>\n",
       "  <tbody>\n",
       "    <tr>\n",
       "      <th>0</th>\n",
       "      <td>6.4</td>\n",
       "      <td>Total Fat</td>\n",
       "      <td>7016</td>\n",
       "    </tr>\n",
       "    <tr>\n",
       "      <th>1</th>\n",
       "      <td>2.0</td>\n",
       "      <td>Saturated Fat</td>\n",
       "      <td>7016</td>\n",
       "    </tr>\n",
       "    <tr>\n",
       "      <th>2</th>\n",
       "      <td>128.0</td>\n",
       "      <td>Cholesterol</td>\n",
       "      <td>7016</td>\n",
       "    </tr>\n",
       "    <tr>\n",
       "      <th>3</th>\n",
       "      <td>478.0</td>\n",
       "      <td>Sodium</td>\n",
       "      <td>7016</td>\n",
       "    </tr>\n",
       "    <tr>\n",
       "      <th>4</th>\n",
       "      <td>190.0</td>\n",
       "      <td>Potassium</td>\n",
       "      <td>7016</td>\n",
       "    </tr>\n",
       "  </tbody>\n",
       "</table>\n",
       "</div>"
      ],
      "text/plain": [
       "   amount       nutrient recipe_id\n",
       "0     6.4      Total Fat      7016\n",
       "1     2.0  Saturated Fat      7016\n",
       "2   128.0    Cholesterol      7016\n",
       "3   478.0         Sodium      7016\n",
       "4   190.0      Potassium      7016"
      ]
     },
     "metadata": {},
     "output_type": "display_data"
    },
    {
     "data": {
      "text/plain": [
       "(8296, 3)"
      ]
     },
     "metadata": {},
     "output_type": "display_data"
    }
   ],
   "source": [
    "#vegetarian brunches\n",
    "temporary_vege_brunch_nutrients = vegetarianize(brunch_nutrients_df, brunch_ingredients_df, brunch_recipes,\n",
    "                                     filename = 'data/meats')\n",
    "vege_brunch_nutrients = vegetarianize(temporary_vege_brunch_nutrients, brunch_ingredients_df, brunch_recipes,\n",
    "                                     filename = 'data/fish' )\n",
    "display(vege_brunch_nutrients.head())\n",
    "display(vege_brunch_nutrients.shape)"
   ]
  },
  {
   "cell_type": "code",
   "execution_count": 33,
   "metadata": {},
   "outputs": [
    {
     "data": {
      "text/plain": [
       "recipe                                       French Toast I\n",
       "URL       https://www.allrecipes.com/recipe/7016/french-...\n",
       "Name: 7016, dtype: object"
      ]
     },
     "execution_count": 33,
     "metadata": {},
     "output_type": "execute_result"
    }
   ],
   "source": [
    "#brief verification\n",
    "brunch_recipes.loc['7016']"
   ]
  },
  {
   "cell_type": "code",
   "execution_count": 45,
   "metadata": {},
   "outputs": [
    {
     "data": {
      "text/plain": [
       "(19278, 3)"
      ]
     },
     "metadata": {},
     "output_type": "display_data"
    }
   ],
   "source": [
    "#vegetarian dinners\n",
    "temp_vege_dinner_nutrients = vegetarianize(dinner_nutrients_df, dinner_ingredients_df, dinner_recipe_df, \n",
    "                                          filename = 'data/meats')\n",
    "vege_dinner_nutrients = vegetarianize(temp_vege_dinner_nutrients, dinner_ingredients_df, dinner_recipe_df, \n",
    "                                     filename = 'data/fish')\n",
    "display(vege_dinner_nutrients.shape)"
   ]
  },
  {
   "cell_type": "markdown",
   "metadata": {},
   "source": [
    "**Now lets put all the nutrients from vegetarian meals together, and make histograms**"
   ]
  },
  {
   "cell_type": "code",
   "execution_count": 34,
   "metadata": {},
   "outputs": [],
   "source": [
    "def nutrient_histogram(nutrients_df, name):\n",
    "    \n",
    "    \"\"\"\n",
    "    Plot a histogram with the amount for a specified nutrient. Show median (black) and FDA recommendation (red).\n",
    "    IN: nutrient dataframe and name of the nutrient we want to plot\n",
    "    OUT: histogram with 20 bins for 'amount', median and recommended amounts for the nutrient\n",
    "    \"\"\"\n",
    "    nutrient = nutrients_df.where(nutrients_df['nutrient'] == name)\n",
    "    nutrient = nutrient.dropna()\n",
    "    nutrient = nutrient.reset_index(drop=True)\n",
    "    \n",
    "    recommended = daily_values.where(daily_values['nutrient'] == name)\n",
    "    recommended = recommended.dropna()\n",
    "    recommended = recommended.reset_index(drop=True)\n",
    "    \n",
    "    median = nutrient.amount.median()\n",
    "    rec_value = recommended.at[0, 'amount']\n",
    "\n",
    "    graph = nutrient.hist(column='amount', bins=50);\n",
    "    plt.title(n)\n",
    "    plt.axvline(median, color='k', linestyle='dashed', linewidth=1)\n",
    "    plt.axvline(rec_value, color='r', linestyle='dashed', linewidth=1)\n",
    "        \n",
    "    return median, rec_value, graph"
   ]
  },
  {
   "cell_type": "code",
   "execution_count": 48,
   "metadata": {},
   "outputs": [],
   "source": [
    "vege_nutrient_all = vege_nutrients_df.append(vege_brunch_nutrients, ignore_index=True, sort=False)\n",
    "vege_nutrient_all = vege_nutrient_all.append(vege_dinner_nutrients, ignore_index=True, sort=False)"
   ]
  },
  {
   "cell_type": "code",
   "execution_count": 49,
   "metadata": {},
   "outputs": [
    {
     "data": {
      "image/png": "[encoded data removed]",
      "text/plain": [
       "<Figure size 432x288 with 1 Axes>"
      ]
     },
     "metadata": {},
     "output_type": "display_data"
    },
    {
     "data": {
      "image/png": "[encoded data removed]",
      "text/plain": [
       "<Figure size 432x288 with 1 Axes>"
      ]
     },
     "metadata": {},
     "output_type": "display_data"
    },
    {
     "data": {
      "image/png": "[encoded data removed]",
      "text/plain": [
       "<Figure size 432x288 with 1 Axes>"
      ]
     },
     "metadata": {},
     "output_type": "display_data"
    },
    {
     "data": {
      "image/png": "[encoded data removed]",
      "text/plain": [
       "<Figure size 432x288 with 1 Axes>"
      ]
     },
     "metadata": {},
     "output_type": "display_data"
    },
    {
     "data": {
      "image/png": "[encoded data removed]",
      "text/plain": [
       "<Figure size 432x288 with 1 Axes>"
      ]
     },
     "metadata": {},
     "output_type": "display_data"
    },
    {
     "data": {
      "image/png": "[encoded data removed]",
      "text/plain": [
       "<Figure size 432x288 with 1 Axes>"
      ]
     },
     "metadata": {},
     "output_type": "display_data"
    },
    {
     "data": {
      "image/png": "[encoded data removed]",
      "text/plain": [
       "<Figure size 432x288 with 1 Axes>"
      ]
     },
     "metadata": {},
     "output_type": "display_data"
    },
    {
     "data": {
      "image/png": "[encoded data removed]",
      "text/plain": [
       "<Figure size 432x288 with 1 Axes>"
      ]
     },
     "metadata": {},
     "output_type": "display_data"
    },
    {
     "data": {
      "image/png": "[encoded data removed]",
      "text/plain": [
       "<Figure size 432x288 with 1 Axes>"
      ]
     },
     "metadata": {},
     "output_type": "display_data"
    },
    {
     "data": {
      "image/png": "[encoded data removed]",
      "text/plain": [
       "<Figure size 432x288 with 1 Axes>"
      ]
     },
     "metadata": {},
     "output_type": "display_data"
    },
    {
     "data": {
      "image/png": "[encoded data removed]",
      "text/plain": [
       "<Figure size 432x288 with 1 Axes>"
      ]
     },
     "metadata": {},
     "output_type": "display_data"
    },
    {
     "data": {
      "image/png": "[encoded data removed]",
      "text/plain": [
       "<Figure size 432x288 with 1 Axes>"
      ]
     },
     "metadata": {},
     "output_type": "display_data"
    },
    {
     "data": {
      "image/png": "[encoded data removed]",
      "text/plain": [
       "<Figure size 432x288 with 1 Axes>"
      ]
     },
     "metadata": {},
     "output_type": "display_data"
    },
    {
     "data": {
      "image/png": "[encoded data removed]",
      "text/plain": [
       "<Figure size 432x288 with 1 Axes>"
      ]
     },
     "metadata": {},
     "output_type": "display_data"
    },
    {
     "data": {
      "image/png": "[encoded data removed]",
      "text/plain": [
       "<Figure size 432x288 with 1 Axes>"
      ]
     },
     "metadata": {},
     "output_type": "display_data"
    },
    {
     "data": {
      "image/png": "[encoded data removed]",
      "text/plain": [
       "<Figure size 432x288 with 1 Axes>"
      ]
     },
     "metadata": {},
     "output_type": "display_data"
    },
    {
     "data": {
      "image/png": "[encoded data removed]",
      "text/plain": [
       "<Figure size 432x288 with 1 Axes>"
      ]
     },
     "metadata": {},
     "output_type": "display_data"
    }
   ],
   "source": [
    "nutrient_list = vege_nutrient_all['nutrient'].unique()\n",
    "compare_values = pd.DataFrame(columns=['nutrient', 'median', 'rec_value'])\n",
    "\n",
    "for n in nutrient_list:\n",
    "    median, rec_value, toto = nutrient_histogram(vege_nutrient_all, n);\n",
    "    compare_values = compare_values.append({'nutrient': n, 'median':median, 'rec_value': rec_value}, \n",
    "                                           ignore_index=True)"
   ]
  },
  {
   "cell_type": "code",
   "execution_count": 46,
   "metadata": {},
   "outputs": [
    {
     "data": {
      "text/html": [
       "<div>\n",
       "<style scoped>\n",
       "    .dataframe tbody tr th:only-of-type {\n",
       "        vertical-align: middle;\n",
       "    }\n",
       "\n",
       "    .dataframe tbody tr th {\n",
       "        vertical-align: top;\n",
       "    }\n",
       "\n",
       "    .dataframe thead th {\n",
       "        text-align: right;\n",
       "    }\n",
       "</style>\n",
       "<table border=\"1\" class=\"dataframe\">\n",
       "  <thead>\n",
       "    <tr style=\"text-align: right;\">\n",
       "      <th></th>\n",
       "      <th>nutrient</th>\n",
       "      <th>median</th>\n",
       "      <th>rec_value</th>\n",
       "    </tr>\n",
       "  </thead>\n",
       "  <tbody>\n",
       "    <tr>\n",
       "      <th>0</th>\n",
       "      <td>Total Fat</td>\n",
       "      <td>12.45</td>\n",
       "      <td>26.000000</td>\n",
       "    </tr>\n",
       "    <tr>\n",
       "      <th>1</th>\n",
       "      <td>Saturated Fat</td>\n",
       "      <td>4.00</td>\n",
       "      <td>6.666667</td>\n",
       "    </tr>\n",
       "    <tr>\n",
       "      <th>2</th>\n",
       "      <td>Cholesterol</td>\n",
       "      <td>24.00</td>\n",
       "      <td>100.000000</td>\n",
       "    </tr>\n",
       "    <tr>\n",
       "      <th>3</th>\n",
       "      <td>Sodium</td>\n",
       "      <td>395.00</td>\n",
       "      <td>500.000000</td>\n",
       "    </tr>\n",
       "    <tr>\n",
       "      <th>4</th>\n",
       "      <td>Potassium</td>\n",
       "      <td>308.00</td>\n",
       "      <td>1566.666667</td>\n",
       "    </tr>\n",
       "    <tr>\n",
       "      <th>5</th>\n",
       "      <td>Total Carbohydrates</td>\n",
       "      <td>28.70</td>\n",
       "      <td>91.666667</td>\n",
       "    </tr>\n",
       "    <tr>\n",
       "      <th>6</th>\n",
       "      <td>Dietary Fiber</td>\n",
       "      <td>2.60</td>\n",
       "      <td>9.333333</td>\n",
       "    </tr>\n",
       "    <tr>\n",
       "      <th>7</th>\n",
       "      <td>Protein</td>\n",
       "      <td>7.50</td>\n",
       "      <td>16.666667</td>\n",
       "    </tr>\n",
       "    <tr>\n",
       "      <th>8</th>\n",
       "      <td>Sugars</td>\n",
       "      <td>5.00</td>\n",
       "      <td>91.666667</td>\n",
       "    </tr>\n",
       "    <tr>\n",
       "      <th>9</th>\n",
       "      <td>Vitamin C</td>\n",
       "      <td>8.00</td>\n",
       "      <td>30.000000</td>\n",
       "    </tr>\n",
       "    <tr>\n",
       "      <th>10</th>\n",
       "      <td>Calcium</td>\n",
       "      <td>86.50</td>\n",
       "      <td>433.333333</td>\n",
       "    </tr>\n",
       "    <tr>\n",
       "      <th>11</th>\n",
       "      <td>Iron</td>\n",
       "      <td>2.00</td>\n",
       "      <td>6.000000</td>\n",
       "    </tr>\n",
       "    <tr>\n",
       "      <th>12</th>\n",
       "      <td>Thiamin</td>\n",
       "      <td>0.00</td>\n",
       "      <td>0.400000</td>\n",
       "    </tr>\n",
       "    <tr>\n",
       "      <th>13</th>\n",
       "      <td>Niacin</td>\n",
       "      <td>3.00</td>\n",
       "      <td>5.333333</td>\n",
       "    </tr>\n",
       "    <tr>\n",
       "      <th>14</th>\n",
       "      <td>Vitamin B6</td>\n",
       "      <td>0.00</td>\n",
       "      <td>0.566667</td>\n",
       "    </tr>\n",
       "    <tr>\n",
       "      <th>15</th>\n",
       "      <td>Magnesium</td>\n",
       "      <td>31.00</td>\n",
       "      <td>133.333333</td>\n",
       "    </tr>\n",
       "    <tr>\n",
       "      <th>16</th>\n",
       "      <td>Folate</td>\n",
       "      <td>48.00</td>\n",
       "      <td>133.333333</td>\n",
       "    </tr>\n",
       "  </tbody>\n",
       "</table>\n",
       "</div>"
      ],
      "text/plain": [
       "               nutrient  median    rec_value\n",
       "0             Total Fat   12.45    26.000000\n",
       "1         Saturated Fat    4.00     6.666667\n",
       "2           Cholesterol   24.00   100.000000\n",
       "3                Sodium  395.00   500.000000\n",
       "4             Potassium  308.00  1566.666667\n",
       "5   Total Carbohydrates   28.70    91.666667\n",
       "6         Dietary Fiber    2.60     9.333333\n",
       "7               Protein    7.50    16.666667\n",
       "8                Sugars    5.00    91.666667\n",
       "9             Vitamin C    8.00    30.000000\n",
       "10              Calcium   86.50   433.333333\n",
       "11                 Iron    2.00     6.000000\n",
       "12              Thiamin    0.00     0.400000\n",
       "13               Niacin    3.00     5.333333\n",
       "14           Vitamin B6    0.00     0.566667\n",
       "15            Magnesium   31.00   133.333333\n",
       "16               Folate   48.00   133.333333"
      ]
     },
     "execution_count": 46,
     "metadata": {},
     "output_type": "execute_result"
    }
   ],
   "source": [
    "compare_values"
   ]
  },
  {
   "cell_type": "markdown",
   "metadata": {},
   "source": [
    "## Nutrient histograms from an omnivorous diet\n",
    "\n",
    "We consider that a normal person would eat vegetarian dishes as well as dishes that contain meat or fish."
   ]
  },
  {
   "cell_type": "code",
   "execution_count": 47,
   "metadata": {},
   "outputs": [],
   "source": [
    "omnivore_nutrients_df = dinner_nutrients_df.append(vege_nutrients_df, ignore_index=True, sort=False)\n",
    "omnivore_nutrients_df = omnivore_nutrients_df.append(brunch_nutrients_df, ignore_index=True, sort=False)"
   ]
  },
  {
   "cell_type": "code",
   "execution_count": 50,
   "metadata": {},
   "outputs": [
    {
     "data": {
      "image/png": "[encoded data removed]",
      "text/plain": [
       "<Figure size 432x288 with 1 Axes>"
      ]
     },
     "metadata": {},
     "output_type": "display_data"
    },
    {
     "data": {
      "image/png": "[encoded data removed]",
      "text/plain": [
       "<Figure size 432x288 with 1 Axes>"
      ]
     },
     "metadata": {},
     "output_type": "display_data"
    },
    {
     "data": {
      "image/png": "[encoded data removed]",
      "text/plain": [
       "<Figure size 432x288 with 1 Axes>"
      ]
     },
     "metadata": {},
     "output_type": "display_data"
    },
    {
     "data": {
      "image/png": "[encoded data removed]",
      "text/plain": [
       "<Figure size 432x288 with 1 Axes>"
      ]
     },
     "metadata": {},
     "output_type": "display_data"
    },
    {
     "data": {
      "image/png": "[encoded data removed]",
      "text/plain": [
       "<Figure size 432x288 with 1 Axes>"
      ]
     },
     "metadata": {},
     "output_type": "display_data"
    },
    {
     "data": {
      "image/png": "[encoded data removed]",
      "text/plain": [
       "<Figure size 432x288 with 1 Axes>"
      ]
     },
     "metadata": {},
     "output_type": "display_data"
    },
    {
     "data": {
      "image/png": "[encoded data removed]",
      "text/plain": [
       "<Figure size 432x288 with 1 Axes>"
      ]
     },
     "metadata": {},
     "output_type": "display_data"
    },
    {
     "data": {
      "image/png": "[encoded data removed]",
      "text/plain": [
       "<Figure size 432x288 with 1 Axes>"
      ]
     },
     "metadata": {},
     "output_type": "display_data"
    },
    {
     "data": {
      "image/png": "[encoded data removed]",
      "text/plain": [
       "<Figure size 432x288 with 1 Axes>"
      ]
     },
     "metadata": {},
     "output_type": "display_data"
    },
    {
     "data": {
      "image/png": "[encoded data removed]",
      "text/plain": [
       "<Figure size 432x288 with 1 Axes>"
      ]
     },
     "metadata": {},
     "output_type": "display_data"
    },
    {
     "data": {
      "image/png": "[encoded data removed]",
      "text/plain": [
       "<Figure size 432x288 with 1 Axes>"
      ]
     },
     "metadata": {},
     "output_type": "display_data"
    },
    {
     "data": {
      "image/png": "[encoded data removed]",
      "text/plain": [
       "<Figure size 432x288 with 1 Axes>"
      ]
     },
     "metadata": {},
     "output_type": "display_data"
    },
    {
     "data": {
      "image/png": "[encoded data removed]",
      "text/plain": [
       "<Figure size 432x288 with 1 Axes>"
      ]
     },
     "metadata": {},
     "output_type": "display_data"
    },
    {
     "data": {
      "image/png": "[encoded data removed]",
      "text/plain": [
       "<Figure size 432x288 with 1 Axes>"
      ]
     },
     "metadata": {},
     "output_type": "display_data"
    },
    {
     "data": {
      "image/png": "[encoded data removed]",
      "text/plain": [
       "<Figure size 432x288 with 1 Axes>"
      ]
     },
     "metadata": {},
     "output_type": "display_data"
    },
    {
     "data": {
      "image/png": "[encoded data removed]",
      "text/plain": [
       "<Figure size 432x288 with 1 Axes>"
      ]
     },
     "metadata": {},
     "output_type": "display_data"
    },
    {
     "data": {
      "image/png": "[encoded data removed]",
      "text/plain": [
       "<Figure size 432x288 with 1 Axes>"
      ]
     },
     "metadata": {},
     "output_type": "display_data"
    }
   ],
   "source": [
    "compare_omn_values = pd.DataFrame(columns = ['nutrient', 'median', 'rec_value'])\n",
    "for n in nutrient_list:\n",
    "    median, rec_value, toto = nutrient_histogram(omnivore_nutrients_df, n);\n",
    "    compare_omn_values = compare_omn_values.append({'nutrient': n, 'median':median, 'rec_value': rec_value}, \n",
    "                                           ignore_index=True)"
   ]
  },
  {
   "cell_type": "code",
   "execution_count": 51,
   "metadata": {},
   "outputs": [
    {
     "data": {
      "text/html": [
       "<div>\n",
       "<style scoped>\n",
       "    .dataframe tbody tr th:only-of-type {\n",
       "        vertical-align: middle;\n",
       "    }\n",
       "\n",
       "    .dataframe tbody tr th {\n",
       "        vertical-align: top;\n",
       "    }\n",
       "\n",
       "    .dataframe thead th {\n",
       "        text-align: right;\n",
       "    }\n",
       "</style>\n",
       "<table border=\"1\" class=\"dataframe\">\n",
       "  <thead>\n",
       "    <tr style=\"text-align: right;\">\n",
       "      <th></th>\n",
       "      <th>nutrient</th>\n",
       "      <th>median</th>\n",
       "      <th>rec_value</th>\n",
       "    </tr>\n",
       "  </thead>\n",
       "  <tbody>\n",
       "    <tr>\n",
       "      <th>0</th>\n",
       "      <td>Total Fat</td>\n",
       "      <td>15.8</td>\n",
       "      <td>26.000000</td>\n",
       "    </tr>\n",
       "    <tr>\n",
       "      <th>1</th>\n",
       "      <td>Saturated Fat</td>\n",
       "      <td>5.0</td>\n",
       "      <td>6.666667</td>\n",
       "    </tr>\n",
       "    <tr>\n",
       "      <th>2</th>\n",
       "      <td>Cholesterol</td>\n",
       "      <td>51.0</td>\n",
       "      <td>100.000000</td>\n",
       "    </tr>\n",
       "    <tr>\n",
       "      <th>3</th>\n",
       "      <td>Sodium</td>\n",
       "      <td>533.5</td>\n",
       "      <td>500.000000</td>\n",
       "    </tr>\n",
       "    <tr>\n",
       "      <th>4</th>\n",
       "      <td>Potassium</td>\n",
       "      <td>370.0</td>\n",
       "      <td>1566.666667</td>\n",
       "    </tr>\n",
       "    <tr>\n",
       "      <th>5</th>\n",
       "      <td>Total Carbohydrates</td>\n",
       "      <td>25.8</td>\n",
       "      <td>91.666667</td>\n",
       "    </tr>\n",
       "    <tr>\n",
       "      <th>6</th>\n",
       "      <td>Dietary Fiber</td>\n",
       "      <td>2.2</td>\n",
       "      <td>9.333333</td>\n",
       "    </tr>\n",
       "    <tr>\n",
       "      <th>7</th>\n",
       "      <td>Protein</td>\n",
       "      <td>12.6</td>\n",
       "      <td>16.666667</td>\n",
       "    </tr>\n",
       "    <tr>\n",
       "      <th>8</th>\n",
       "      <td>Sugars</td>\n",
       "      <td>5.0</td>\n",
       "      <td>91.666667</td>\n",
       "    </tr>\n",
       "    <tr>\n",
       "      <th>9</th>\n",
       "      <td>Vitamin C</td>\n",
       "      <td>7.0</td>\n",
       "      <td>30.000000</td>\n",
       "    </tr>\n",
       "    <tr>\n",
       "      <th>10</th>\n",
       "      <td>Calcium</td>\n",
       "      <td>84.0</td>\n",
       "      <td>433.333333</td>\n",
       "    </tr>\n",
       "    <tr>\n",
       "      <th>11</th>\n",
       "      <td>Iron</td>\n",
       "      <td>2.0</td>\n",
       "      <td>6.000000</td>\n",
       "    </tr>\n",
       "    <tr>\n",
       "      <th>12</th>\n",
       "      <td>Thiamin</td>\n",
       "      <td>0.0</td>\n",
       "      <td>0.400000</td>\n",
       "    </tr>\n",
       "    <tr>\n",
       "      <th>13</th>\n",
       "      <td>Niacin</td>\n",
       "      <td>4.0</td>\n",
       "      <td>5.333333</td>\n",
       "    </tr>\n",
       "    <tr>\n",
       "      <th>14</th>\n",
       "      <td>Vitamin B6</td>\n",
       "      <td>0.0</td>\n",
       "      <td>0.566667</td>\n",
       "    </tr>\n",
       "    <tr>\n",
       "      <th>15</th>\n",
       "      <td>Magnesium</td>\n",
       "      <td>36.0</td>\n",
       "      <td>133.333333</td>\n",
       "    </tr>\n",
       "    <tr>\n",
       "      <th>16</th>\n",
       "      <td>Folate</td>\n",
       "      <td>42.5</td>\n",
       "      <td>133.333333</td>\n",
       "    </tr>\n",
       "  </tbody>\n",
       "</table>\n",
       "</div>"
      ],
      "text/plain": [
       "               nutrient  median    rec_value\n",
       "0             Total Fat    15.8    26.000000\n",
       "1         Saturated Fat     5.0     6.666667\n",
       "2           Cholesterol    51.0   100.000000\n",
       "3                Sodium   533.5   500.000000\n",
       "4             Potassium   370.0  1566.666667\n",
       "5   Total Carbohydrates    25.8    91.666667\n",
       "6         Dietary Fiber     2.2     9.333333\n",
       "7               Protein    12.6    16.666667\n",
       "8                Sugars     5.0    91.666667\n",
       "9             Vitamin C     7.0    30.000000\n",
       "10              Calcium    84.0   433.333333\n",
       "11                 Iron     2.0     6.000000\n",
       "12              Thiamin     0.0     0.400000\n",
       "13               Niacin     4.0     5.333333\n",
       "14           Vitamin B6     0.0     0.566667\n",
       "15            Magnesium    36.0   133.333333\n",
       "16               Folate    42.5   133.333333"
      ]
     },
     "execution_count": 51,
     "metadata": {},
     "output_type": "execute_result"
    }
   ],
   "source": [
    "compare_omn_values"
   ]
  },
  {
   "cell_type": "code",
   "execution_count": null,
   "metadata": {},
   "outputs": [],
   "source": []
  }
 ],
 "metadata": {
  "kernelspec": {
   "display_name": "Python 3",
   "language": "python",
   "name": "python3"
  },
  "language_info": {
   "codemirror_mode": {
    "name": "ipython",
    "version": 3
   },
   "file_extension": ".py",
   "mimetype": "text/x-python",
   "name": "python",
   "nbconvert_exporter": "python",
   "pygments_lexer": "ipython3",
   "version": "3.6.5"
  }
 },
 "nbformat": 4,
 "nbformat_minor": 2
}
