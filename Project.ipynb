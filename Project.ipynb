{
 "cells": [
  {
   "cell_type": "code",
   "execution_count": null,
   "metadata": {},
   "outputs": [],
   "source": [
    "#Testing web scraping\n",
    "\n",
    "#For single recipe, taking nutrient info"
   ]
  },
  {
   "cell_type": "code",
   "execution_count": 37,
   "metadata": {},
   "outputs": [],
   "source": [
    "import requests\n",
    "from bs4 import BeautifulSoup\n",
    "\n",
    "import pandas as pd"
   ]
  },
  {
   "cell_type": "code",
   "execution_count": 20,
   "metadata": {},
   "outputs": [
    {
     "name": "stdout",
     "output_type": "stream",
     "text": [
      "Response body: \r\n",
      "<div class=\"recipe-nutrition\">\r\n",
      "    <h1 class=\"nutrition_h1\">Nutritional Information</h1>\r\n",
      "    <h2>Sweet Potato Casserole II</h2>\r\n",
      "    <div class=\"nutrition-top light-underline\">\r\n",
      "\r\n",
      "        Servings Per Recipe: 16<br />\r\n",
      "        <span class=\"semi-bold\">Amount Per Serving</span><br />\r\n",
      "            <span class=\"semi-bold\">Calories:</span> 309<br />\r\n",
      "    </div>\r\n",
      "    <div class=\"nutrition-body-label\">% Daily Value *</div>\r\n",
      "    <div class=\"nutrition-body\">\r\n",
      "        <div class=\"nutrition-row\">\r\n",
      "            <span class=\"nutrient-name\">Total Fat: <span aria-label=\"15.3 grams\"></span><span class=\"nutrient-value\" aria-hidden=\"true\">15.3g</span></span>\r\n",
      "                <span class=\"daily-value\">24 %</span>\r\n",
      "        </div>\r\n",
      "                <div class=\"nutrition-row\">\r\n",
      "            <span class=\"nutrient-name indent\">Saturated Fat: <span aria-label=\"7.0 grams\"></span><span class=\"nutrient-value\" aria-hidden=\"true\">7.0g</span></span>\r\n",
      "        </div>\r\n",
      "                <div class=\"nutrition-row\">\r\n",
      "            <span class=\"nutrient-name\">Cholesterol: <span aria-label=\"49 milligrams\"></span><span class=\"nutrient-value\" aria-hidden=\"true\">49mg</span></span>\r\n",
      "                <span class=\"daily-value\">16 %</span>\r\n",
      "        </div>\r\n",
      "                <div class=\"nutrition-row\">\r\n",
      "            <span class=\"nutrient-name\">Sodium: <span aria-label=\"103 milligrams\"></span><span class=\"nutrient-value\" aria-hidden=\"true\">103mg</span></span>\r\n",
      "                <span class=\"daily-value\">4 %</span>\r\n",
      "        </div>\r\n",
      "                <div class=\"nutrition-row\">\r\n",
      "            <span class=\"nutrient-name\">Potassium: <span aria-label=\"337 milligrams\"></span><span class=\"nutrient-value\" aria-hidden=\"true\">337mg</span></span>\r\n",
      "                <span class=\"daily-value\">9 %</span>\r\n",
      "        </div>\r\n",
      "                <div class=\"nutrition-row\">\r\n",
      "            <span class=\"nutrient-name\">Total Carbohydrates: <span aria-label=\"41.9 grams\"></span><span class=\"nutrient-value\" aria-hidden=\"true\">41.9g</span></span>\r\n",
      "                <span class=\"daily-value\">14 %</span>\r\n",
      "        </div>\r\n",
      "                <div class=\"nutrition-row\">\r\n",
      "            <span class=\"nutrient-name indent\">Dietary Fiber: <span aria-label=\"2.6 grams\"></span><span class=\"nutrient-value\" aria-hidden=\"true\">2.6g</span></span>\r\n",
      "                <span class=\"daily-value\">10 %</span>\r\n",
      "        </div>\r\n",
      "                <div class=\"nutrition-row\">\r\n",
      "            <span class=\"nutrient-name\">Protein: <span aria-label=\"3.2 grams\"></span><span class=\"nutrient-value\" aria-hidden=\"true\">3.2g</span></span>\r\n",
      "                <span class=\"daily-value\">6 %</span>\r\n",
      "        </div>\r\n",
      "                <div class=\"nutrition-row\">\r\n",
      "            <span class=\"nutrient-name\">Sugars: <span aria-label=\"30 grams\"></span><span class=\"nutrient-value\" aria-hidden=\"true\">30g</span></span>\r\n",
      "        </div>\r\n",
      "                <div class=\"nutrition-row\">\r\n",
      "            <span class=\"nutrient-name\">Vitamin A: <span aria-label=\"11149 IU\"></span><span class=\"nutrient-value\" aria-hidden=\"true\">11149IU</span></span>\r\n",
      "        </div>\r\n",
      "                <div class=\"nutrition-row\">\r\n",
      "            <span class=\"nutrient-name\">Vitamin C: <span aria-label=\"11 milligrams\"></span><span class=\"nutrient-value\" aria-hidden=\"true\">11mg</span></span>\r\n",
      "        </div>\r\n",
      "                <div class=\"nutrition-row\">\r\n",
      "            <span class=\"nutrient-name\">Calcium: <span aria-label=\"50 milligrams\"></span><span class=\"nutrient-value\" aria-hidden=\"true\">50mg</span></span>\r\n",
      "        </div>\r\n",
      "                <div class=\"nutrition-row\">\r\n",
      "            <span class=\"nutrient-name\">Iron: <span aria-label=\"1 milligram\"></span><span class=\"nutrient-value\" aria-hidden=\"true\">1mg</span></span>\r\n",
      "        </div>\r\n",
      "                <div class=\"nutrition-row\">\r\n",
      "            <span class=\"nutrient-name\">Thiamin: <span aria-label=\"0 milligrams\"></span><span class=\"nutrient-value\" aria-hidden=\"true\">0mg</span></span>\r\n",
      "        </div>\r\n",
      "                <div class=\"nutrition-row\">\r\n",
      "            <span class=\"nutrient-name\">Niacin: <span aria-label=\"2 milligrams\"></span><span class=\"nutrient-value\" aria-hidden=\"true\">2mg</span></span>\r\n",
      "        </div>\r\n",
      "                <div class=\"nutrition-row\">\r\n",
      "            <span class=\"nutrient-name\">Vitamin B6: <span aria-label=\"0 milligrams\"></span><span class=\"nutrient-value\" aria-hidden=\"true\">0mg</span></span>\r\n",
      "        </div>\r\n",
      "                <div class=\"nutrition-row\">\r\n",
      "            <span class=\"nutrient-name\">Magnesium: <span aria-label=\"27 milligrams\"></span><span class=\"nutrient-value\" aria-hidden=\"true\">27mg</span></span>\r\n",
      "        </div>\r\n",
      "                <div class=\"nutrition-row\">\r\n",
      "            <span class=\"nutrient-name\">Folate: <span aria-label=\"16 mcg\"></span><span class=\"nutrient-value\" aria-hidden=\"true\">16mcg</span></span>\r\n",
      "        </div>\r\n",
      "    </div>\r\n",
      "\r\n",
      "    <div class=\"nutrition-bottom\">\r\n",
      "        <div class=\"nutrition-bottom-row\">\r\n",
      "            <span class=\"note-identifier\">*</span><span class=\"note-description\">Percent Daily Values are based on a 2,000 calorie diet.  Your daily values may be higher or lower depending on your calorie needs.</span>\r\n",
      "        </div>\r\n",
      "        <div class=\"nutrition-bottom-row\">\r\n",
      "            <span class=\"note-identifier\">**</span><span class=\"note-description\">Nutrient information is not available for all ingredients.  Amount is based on available nutrient data.</span>\r\n",
      "        </div>\r\n",
      "        <div class=\"nutrition-bottom-row\">\r\n",
      "            <span class=\"note-identifier\">(-)</span><span class=\"note-description\">Information is not currently available for this nutrient.  If you are following a medically restrictive diet, please consult your doctor or registered dietitian before preparing this recipe for personal consumption.</span>\r\n",
      "        </div>\r\n",
      "    </div>\r\n",
      "    <p class=\"about\">Powered by the ESHA Research Database &copy; 2018, <br /><a href=\"https://www.esha.com/\" target=\"_blank\">ESHA Research, Inc.</a> All Rights Reserved</p>\r\n",
      "</div>\r\n",
      "\r\n",
      "<link href='https://secureimages.allrecipes.com/assets/deployables/v-1.161.0.4953/full-nutrition-css.bundled.Css' rel='stylesheet'/>\r\n",
      "\n"
     ]
    }
   ],
   "source": [
    "r = requests.get('https://www.allrecipes.com/recipe/18057/sweet-potato-casserole-ii/fullrecipenutrition')\n",
    "print('Response body: {0}'.format(r.text))"
   ]
  },
  {
   "cell_type": "code",
   "execution_count": null,
   "metadata": {},
   "outputs": [],
   "source": []
  },
  {
   "cell_type": "code",
   "execution_count": 81,
   "metadata": {},
   "outputs": [],
   "source": [
    "page_body = r.text\n",
    "soup = BeautifulSoup(page_body, 'html.parser')"
   ]
  },
  {
   "cell_type": "code",
   "execution_count": null,
   "metadata": {},
   "outputs": [],
   "source": []
  },
  {
   "cell_type": "code",
   "execution_count": null,
   "metadata": {},
   "outputs": [],
   "source": []
  },
  {
   "cell_type": "code",
   "execution_count": 82,
   "metadata": {},
   "outputs": [],
   "source": [
    "nutrition_info = soup.find_all('div', class_='nutrition-row')"
   ]
  },
  {
   "cell_type": "code",
   "execution_count": 83,
   "metadata": {},
   "outputs": [
    {
     "data": {
      "text/plain": [
       "[<div class=\"nutrition-row\">\n",
       " <span class=\"nutrient-name\">Total Fat: <span aria-label=\"15.3 grams\"></span><span aria-hidden=\"true\" class=\"nutrient-value\">15.3g</span></span>\n",
       " <span class=\"daily-value\">24 %</span>\n",
       " </div>, <div class=\"nutrition-row\">\n",
       " <span class=\"nutrient-name indent\">Saturated Fat: <span aria-label=\"7.0 grams\"></span><span aria-hidden=\"true\" class=\"nutrient-value\">7.0g</span></span>\n",
       " </div>, <div class=\"nutrition-row\">\n",
       " <span class=\"nutrient-name\">Cholesterol: <span aria-label=\"49 milligrams\"></span><span aria-hidden=\"true\" class=\"nutrient-value\">49mg</span></span>\n",
       " <span class=\"daily-value\">16 %</span>\n",
       " </div>, <div class=\"nutrition-row\">\n",
       " <span class=\"nutrient-name\">Sodium: <span aria-label=\"103 milligrams\"></span><span aria-hidden=\"true\" class=\"nutrient-value\">103mg</span></span>\n",
       " <span class=\"daily-value\">4 %</span>\n",
       " </div>, <div class=\"nutrition-row\">\n",
       " <span class=\"nutrient-name\">Potassium: <span aria-label=\"337 milligrams\"></span><span aria-hidden=\"true\" class=\"nutrient-value\">337mg</span></span>\n",
       " <span class=\"daily-value\">9 %</span>\n",
       " </div>, <div class=\"nutrition-row\">\n",
       " <span class=\"nutrient-name\">Total Carbohydrates: <span aria-label=\"41.9 grams\"></span><span aria-hidden=\"true\" class=\"nutrient-value\">41.9g</span></span>\n",
       " <span class=\"daily-value\">14 %</span>\n",
       " </div>, <div class=\"nutrition-row\">\n",
       " <span class=\"nutrient-name indent\">Dietary Fiber: <span aria-label=\"2.6 grams\"></span><span aria-hidden=\"true\" class=\"nutrient-value\">2.6g</span></span>\n",
       " <span class=\"daily-value\">10 %</span>\n",
       " </div>, <div class=\"nutrition-row\">\n",
       " <span class=\"nutrient-name\">Protein: <span aria-label=\"3.2 grams\"></span><span aria-hidden=\"true\" class=\"nutrient-value\">3.2g</span></span>\n",
       " <span class=\"daily-value\">6 %</span>\n",
       " </div>, <div class=\"nutrition-row\">\n",
       " <span class=\"nutrient-name\">Sugars: <span aria-label=\"30 grams\"></span><span aria-hidden=\"true\" class=\"nutrient-value\">30g</span></span>\n",
       " </div>, <div class=\"nutrition-row\">\n",
       " <span class=\"nutrient-name\">Vitamin A: <span aria-label=\"11149 IU\"></span><span aria-hidden=\"true\" class=\"nutrient-value\">11149IU</span></span>\n",
       " </div>, <div class=\"nutrition-row\">\n",
       " <span class=\"nutrient-name\">Vitamin C: <span aria-label=\"11 milligrams\"></span><span aria-hidden=\"true\" class=\"nutrient-value\">11mg</span></span>\n",
       " </div>, <div class=\"nutrition-row\">\n",
       " <span class=\"nutrient-name\">Calcium: <span aria-label=\"50 milligrams\"></span><span aria-hidden=\"true\" class=\"nutrient-value\">50mg</span></span>\n",
       " </div>, <div class=\"nutrition-row\">\n",
       " <span class=\"nutrient-name\">Iron: <span aria-label=\"1 milligram\"></span><span aria-hidden=\"true\" class=\"nutrient-value\">1mg</span></span>\n",
       " </div>, <div class=\"nutrition-row\">\n",
       " <span class=\"nutrient-name\">Thiamin: <span aria-label=\"0 milligrams\"></span><span aria-hidden=\"true\" class=\"nutrient-value\">0mg</span></span>\n",
       " </div>, <div class=\"nutrition-row\">\n",
       " <span class=\"nutrient-name\">Niacin: <span aria-label=\"2 milligrams\"></span><span aria-hidden=\"true\" class=\"nutrient-value\">2mg</span></span>\n",
       " </div>, <div class=\"nutrition-row\">\n",
       " <span class=\"nutrient-name\">Vitamin B6: <span aria-label=\"0 milligrams\"></span><span aria-hidden=\"true\" class=\"nutrient-value\">0mg</span></span>\n",
       " </div>, <div class=\"nutrition-row\">\n",
       " <span class=\"nutrient-name\">Magnesium: <span aria-label=\"27 milligrams\"></span><span aria-hidden=\"true\" class=\"nutrient-value\">27mg</span></span>\n",
       " </div>, <div class=\"nutrition-row\">\n",
       " <span class=\"nutrient-name\">Folate: <span aria-label=\"16 mcg\"></span><span aria-hidden=\"true\" class=\"nutrient-value\">16mcg</span></span>\n",
       " </div>]"
      ]
     },
     "execution_count": 83,
     "metadata": {},
     "output_type": "execute_result"
    }
   ],
   "source": [
    "nutrition_info"
   ]
  },
  {
   "cell_type": "code",
   "execution_count": 84,
   "metadata": {},
   "outputs": [
    {
     "data": {
      "text/html": [
       "<div>\n",
       "<style scoped>\n",
       "    .dataframe tbody tr th:only-of-type {\n",
       "        vertical-align: middle;\n",
       "    }\n",
       "\n",
       "    .dataframe tbody tr th {\n",
       "        vertical-align: top;\n",
       "    }\n",
       "\n",
       "    .dataframe thead th {\n",
       "        text-align: right;\n",
       "    }\n",
       "</style>\n",
       "<table border=\"1\" class=\"dataframe\">\n",
       "  <thead>\n",
       "    <tr style=\"text-align: right;\">\n",
       "      <th></th>\n",
       "      <th>amount</th>\n",
       "      <th>nutrient</th>\n",
       "      <th>recipe</th>\n",
       "    </tr>\n",
       "  </thead>\n",
       "  <tbody>\n",
       "    <tr>\n",
       "      <th>0</th>\n",
       "      <td>15.3g</td>\n",
       "      <td>Total Fat</td>\n",
       "      <td>Sweet Potato Casserole II</td>\n",
       "    </tr>\n",
       "    <tr>\n",
       "      <th>1</th>\n",
       "      <td>7.0g</td>\n",
       "      <td>Saturated Fat</td>\n",
       "      <td>Sweet Potato Casserole II</td>\n",
       "    </tr>\n",
       "    <tr>\n",
       "      <th>2</th>\n",
       "      <td>49mg</td>\n",
       "      <td>Cholesterol</td>\n",
       "      <td>Sweet Potato Casserole II</td>\n",
       "    </tr>\n",
       "    <tr>\n",
       "      <th>3</th>\n",
       "      <td>103mg</td>\n",
       "      <td>Sodium</td>\n",
       "      <td>Sweet Potato Casserole II</td>\n",
       "    </tr>\n",
       "    <tr>\n",
       "      <th>4</th>\n",
       "      <td>337mg</td>\n",
       "      <td>Potassium</td>\n",
       "      <td>Sweet Potato Casserole II</td>\n",
       "    </tr>\n",
       "  </tbody>\n",
       "</table>\n",
       "</div>"
      ],
      "text/plain": [
       "  amount       nutrient                     recipe\n",
       "0  15.3g      Total Fat  Sweet Potato Casserole II\n",
       "1   7.0g  Saturated Fat  Sweet Potato Casserole II\n",
       "2   49mg    Cholesterol  Sweet Potato Casserole II\n",
       "3  103mg         Sodium  Sweet Potato Casserole II\n",
       "4  337mg      Potassium  Sweet Potato Casserole II"
      ]
     },
     "execution_count": 84,
     "metadata": {},
     "output_type": "execute_result"
    }
   ],
   "source": [
    "nutrient_list = []\n",
    "for n in nutrition_info:\n",
    "    recipe = soup.find('h2').text\n",
    "    name = n.find(class_ = 'nutrient-name').text\n",
    "    amount = n.find(class_ = 'nutrient-value').text\n",
    "    name = name[:name.index(':')]\n",
    "    nutrient_list.append({'nutrient': name, 'amount': amount, 'recipe': recipe})\n",
    "nutrients = pd.DataFrame(nutrient_list)\n",
    "\n",
    "nutrients.head()"
   ]
  },
  {
   "cell_type": "code",
   "execution_count": null,
   "metadata": {},
   "outputs": [],
   "source": []
  },
  {
   "cell_type": "code",
   "execution_count": null,
   "metadata": {},
   "outputs": [],
   "source": []
  }
 ],
 "metadata": {
  "kernelspec": {
   "display_name": "Python 3",
   "language": "python",
   "name": "python3"
  },
  "language_info": {
   "codemirror_mode": {
    "name": "ipython",
    "version": 3
   },
   "file_extension": ".py",
   "mimetype": "text/x-python",
   "name": "python",
   "nbconvert_exporter": "python",
   "pygments_lexer": "ipython3",
   "version": "3.6.5"
  }
 },
 "nbformat": 4,
 "nbformat_minor": 2
}
