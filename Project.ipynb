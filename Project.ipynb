{
 "cells": [
  {
   "cell_type": "code",
   "execution_count": null,
   "metadata": {},
   "outputs": [],
   "source": [
    "#TESTING WEB SCRAPING\n",
    "\n",
    "#For single recipe, taking nutrient info"
   ]
  },
  {
   "cell_type": "code",
   "execution_count": 37,
   "metadata": {},
   "outputs": [],
   "source": [
    "import requests\n",
    "from bs4 import BeautifulSoup\n",
    "\n",
    "import pandas as pd"
   ]
  },
  {
   "cell_type": "code",
   "execution_count": 162,
   "metadata": {
    "scrolled": true
   },
   "outputs": [],
   "source": [
    "url = 'https://www.allrecipes.com/recipe/18057/sweet-potato-casserole-ii/'\n",
    "url1 = url + 'fullrecipenutrition'\n",
    "r = requests.get(url1)\n",
    "#print('Response body: {0}'.format(r.text))"
   ]
  },
  {
   "cell_type": "code",
   "execution_count": null,
   "metadata": {},
   "outputs": [],
   "source": []
  },
  {
   "cell_type": "code",
   "execution_count": 81,
   "metadata": {},
   "outputs": [],
   "source": [
    "page_body = r.text\n",
    "soup = BeautifulSoup(page_body, 'html.parser')"
   ]
  },
  {
   "cell_type": "code",
   "execution_count": null,
   "metadata": {},
   "outputs": [],
   "source": []
  },
  {
   "cell_type": "code",
   "execution_count": null,
   "metadata": {},
   "outputs": [],
   "source": []
  },
  {
   "cell_type": "code",
   "execution_count": 82,
   "metadata": {},
   "outputs": [],
   "source": [
    "#this is the div containing all the nutrition information\n",
    "nutrition_info = soup.find_all('div', class_='nutrition-row')"
   ]
  },
  {
   "cell_type": "code",
   "execution_count": 163,
   "metadata": {
    "scrolled": true
   },
   "outputs": [],
   "source": [
    "#nutrition_info"
   ]
  },
  {
   "cell_type": "code",
   "execution_count": 164,
   "metadata": {},
   "outputs": [
    {
     "data": {
      "text/html": [
       "<div>\n",
       "<style scoped>\n",
       "    .dataframe tbody tr th:only-of-type {\n",
       "        vertical-align: middle;\n",
       "    }\n",
       "\n",
       "    .dataframe tbody tr th {\n",
       "        vertical-align: top;\n",
       "    }\n",
       "\n",
       "    .dataframe thead th {\n",
       "        text-align: right;\n",
       "    }\n",
       "</style>\n",
       "<table border=\"1\" class=\"dataframe\">\n",
       "  <thead>\n",
       "    <tr style=\"text-align: right;\">\n",
       "      <th></th>\n",
       "      <th>URL</th>\n",
       "      <th>amount</th>\n",
       "      <th>nutrient</th>\n",
       "      <th>recipe</th>\n",
       "    </tr>\n",
       "  </thead>\n",
       "  <tbody>\n",
       "    <tr>\n",
       "      <th>0</th>\n",
       "      <td>https://www.allrecipes.com/recipe/18057/sweet-...</td>\n",
       "      <td>15.3g</td>\n",
       "      <td>Total Fat</td>\n",
       "      <td>Sweet Potato Casserole II</td>\n",
       "    </tr>\n",
       "    <tr>\n",
       "      <th>1</th>\n",
       "      <td>https://www.allrecipes.com/recipe/18057/sweet-...</td>\n",
       "      <td>7.0g</td>\n",
       "      <td>Saturated Fat</td>\n",
       "      <td>Sweet Potato Casserole II</td>\n",
       "    </tr>\n",
       "    <tr>\n",
       "      <th>2</th>\n",
       "      <td>https://www.allrecipes.com/recipe/18057/sweet-...</td>\n",
       "      <td>49mg</td>\n",
       "      <td>Cholesterol</td>\n",
       "      <td>Sweet Potato Casserole II</td>\n",
       "    </tr>\n",
       "    <tr>\n",
       "      <th>3</th>\n",
       "      <td>https://www.allrecipes.com/recipe/18057/sweet-...</td>\n",
       "      <td>103mg</td>\n",
       "      <td>Sodium</td>\n",
       "      <td>Sweet Potato Casserole II</td>\n",
       "    </tr>\n",
       "    <tr>\n",
       "      <th>4</th>\n",
       "      <td>https://www.allrecipes.com/recipe/18057/sweet-...</td>\n",
       "      <td>337mg</td>\n",
       "      <td>Potassium</td>\n",
       "      <td>Sweet Potato Casserole II</td>\n",
       "    </tr>\n",
       "  </tbody>\n",
       "</table>\n",
       "</div>"
      ],
      "text/plain": [
       "                                                 URL amount       nutrient  \\\n",
       "0  https://www.allrecipes.com/recipe/18057/sweet-...  15.3g      Total Fat   \n",
       "1  https://www.allrecipes.com/recipe/18057/sweet-...   7.0g  Saturated Fat   \n",
       "2  https://www.allrecipes.com/recipe/18057/sweet-...   49mg    Cholesterol   \n",
       "3  https://www.allrecipes.com/recipe/18057/sweet-...  103mg         Sodium   \n",
       "4  https://www.allrecipes.com/recipe/18057/sweet-...  337mg      Potassium   \n",
       "\n",
       "                      recipe  \n",
       "0  Sweet Potato Casserole II  \n",
       "1  Sweet Potato Casserole II  \n",
       "2  Sweet Potato Casserole II  \n",
       "3  Sweet Potato Casserole II  \n",
       "4  Sweet Potato Casserole II  "
      ]
     },
     "execution_count": 164,
     "metadata": {},
     "output_type": "execute_result"
    }
   ],
   "source": [
    "nutrient_list = []\n",
    "recipe = soup.find('h2').text\n",
    "for n in nutrition_info:\n",
    "    name = n.find(class_ = 'nutrient-name').text\n",
    "    amount = n.find(class_ = 'nutrient-value').text\n",
    "    name = name[:name.index(':')]\n",
    "    nutrient_list.append({'nutrient': name, 'amount': amount, 'recipe': recipe, 'URL': url})\n",
    "nutrients = pd.DataFrame(nutrient_list)\n",
    "\n",
    "nutrients.head()"
   ]
  },
  {
   "cell_type": "code",
   "execution_count": null,
   "metadata": {},
   "outputs": [],
   "source": [
    "# & ingredients"
   ]
  },
  {
   "cell_type": "code",
   "execution_count": 157,
   "metadata": {},
   "outputs": [],
   "source": [
    "s = requests.get(url)"
   ]
  },
  {
   "cell_type": "code",
   "execution_count": 158,
   "metadata": {},
   "outputs": [],
   "source": [
    "page_body2 = s.text\n",
    "soup2 = BeautifulSoup(page_body2, 'html.parser')"
   ]
  },
  {
   "cell_type": "code",
   "execution_count": 165,
   "metadata": {
    "scrolled": true
   },
   "outputs": [],
   "source": [
    "ingredient_info = soup2.find_all(class_='recipe-container-outer')\n",
    "#ingredient_info"
   ]
  },
  {
   "cell_type": "code",
   "execution_count": 161,
   "metadata": {},
   "outputs": [
    {
     "data": {
      "text/html": [
       "<div>\n",
       "<style scoped>\n",
       "    .dataframe tbody tr th:only-of-type {\n",
       "        vertical-align: middle;\n",
       "    }\n",
       "\n",
       "    .dataframe tbody tr th {\n",
       "        vertical-align: top;\n",
       "    }\n",
       "\n",
       "    .dataframe thead th {\n",
       "        text-align: right;\n",
       "    }\n",
       "</style>\n",
       "<table border=\"1\" class=\"dataframe\">\n",
       "  <thead>\n",
       "    <tr style=\"text-align: right;\">\n",
       "      <th></th>\n",
       "      <th>URL</th>\n",
       "      <th>ingredient</th>\n",
       "    </tr>\n",
       "  </thead>\n",
       "  <tbody>\n",
       "    <tr>\n",
       "      <th>0</th>\n",
       "      <td>https://www.allrecipes.com/recipe/18057/sweet-...</td>\n",
       "      <td>4 1/2 cups cooked and mashed sweet potatoes</td>\n",
       "    </tr>\n",
       "    <tr>\n",
       "      <th>1</th>\n",
       "      <td>https://www.allrecipes.com/recipe/18057/sweet-...</td>\n",
       "      <td>1/2 cup butter, melted</td>\n",
       "    </tr>\n",
       "    <tr>\n",
       "      <th>2</th>\n",
       "      <td>https://www.allrecipes.com/recipe/18057/sweet-...</td>\n",
       "      <td>1/3 cup milk</td>\n",
       "    </tr>\n",
       "    <tr>\n",
       "      <th>3</th>\n",
       "      <td>https://www.allrecipes.com/recipe/18057/sweet-...</td>\n",
       "      <td>1 cup white sugar</td>\n",
       "    </tr>\n",
       "    <tr>\n",
       "      <th>4</th>\n",
       "      <td>https://www.allrecipes.com/recipe/18057/sweet-...</td>\n",
       "      <td>1/2 teaspoon vanilla extract</td>\n",
       "    </tr>\n",
       "  </tbody>\n",
       "</table>\n",
       "</div>"
      ],
      "text/plain": [
       "                                                 URL  \\\n",
       "0  https://www.allrecipes.com/recipe/18057/sweet-...   \n",
       "1  https://www.allrecipes.com/recipe/18057/sweet-...   \n",
       "2  https://www.allrecipes.com/recipe/18057/sweet-...   \n",
       "3  https://www.allrecipes.com/recipe/18057/sweet-...   \n",
       "4  https://www.allrecipes.com/recipe/18057/sweet-...   \n",
       "\n",
       "                                    ingredient  \n",
       "0  4 1/2 cups cooked and mashed sweet potatoes  \n",
       "1                       1/2 cup butter, melted  \n",
       "2                                 1/3 cup milk  \n",
       "3                            1 cup white sugar  \n",
       "4                 1/2 teaspoon vanilla extract  "
      ]
     },
     "execution_count": 161,
     "metadata": {},
     "output_type": "execute_result"
    }
   ],
   "source": [
    "ingredient_list = []\n",
    "for i in ingredient_info:\n",
    "    ingredients = i.find_all('span', {'itemprop':'recipeIngredient'}, class_ = 'recipe-ingred_txt added')\n",
    "    for x in ingredients:\n",
    "        ingredient_list.append({'ingredient': x.text, 'URL':url})\n",
    "\n",
    "ingredients = pd.DataFrame(ingredient_list)\n",
    "\n",
    "ingredients.head()"
   ]
  },
  {
   "cell_type": "code",
   "execution_count": null,
   "metadata": {},
   "outputs": [],
   "source": []
  }
 ],
 "metadata": {
  "kernelspec": {
   "display_name": "Python 3",
   "language": "python",
   "name": "python3"
  },
  "language_info": {
   "codemirror_mode": {
    "name": "ipython",
    "version": 3
   },
   "file_extension": ".py",
   "mimetype": "text/x-python",
   "name": "python",
   "nbconvert_exporter": "python",
   "pygments_lexer": "ipython3",
   "version": "3.6.5"
  }
 },
 "nbformat": 4,
 "nbformat_minor": 2
}
